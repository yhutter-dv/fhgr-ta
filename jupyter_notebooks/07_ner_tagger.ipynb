{
 "cells": [
  {
   "cell_type": "markdown",
   "id": "5082cfdc23c00f21",
   "metadata": {
    "collapsed": false,
    "jupyter": {
     "outputs_hidden": false
    }
   },
   "source": [
    "# Build NER Tagger from Scratch\n",
    "\n",
    "Baut auf dem Sourcecode von Sarkar auf (Ch08c), \n",
    "erweitert um eigene Ergänzungen und Anpassungen  "
   ]
  },
  {
   "cell_type": "markdown",
   "id": "68efb6f6a6eb8373",
   "metadata": {
    "collapsed": false,
    "jupyter": {
     "outputs_hidden": false
    }
   },
   "source": [
    "__Named Entity Recognition (NER)__ , also known as entity chunking/extraction , is a popular technique used in information extraction to identify and segment the named entities and classify or categorize them under various predefined classes.\n",
    "\n",
    "There are various off the shelf solutions which offer capabilities to perform named entity extraction. Yet there are times when the requirements are beyond the capabilities of off-the-shelf classifiers.\n",
    "\n",
    "In this notebook, we will go through an exercise to build our own NER using Conditional Random Fields.\n",
    "We would be utilizing ```sklearn_crfsuite``` to develop our NER.\n"
   ]
  },
  {
   "cell_type": "markdown",
   "id": "d2234db3e32c4aa2",
   "metadata": {
    "collapsed": false,
    "jupyter": {
     "outputs_hidden": false
    }
   },
   "source": [
    "The goal of a named entity recognition (NER) system is to identify all textual mentions of the named entities. This can be broken down into two sub-tasks: identifying the boundaries of the NE, and identifying its type.\n",
    "\n",
    "Named entity recognition is a task that is well-suited to the type of classifier-based approach. In particular, a tagger can be built that labels each word in a sentence using the IOB format, where chunks are labelled by their appropriate type.\n",
    "\n",
    "The IOB Tagging system contains tags of the form:\n",
    "\n",
    "B - {CHUNK_TYPE} – for the word in the Beginning chunk\n",
    "I - {CHUNK_TYPE} – for words Inside the chunk\n",
    "O – Outside any chunk\n",
    "The IOB tags are further classified into the following classes –\n",
    "\n",
    "geo = Geographical Entity\n",
    "org = Organization\n",
    "per = Person\n",
    "gpe = Geopolitical Entity\n",
    "tim = Time indicator\n",
    "art = Artifact\n",
    "eve = Event\n",
    "nat = Natural Phenomenon"
   ]
  },
  {
   "cell_type": "code",
   "execution_count": 2,
   "id": "initial_id",
   "metadata": {
    "ExecuteTime": {
     "end_time": "2023-11-23T10:20:14.683904600Z",
     "start_time": "2023-11-23T10:20:13.517820400Z"
    }
   },
   "outputs": [
    {
     "name": "stdout",
     "output_type": "stream",
     "text": [
      "<class 'pandas.core.frame.DataFrame'>\n",
      "RangeIndex: 1048575 entries, 0 to 1048574\n",
      "Data columns (total 4 columns):\n",
      " #   Column      Non-Null Count    Dtype \n",
      "---  ------      --------------    ----- \n",
      " 0   Sentence #  47959 non-null    object\n",
      " 1   Word        1048565 non-null  object\n",
      " 2   POS         1048575 non-null  object\n",
      " 3   Tag         1048575 non-null  object\n",
      "dtypes: object(4)\n",
      "memory usage: 32.0+ MB\n"
     ]
    }
   ],
   "source": [
    "import pandas as pd\n",
    "\n",
    "df = pd.read_csv(\"./ner_dataset.csv\", encoding='ISO-8859-1')\n",
    "df.info()"
   ]
  },
  {
   "cell_type": "markdown",
   "id": "302225a440527457",
   "metadata": {
    "collapsed": false,
    "jupyter": {
     "outputs_hidden": false
    }
   },
   "source": [
    "Hmm, 50'000 Sätze mit ca. 1'000'000 Wörtern. \n",
    "Wie sieht das im Dataframe aus?"
   ]
  },
  {
   "cell_type": "code",
   "execution_count": 3,
   "id": "d85ce574c3eb907a",
   "metadata": {
    "ExecuteTime": {
     "end_time": "2023-11-23T10:20:27.972630700Z",
     "start_time": "2023-11-23T10:20:27.941007100Z"
    },
    "collapsed": false,
    "jupyter": {
     "outputs_hidden": false
    }
   },
   "outputs": [
    {
     "data": {
      "text/html": [
       "<div>\n",
       "<style scoped>\n",
       "    .dataframe tbody tr th:only-of-type {\n",
       "        vertical-align: middle;\n",
       "    }\n",
       "\n",
       "    .dataframe tbody tr th {\n",
       "        vertical-align: top;\n",
       "    }\n",
       "\n",
       "    .dataframe thead th {\n",
       "        text-align: right;\n",
       "    }\n",
       "</style>\n",
       "<table border=\"1\" class=\"dataframe\">\n",
       "  <thead>\n",
       "    <tr style=\"text-align: right;\">\n",
       "      <th></th>\n",
       "      <th>Sentence #</th>\n",
       "      <th>Word</th>\n",
       "      <th>POS</th>\n",
       "      <th>Tag</th>\n",
       "    </tr>\n",
       "  </thead>\n",
       "  <tbody>\n",
       "    <tr>\n",
       "      <th>0</th>\n",
       "      <td>Sentence: 1</td>\n",
       "      <td>Thousands</td>\n",
       "      <td>NNS</td>\n",
       "      <td>O</td>\n",
       "    </tr>\n",
       "    <tr>\n",
       "      <th>1</th>\n",
       "      <td>NaN</td>\n",
       "      <td>of</td>\n",
       "      <td>IN</td>\n",
       "      <td>O</td>\n",
       "    </tr>\n",
       "    <tr>\n",
       "      <th>2</th>\n",
       "      <td>NaN</td>\n",
       "      <td>demonstrators</td>\n",
       "      <td>NNS</td>\n",
       "      <td>O</td>\n",
       "    </tr>\n",
       "    <tr>\n",
       "      <th>3</th>\n",
       "      <td>NaN</td>\n",
       "      <td>have</td>\n",
       "      <td>VBP</td>\n",
       "      <td>O</td>\n",
       "    </tr>\n",
       "    <tr>\n",
       "      <th>4</th>\n",
       "      <td>NaN</td>\n",
       "      <td>marched</td>\n",
       "      <td>VBN</td>\n",
       "      <td>O</td>\n",
       "    </tr>\n",
       "    <tr>\n",
       "      <th>5</th>\n",
       "      <td>NaN</td>\n",
       "      <td>through</td>\n",
       "      <td>IN</td>\n",
       "      <td>O</td>\n",
       "    </tr>\n",
       "    <tr>\n",
       "      <th>6</th>\n",
       "      <td>NaN</td>\n",
       "      <td>London</td>\n",
       "      <td>NNP</td>\n",
       "      <td>B-geo</td>\n",
       "    </tr>\n",
       "    <tr>\n",
       "      <th>7</th>\n",
       "      <td>NaN</td>\n",
       "      <td>to</td>\n",
       "      <td>TO</td>\n",
       "      <td>O</td>\n",
       "    </tr>\n",
       "    <tr>\n",
       "      <th>8</th>\n",
       "      <td>NaN</td>\n",
       "      <td>protest</td>\n",
       "      <td>VB</td>\n",
       "      <td>O</td>\n",
       "    </tr>\n",
       "    <tr>\n",
       "      <th>9</th>\n",
       "      <td>NaN</td>\n",
       "      <td>the</td>\n",
       "      <td>DT</td>\n",
       "      <td>O</td>\n",
       "    </tr>\n",
       "    <tr>\n",
       "      <th>10</th>\n",
       "      <td>NaN</td>\n",
       "      <td>war</td>\n",
       "      <td>NN</td>\n",
       "      <td>O</td>\n",
       "    </tr>\n",
       "    <tr>\n",
       "      <th>11</th>\n",
       "      <td>NaN</td>\n",
       "      <td>in</td>\n",
       "      <td>IN</td>\n",
       "      <td>O</td>\n",
       "    </tr>\n",
       "    <tr>\n",
       "      <th>12</th>\n",
       "      <td>NaN</td>\n",
       "      <td>Iraq</td>\n",
       "      <td>NNP</td>\n",
       "      <td>B-geo</td>\n",
       "    </tr>\n",
       "    <tr>\n",
       "      <th>13</th>\n",
       "      <td>NaN</td>\n",
       "      <td>and</td>\n",
       "      <td>CC</td>\n",
       "      <td>O</td>\n",
       "    </tr>\n",
       "    <tr>\n",
       "      <th>14</th>\n",
       "      <td>NaN</td>\n",
       "      <td>demand</td>\n",
       "      <td>VB</td>\n",
       "      <td>O</td>\n",
       "    </tr>\n",
       "    <tr>\n",
       "      <th>15</th>\n",
       "      <td>NaN</td>\n",
       "      <td>the</td>\n",
       "      <td>DT</td>\n",
       "      <td>O</td>\n",
       "    </tr>\n",
       "    <tr>\n",
       "      <th>16</th>\n",
       "      <td>NaN</td>\n",
       "      <td>withdrawal</td>\n",
       "      <td>NN</td>\n",
       "      <td>O</td>\n",
       "    </tr>\n",
       "    <tr>\n",
       "      <th>17</th>\n",
       "      <td>NaN</td>\n",
       "      <td>of</td>\n",
       "      <td>IN</td>\n",
       "      <td>O</td>\n",
       "    </tr>\n",
       "    <tr>\n",
       "      <th>18</th>\n",
       "      <td>NaN</td>\n",
       "      <td>British</td>\n",
       "      <td>JJ</td>\n",
       "      <td>B-gpe</td>\n",
       "    </tr>\n",
       "    <tr>\n",
       "      <th>19</th>\n",
       "      <td>NaN</td>\n",
       "      <td>troops</td>\n",
       "      <td>NNS</td>\n",
       "      <td>O</td>\n",
       "    </tr>\n",
       "  </tbody>\n",
       "</table>\n",
       "</div>"
      ],
      "text/plain": [
       "     Sentence #           Word  POS    Tag\n",
       "0   Sentence: 1      Thousands  NNS      O\n",
       "1           NaN             of   IN      O\n",
       "2           NaN  demonstrators  NNS      O\n",
       "3           NaN           have  VBP      O\n",
       "4           NaN        marched  VBN      O\n",
       "5           NaN        through   IN      O\n",
       "6           NaN         London  NNP  B-geo\n",
       "7           NaN             to   TO      O\n",
       "8           NaN        protest   VB      O\n",
       "9           NaN            the   DT      O\n",
       "10          NaN            war   NN      O\n",
       "11          NaN             in   IN      O\n",
       "12          NaN           Iraq  NNP  B-geo\n",
       "13          NaN            and   CC      O\n",
       "14          NaN         demand   VB      O\n",
       "15          NaN            the   DT      O\n",
       "16          NaN     withdrawal   NN      O\n",
       "17          NaN             of   IN      O\n",
       "18          NaN        British   JJ  B-gpe\n",
       "19          NaN         troops  NNS      O"
      ]
     },
     "execution_count": 3,
     "metadata": {},
     "output_type": "execute_result"
    }
   ],
   "source": [
    "df.head(20)"
   ]
  },
  {
   "cell_type": "code",
   "execution_count": 4,
   "id": "a4f8b1781fc6cce8",
   "metadata": {
    "ExecuteTime": {
     "end_time": "2023-11-23T10:21:47.236442300Z",
     "start_time": "2023-11-23T10:21:47.209715300Z"
    },
    "collapsed": false,
    "jupyter": {
     "outputs_hidden": false
    }
   },
   "outputs": [
    {
     "data": {
      "text/html": [
       "<div>\n",
       "<style scoped>\n",
       "    .dataframe tbody tr th:only-of-type {\n",
       "        vertical-align: middle;\n",
       "    }\n",
       "\n",
       "    .dataframe tbody tr th {\n",
       "        vertical-align: top;\n",
       "    }\n",
       "\n",
       "    .dataframe thead th {\n",
       "        text-align: right;\n",
       "    }\n",
       "</style>\n",
       "<table border=\"1\" class=\"dataframe\">\n",
       "  <thead>\n",
       "    <tr style=\"text-align: right;\">\n",
       "      <th></th>\n",
       "      <th>0</th>\n",
       "      <th>1</th>\n",
       "      <th>2</th>\n",
       "      <th>3</th>\n",
       "      <th>4</th>\n",
       "      <th>5</th>\n",
       "      <th>6</th>\n",
       "      <th>7</th>\n",
       "      <th>8</th>\n",
       "      <th>9</th>\n",
       "      <th>10</th>\n",
       "      <th>11</th>\n",
       "      <th>12</th>\n",
       "      <th>13</th>\n",
       "      <th>14</th>\n",
       "      <th>15</th>\n",
       "      <th>16</th>\n",
       "      <th>17</th>\n",
       "      <th>18</th>\n",
       "      <th>19</th>\n",
       "    </tr>\n",
       "  </thead>\n",
       "  <tbody>\n",
       "    <tr>\n",
       "      <th>Sentence #</th>\n",
       "      <td>Sentence: 1</td>\n",
       "      <td>NaN</td>\n",
       "      <td>NaN</td>\n",
       "      <td>NaN</td>\n",
       "      <td>NaN</td>\n",
       "      <td>NaN</td>\n",
       "      <td>NaN</td>\n",
       "      <td>NaN</td>\n",
       "      <td>NaN</td>\n",
       "      <td>NaN</td>\n",
       "      <td>NaN</td>\n",
       "      <td>NaN</td>\n",
       "      <td>NaN</td>\n",
       "      <td>NaN</td>\n",
       "      <td>NaN</td>\n",
       "      <td>NaN</td>\n",
       "      <td>NaN</td>\n",
       "      <td>NaN</td>\n",
       "      <td>NaN</td>\n",
       "      <td>NaN</td>\n",
       "    </tr>\n",
       "    <tr>\n",
       "      <th>Word</th>\n",
       "      <td>Thousands</td>\n",
       "      <td>of</td>\n",
       "      <td>demonstrators</td>\n",
       "      <td>have</td>\n",
       "      <td>marched</td>\n",
       "      <td>through</td>\n",
       "      <td>London</td>\n",
       "      <td>to</td>\n",
       "      <td>protest</td>\n",
       "      <td>the</td>\n",
       "      <td>war</td>\n",
       "      <td>in</td>\n",
       "      <td>Iraq</td>\n",
       "      <td>and</td>\n",
       "      <td>demand</td>\n",
       "      <td>the</td>\n",
       "      <td>withdrawal</td>\n",
       "      <td>of</td>\n",
       "      <td>British</td>\n",
       "      <td>troops</td>\n",
       "    </tr>\n",
       "    <tr>\n",
       "      <th>POS</th>\n",
       "      <td>NNS</td>\n",
       "      <td>IN</td>\n",
       "      <td>NNS</td>\n",
       "      <td>VBP</td>\n",
       "      <td>VBN</td>\n",
       "      <td>IN</td>\n",
       "      <td>NNP</td>\n",
       "      <td>TO</td>\n",
       "      <td>VB</td>\n",
       "      <td>DT</td>\n",
       "      <td>NN</td>\n",
       "      <td>IN</td>\n",
       "      <td>NNP</td>\n",
       "      <td>CC</td>\n",
       "      <td>VB</td>\n",
       "      <td>DT</td>\n",
       "      <td>NN</td>\n",
       "      <td>IN</td>\n",
       "      <td>JJ</td>\n",
       "      <td>NNS</td>\n",
       "    </tr>\n",
       "    <tr>\n",
       "      <th>Tag</th>\n",
       "      <td>O</td>\n",
       "      <td>O</td>\n",
       "      <td>O</td>\n",
       "      <td>O</td>\n",
       "      <td>O</td>\n",
       "      <td>O</td>\n",
       "      <td>B-geo</td>\n",
       "      <td>O</td>\n",
       "      <td>O</td>\n",
       "      <td>O</td>\n",
       "      <td>O</td>\n",
       "      <td>O</td>\n",
       "      <td>B-geo</td>\n",
       "      <td>O</td>\n",
       "      <td>O</td>\n",
       "      <td>O</td>\n",
       "      <td>O</td>\n",
       "      <td>O</td>\n",
       "      <td>B-gpe</td>\n",
       "      <td>O</td>\n",
       "    </tr>\n",
       "  </tbody>\n",
       "</table>\n",
       "</div>"
      ],
      "text/plain": [
       "                     0    1              2     3        4        5       6   \\\n",
       "Sentence #  Sentence: 1  NaN            NaN   NaN      NaN      NaN     NaN   \n",
       "Word          Thousands   of  demonstrators  have  marched  through  London   \n",
       "POS                 NNS   IN            NNS   VBP      VBN       IN     NNP   \n",
       "Tag                   O    O              O     O        O        O   B-geo   \n",
       "\n",
       "             7        8    9    10   11     12   13      14   15          16  \\\n",
       "Sentence #  NaN      NaN  NaN  NaN  NaN    NaN  NaN     NaN  NaN         NaN   \n",
       "Word         to  protest  the  war   in   Iraq  and  demand  the  withdrawal   \n",
       "POS          TO       VB   DT   NN   IN    NNP   CC      VB   DT          NN   \n",
       "Tag           O        O    O    O    O  B-geo    O       O    O           O   \n",
       "\n",
       "             17       18      19  \n",
       "Sentence #  NaN      NaN     NaN  \n",
       "Word         of  British  troops  \n",
       "POS          IN       JJ     NNS  \n",
       "Tag           O    B-gpe       O  "
      ]
     },
     "execution_count": 4,
     "metadata": {},
     "output_type": "execute_result"
    }
   ],
   "source": [
    "# übersichtlicher\n",
    "df.head(20).T"
   ]
  },
  {
   "cell_type": "code",
   "execution_count": 5,
   "id": "6460146b18a163b0",
   "metadata": {
    "ExecuteTime": {
     "end_time": "2023-11-23T10:22:16.411012900Z",
     "start_time": "2023-11-23T10:22:15.929086900Z"
    },
    "collapsed": false,
    "jupyter": {
     "outputs_hidden": false
    }
   },
   "outputs": [
    {
     "name": "stdout",
     "output_type": "stream",
     "text": [
      "<class 'pandas.core.frame.DataFrame'>\n",
      "RangeIndex: 1048575 entries, 0 to 1048574\n",
      "Data columns (total 4 columns):\n",
      " #   Column      Non-Null Count    Dtype \n",
      "---  ------      --------------    ----- \n",
      " 0   Sentence #  1048575 non-null  object\n",
      " 1   Word        1048575 non-null  object\n",
      " 2   POS         1048575 non-null  object\n",
      " 3   Tag         1048575 non-null  object\n",
      "dtypes: object(4)\n",
      "memory usage: 32.0+ MB\n"
     ]
    },
    {
     "name": "stderr",
     "output_type": "stream",
     "text": [
      "/tmp/ipykernel_21138/424092727.py:2: FutureWarning: DataFrame.fillna with 'method' is deprecated and will raise in a future version. Use obj.ffill() or obj.bfill() instead.\n",
      "  df = df.fillna(method='ffill')  # forward fill\n"
     ]
    }
   ],
   "source": [
    "# Sentence # auffüllen\n",
    "df = df.fillna(method='ffill')  # forward fill\n",
    "df.info()"
   ]
  },
  {
   "cell_type": "code",
   "execution_count": 6,
   "id": "68f4a3784960afc4",
   "metadata": {
    "ExecuteTime": {
     "end_time": "2023-11-23T10:23:14.539706600Z",
     "start_time": "2023-11-23T10:23:14.137203500Z"
    },
    "collapsed": false,
    "jupyter": {
     "outputs_hidden": false
    }
   },
   "outputs": [
    {
     "data": {
      "text/plain": [
       "(47959, 35177, 42, 17)"
      ]
     },
     "execution_count": 6,
     "metadata": {},
     "output_type": "execute_result"
    }
   ],
   "source": [
    "df['Sentence #'].nunique(), df.Word.nunique(), df.POS.nunique(), df.Tag.nunique()"
   ]
  },
  {
   "cell_type": "code",
   "execution_count": 7,
   "id": "bd9417812ad35444",
   "metadata": {
    "ExecuteTime": {
     "end_time": "2023-11-23T10:24:24.220792600Z",
     "start_time": "2023-11-23T10:24:24.167619400Z"
    },
    "collapsed": false,
    "jupyter": {
     "outputs_hidden": false
    }
   },
   "outputs": [
    {
     "data": {
      "text/plain": [
       "Tag\n",
       "O        887908\n",
       "B-geo     37644\n",
       "B-tim     20333\n",
       "B-org     20143\n",
       "I-per     17251\n",
       "B-per     16990\n",
       "I-org     16784\n",
       "B-gpe     15870\n",
       "I-geo      7414\n",
       "I-tim      6528\n",
       "B-art       402\n",
       "B-eve       308\n",
       "I-art       297\n",
       "I-eve       253\n",
       "B-nat       201\n",
       "I-gpe       198\n",
       "I-nat        51\n",
       "Name: count, dtype: int64"
      ]
     },
     "execution_count": 7,
     "metadata": {},
     "output_type": "execute_result"
    }
   ],
   "source": [
    "df.Tag.value_counts()"
   ]
  },
  {
   "cell_type": "markdown",
   "id": "1a055da1f58fa6ae",
   "metadata": {
    "collapsed": false,
    "jupyter": {
     "outputs_hidden": false
    }
   },
   "source": [
    "ungleichmässige Verteilung - was bedeutet das für das Machine Learning?"
   ]
  },
  {
   "cell_type": "markdown",
   "id": "e21e7903de499c1",
   "metadata": {
    "collapsed": false,
    "jupyter": {
     "outputs_hidden": false
    }
   },
   "source": [
    "## Conditional Random Fields\n",
    "\n",
    "HR: CRF ist besonders geeignet für Sequenz-Vorhersage, also bspw. Tagging einer Sequenz (POS, NER)\n",
    "\n",
    "As mentioned above, NER belongs to sequence modeling class of problems. There are different algorithms to tackle sequence modeling, __CRF__ or _Conditional Random Fields_ are one such example. CRFs are proven to perform extremely well on NER and related domains. In this notebook, we will attempt at developing our own NER based on CRFs.\n",
    "\n",
    "---\n",
    "\n",
    "__Question__: What is a CRF and how does it work?\n",
    "\n",
    "__Wikipedia__ :  CRF is an undirected graphical model whose nodes can be divided into exactly two disjoint sets $X$ and $Y$, the observed and output variables, respectively; the conditional distribution $p(Y|X)$ is then modeled.\n",
    "\n",
    "For more details, checkout the paper [__Conditional Random Fields: Probabilistic Models\n",
    "for Segmenting and Labeling Sequence Data__](https://repository.upenn.edu/cgi/viewcontent.cgi?article=1162&context=cis_papers)"
   ]
  },
  {
   "cell_type": "markdown",
   "id": "8c2b59383bf58244",
   "metadata": {
    "collapsed": false,
    "jupyter": {
     "outputs_hidden": false
    }
   },
   "source": [
    "## Prepare Data\n",
    "\n",
    "CRF trains upon sequence of input data to learn transitions from one state (label) to another. \n",
    "To enable such an algorithm, we need to define features which take into account different transitions. \n",
    "In the function ```word2features()``` below, we transform each word into a feature dictionary depicting the following attributes or features:\n",
    "\n",
    "+ lower case of word\n",
    "+ suffix containing last 3 characters\n",
    "+ suffix containing last 2 characters\n",
    "+ flags to determine upper-case, title-case, numeric data and POS tag\n",
    "\n",
    "We also attach attributes related to previous and next words or tags to determine beginning of sentence (BOS) or end of sentence (EOS)"
   ]
  },
  {
   "cell_type": "markdown",
   "id": "83cd046f94feb7a9",
   "metadata": {
    "collapsed": false,
    "jupyter": {
     "outputs_hidden": false
    }
   },
   "source": [
    "Anmerkung HR: diese Features sind im Englischen besser geeignet als für das Deutsche"
   ]
  },
  {
   "cell_type": "code",
   "execution_count": 8,
   "id": "688345f59e3a96b7",
   "metadata": {
    "ExecuteTime": {
     "end_time": "2023-11-23T10:34:55.262972200Z",
     "start_time": "2023-11-23T10:34:55.250111200Z"
    },
    "collapsed": false,
    "jupyter": {
     "outputs_hidden": false
    }
   },
   "outputs": [],
   "source": [
    "def word2features(sent, i):\n",
    "    word = sent[i][0]\n",
    "    postag = sent[i][1]\n",
    "\n",
    "    features = {\n",
    "        # das Wort an der aktuellen Position\n",
    "        # 'bias': 1.0, HR: scheint keine Rolle zu spielen\n",
    "        'word.lower()': word.lower(),\n",
    "        'word[-3:]': word[-3:],\n",
    "        'word[-2:]': word[-2:],\n",
    "        'word.isupper()': word.isupper(),\n",
    "        'word.istitle()': word.istitle(),\n",
    "        'word.isdigit()': word.isdigit(),\n",
    "        'postag': postag,\n",
    "        'postag[:2]': postag[:2],\n",
    "    }\n",
    "    if i > 0:\n",
    "        # das Wort davor (falls vorhanden)\n",
    "        word1 = sent[i-1][0]\n",
    "        postag1 = sent[i-1][1]\n",
    "        features.update({\n",
    "            '-1:word.lower()': word1.lower(),\n",
    "            '-1:word.istitle()': word1.istitle(),\n",
    "            '-1:word.isupper()': word1.isupper(),\n",
    "            '-1:postag': postag1,\n",
    "            '-1:postag[:2]': postag1[:2],\n",
    "        })\n",
    "    else:\n",
    "        features['BOS'] = True\n",
    "\n",
    "    if i < len(sent)-1:\n",
    "        # das Wort danach (falls vorhanden)\n",
    "        word1 = sent[i+1][0]\n",
    "        postag1 = sent[i+1][1]\n",
    "        features.update({\n",
    "            '+1:word.lower()': word1.lower(),\n",
    "            '+1:word.istitle()': word1.istitle(),\n",
    "            '+1:word.isupper()': word1.isupper(),\n",
    "            '+1:postag': postag1,\n",
    "            '+1:postag[:2]': postag1[:2],\n",
    "        })\n",
    "    else:\n",
    "        features['EOS'] = True\n",
    "\n",
    "    return features"
   ]
  },
  {
   "cell_type": "code",
   "execution_count": 9,
   "id": "cf691a27cbee24a0",
   "metadata": {
    "ExecuteTime": {
     "end_time": "2023-11-23T10:34:58.238949400Z",
     "start_time": "2023-11-23T10:34:58.210642900Z"
    },
    "collapsed": false,
    "jupyter": {
     "outputs_hidden": false
    }
   },
   "outputs": [],
   "source": [
    "def sent2features(sent):\n",
    "    return [word2features(sent, i) for i in range(len(sent))]\n",
    "\n",
    "def sent2labels(sent):\n",
    "    return [label for token, postag, label in sent]"
   ]
  },
  {
   "cell_type": "code",
   "execution_count": 10,
   "id": "96de156b6ed824aa",
   "metadata": {
    "ExecuteTime": {
     "end_time": "2023-11-23T10:36:31.325233400Z",
     "start_time": "2023-11-23T10:36:31.300015500Z"
    },
    "collapsed": false,
    "jupyter": {
     "outputs_hidden": false
    }
   },
   "outputs": [],
   "source": [
    "# Funktion zum Zusammenstellen der Werte in je einem Tripel pro Wort: (Wort, POS-Tag, NER-Tag)\n",
    "#  übergeben wird der Dataframe, mit dem Zip werden die Einzelwert-Listen zu einer Liste zusammengefasst; dann zu einem Tripel zusammengestellt\n",
    "agg_func = lambda s: [(w, p, t) for w, p, t in zip(s['Word'].values.tolist(), \n",
    "                                                   s['POS'].values.tolist(), \n",
    "                                                   s['Tag'].values.tolist())]"
   ]
  },
  {
   "cell_type": "code",
   "execution_count": 11,
   "id": "2f330560cf42723d",
   "metadata": {
    "ExecuteTime": {
     "end_time": "2023-11-23T10:37:00.779908300Z",
     "start_time": "2023-11-23T10:36:56.532025200Z"
    },
    "collapsed": false,
    "jupyter": {
     "outputs_hidden": false
    }
   },
   "outputs": [
    {
     "name": "stdout",
     "output_type": "stream",
     "text": [
      "[list([('Thousands', 'NNS', 'O'), ('of', 'IN', 'O'), ('demonstrators', 'NNS', 'O'), ('have', 'VBP', 'O'), ('marched', 'VBN', 'O'), ('through', 'IN', 'O'), ('London', 'NNP', 'B-geo'), ('to', 'TO', 'O'), ('protest', 'VB', 'O'), ('the', 'DT', 'O'), ('war', 'NN', 'O'), ('in', 'IN', 'O'), ('Iraq', 'NNP', 'B-geo'), ('and', 'CC', 'O'), ('demand', 'VB', 'O'), ('the', 'DT', 'O'), ('withdrawal', 'NN', 'O'), ('of', 'IN', 'O'), ('British', 'JJ', 'B-gpe'), ('troops', 'NNS', 'O'), ('from', 'IN', 'O'), ('that', 'DT', 'O'), ('country', 'NN', 'O'), ('.', '.', 'O')])]\n"
     ]
    }
   ],
   "source": [
    "grouped_df = df.groupby('Sentence #').apply(agg_func)  # Gruppieren anhand der Satznummer (also jeder Satz für sich)\n",
    "\n",
    "print(grouped_df[grouped_df.index == 'Sentence: 1'].values)"
   ]
  },
  {
   "cell_type": "code",
   "execution_count": 12,
   "id": "5e7a88822de0ef77",
   "metadata": {
    "ExecuteTime": {
     "end_time": "2023-11-23T10:42:08.238203600Z",
     "start_time": "2023-11-23T10:42:08.216494900Z"
    },
    "collapsed": false,
    "jupyter": {
     "outputs_hidden": false
    }
   },
   "outputs": [
    {
     "name": "stdout",
     "output_type": "stream",
     "text": [
      "<class 'pandas.core.series.Series'>\n",
      "Index: 47959 entries, Sentence: 1 to Sentence: 9999\n",
      "Series name: None\n",
      "Non-Null Count  Dtype \n",
      "--------------  ----- \n",
      "47959 non-null  object\n",
      "dtypes: object(1)\n",
      "memory usage: 749.4+ KB\n"
     ]
    }
   ],
   "source": [
    "grouped_df.info()"
   ]
  },
  {
   "cell_type": "markdown",
   "id": "8299201c6f9ebb9c",
   "metadata": {
    "collapsed": false,
    "jupyter": {
     "outputs_hidden": false
    }
   },
   "source": [
    "eine Zeile pro Satz"
   ]
  },
  {
   "cell_type": "code",
   "execution_count": 13,
   "id": "59fc9f7db2992902",
   "metadata": {
    "ExecuteTime": {
     "end_time": "2023-11-23T10:41:47.774115400Z",
     "start_time": "2023-11-23T10:41:47.732779300Z"
    },
    "collapsed": false,
    "jupyter": {
     "outputs_hidden": false
    }
   },
   "outputs": [
    {
     "data": {
      "text/plain": [
       "Sentence #\n",
       "Sentence: 1        [(Thousands, NNS, O), (of, IN, O), (demonstrat...\n",
       "Sentence: 10       [(Iranian, JJ, B-gpe), (officials, NNS, O), (s...\n",
       "Sentence: 100      [(Helicopter, NN, O), (gunships, NNS, O), (Sat...\n",
       "Sentence: 1000     [(They, PRP, O), (left, VBD, O), (after, IN, O...\n",
       "Sentence: 10000    [(U.N., NNP, B-geo), (relief, NN, O), (coordin...\n",
       "dtype: object"
      ]
     },
     "execution_count": 13,
     "metadata": {},
     "output_type": "execute_result"
    }
   ],
   "source": [
    "grouped_df.head()"
   ]
  },
  {
   "cell_type": "markdown",
   "id": "fa168f28d1d4f7bb",
   "metadata": {
    "collapsed": false,
    "jupyter": {
     "outputs_hidden": false
    }
   },
   "source": [
    "Alle Sätze in eine Liste"
   ]
  },
  {
   "cell_type": "code",
   "execution_count": 14,
   "id": "e2828899485a96d0",
   "metadata": {
    "ExecuteTime": {
     "end_time": "2023-11-23T10:44:15.512041200Z",
     "start_time": "2023-11-23T10:44:15.474099800Z"
    },
    "collapsed": false,
    "jupyter": {
     "outputs_hidden": false
    }
   },
   "outputs": [
    {
     "data": {
      "text/plain": [
       "[('Thousands', 'NNS', 'O'),\n",
       " ('of', 'IN', 'O'),\n",
       " ('demonstrators', 'NNS', 'O'),\n",
       " ('have', 'VBP', 'O'),\n",
       " ('marched', 'VBN', 'O'),\n",
       " ('through', 'IN', 'O'),\n",
       " ('London', 'NNP', 'B-geo'),\n",
       " ('to', 'TO', 'O'),\n",
       " ('protest', 'VB', 'O'),\n",
       " ('the', 'DT', 'O'),\n",
       " ('war', 'NN', 'O'),\n",
       " ('in', 'IN', 'O'),\n",
       " ('Iraq', 'NNP', 'B-geo'),\n",
       " ('and', 'CC', 'O'),\n",
       " ('demand', 'VB', 'O'),\n",
       " ('the', 'DT', 'O'),\n",
       " ('withdrawal', 'NN', 'O'),\n",
       " ('of', 'IN', 'O'),\n",
       " ('British', 'JJ', 'B-gpe'),\n",
       " ('troops', 'NNS', 'O'),\n",
       " ('from', 'IN', 'O'),\n",
       " ('that', 'DT', 'O'),\n",
       " ('country', 'NN', 'O'),\n",
       " ('.', '.', 'O')]"
      ]
     },
     "execution_count": 14,
     "metadata": {},
     "output_type": "execute_result"
    }
   ],
   "source": [
    "sentences = [s for s in grouped_df]\n",
    "sentences[0]"
   ]
  },
  {
   "cell_type": "markdown",
   "id": "779a40e1c5fac437",
   "metadata": {
    "collapsed": false,
    "jupyter": {
     "outputs_hidden": false
    }
   },
   "source": [
    "Für die Sätze können die Features erstellt werden, hier ein Beispiel:"
   ]
  },
  {
   "cell_type": "code",
   "execution_count": 15,
   "id": "6d14d2a7dbf553d3",
   "metadata": {
    "ExecuteTime": {
     "end_time": "2023-11-23T10:45:46.757439400Z",
     "start_time": "2023-11-23T10:45:46.710981Z"
    },
    "collapsed": false,
    "jupyter": {
     "outputs_hidden": false
    }
   },
   "outputs": [
    {
     "data": {
      "text/plain": [
       "[{'word.lower()': 'through',\n",
       "  'word[-3:]': 'ugh',\n",
       "  'word[-2:]': 'gh',\n",
       "  'word.isupper()': False,\n",
       "  'word.istitle()': False,\n",
       "  'word.isdigit()': False,\n",
       "  'postag': 'IN',\n",
       "  'postag[:2]': 'IN',\n",
       "  'BOS': True,\n",
       "  '+1:word.lower()': 'london',\n",
       "  '+1:word.istitle()': True,\n",
       "  '+1:word.isupper()': False,\n",
       "  '+1:postag': 'NNP',\n",
       "  '+1:postag[:2]': 'NN'},\n",
       " {'word.lower()': 'london',\n",
       "  'word[-3:]': 'don',\n",
       "  'word[-2:]': 'on',\n",
       "  'word.isupper()': False,\n",
       "  'word.istitle()': True,\n",
       "  'word.isdigit()': False,\n",
       "  'postag': 'NNP',\n",
       "  'postag[:2]': 'NN',\n",
       "  '-1:word.lower()': 'through',\n",
       "  '-1:word.istitle()': False,\n",
       "  '-1:word.isupper()': False,\n",
       "  '-1:postag': 'IN',\n",
       "  '-1:postag[:2]': 'IN',\n",
       "  'EOS': True}]"
      ]
     },
     "execution_count": 15,
     "metadata": {},
     "output_type": "execute_result"
    }
   ],
   "source": [
    "sent2features(sentences[0][5:7])\n"
   ]
  },
  {
   "cell_type": "markdown",
   "id": "128719d63c286ca3",
   "metadata": {
    "collapsed": false,
    "jupyter": {
     "outputs_hidden": false
    }
   },
   "source": [
    "Dito für die Label"
   ]
  },
  {
   "cell_type": "code",
   "execution_count": 16,
   "id": "e6575db6f291b440",
   "metadata": {
    "ExecuteTime": {
     "end_time": "2023-11-23T10:47:06.026511200Z",
     "start_time": "2023-11-23T10:47:06.011041600Z"
    },
    "collapsed": false,
    "jupyter": {
     "outputs_hidden": false
    }
   },
   "outputs": [
    {
     "name": "stdout",
     "output_type": "stream",
     "text": [
      "['O', 'O', 'O', 'O', 'O', 'O', 'B-geo', 'O', 'O', 'O', 'O', 'O', 'B-geo', 'O', 'O', 'O', 'O', 'O', 'B-gpe', 'O', 'O', 'O', 'O', 'O']\n"
     ]
    }
   ],
   "source": [
    "print(sent2labels(sentences[0]))"
   ]
  },
  {
   "cell_type": "markdown",
   "id": "67a1bca9ec93532c",
   "metadata": {
    "collapsed": false,
    "jupyter": {
     "outputs_hidden": false
    }
   },
   "source": [
    "## Prepare Train and Test Datasets"
   ]
  },
  {
   "cell_type": "code",
   "execution_count": 17,
   "id": "1ef03e992d2155fe",
   "metadata": {
    "ExecuteTime": {
     "end_time": "2023-11-23T10:49:15.416092400Z",
     "start_time": "2023-11-23T10:49:12.422140400Z"
    },
    "collapsed": false,
    "jupyter": {
     "outputs_hidden": false
    }
   },
   "outputs": [
    {
     "data": {
      "text/plain": [
       "((35969,), (11990,))"
      ]
     },
     "execution_count": 17,
     "metadata": {},
     "output_type": "execute_result"
    }
   ],
   "source": [
    "from sklearn.model_selection import train_test_split\n",
    "import numpy as np\n",
    "\n",
    "X = np.array([sent2features(s) for s in sentences], dtype=object)\n",
    "Y = np.array([sent2labels(s) for s in sentences], dtype=object)\n",
    "\n",
    "X_train, X_test, y_train, y_test = train_test_split(X, Y, test_size=0.25, random_state=42)\n",
    "X_train.shape, X_test.shape"
   ]
  },
  {
   "cell_type": "code",
   "execution_count": null,
   "id": "3634d6b1279131a",
   "metadata": {
    "collapsed": false,
    "jupyter": {
     "outputs_hidden": false
    }
   },
   "outputs": [],
   "source": [
    "# !pip install sklearn-crfsuite  # nur einmal ausführen!"
   ]
  },
  {
   "cell_type": "markdown",
   "id": "4e1963233db3f990",
   "metadata": {
    "collapsed": false,
    "jupyter": {
     "outputs_hidden": false
    }
   },
   "source": [
    "# ACHTUNG\n",
    "\n",
    "Die CRF-Suite ist nicht kompatibel mit den aktuellen Versionen von SK-learn. Daher müssen im Sourcecode zwei kleine Änderungen durchgeführt werden:\n",
    "\n",
    "In der Klassendefinition von CRF (Dateiname: estimator.py) müssen in der __init__ Methode zwei Variablen ergänzt werden:\n",
    "\n",
    "       self.keep_tempfiles = keep_tempfiles\n",
    "       self.model_filename = model_filename\n",
    "\n",
    "Einfach an das Ende der Deklaration anhängen. \n",
    "\n",
    "Die Datei finden sie bei den installierten Bibliotheken oder über pycharm mit Klick auf \"CRF\", dann \"F4\" (\"Jump to Source\").\n",
    "  "
   ]
  },
  {
   "cell_type": "markdown",
   "id": "d50596d2f55b857f",
   "metadata": {
    "collapsed": false,
    "jupyter": {
     "outputs_hidden": false
    }
   },
   "source": [
    "# Train the model!\n",
    "\n",
    "Train the model using the default configurations mentioned in the [sklearn-crfsuite API docs](https://sklearn-crfsuite.readthedocs.io/en/latest/api.html)\n",
    "\n",
    "\n",
    "- __algorithm:__ the training algorithm. We use [L-BFGS](https://en.wikipedia.org/wiki/Limited-memory_BFGS) for gradient descent for optimization and getting model parameters\n",
    "- __c1:__ Coefficient for Lasso (L1) regularization\n",
    "- __c2:__ Coefficient for Ridge (L2) regularization\n",
    "- __all_possible_transitions:__ Specify whether CRFsuite generates transition features that do not even occur in the training data\n"
   ]
  },
  {
   "cell_type": "code",
   "execution_count": 18,
   "id": "6449ad416db895eb",
   "metadata": {
    "ExecuteTime": {
     "end_time": "2023-11-23T12:13:43.626328300Z",
     "start_time": "2023-11-23T12:13:43.439152900Z"
    },
    "collapsed": false,
    "jupyter": {
     "outputs_hidden": false
    }
   },
   "outputs": [],
   "source": [
    "import sklearn_crfsuite\n",
    "\n",
    "crf = sklearn_crfsuite.CRF(algorithm='lbfgs',\n",
    "                           c1=0.1,\n",
    "                           c2=0.1,\n",
    "                           max_iterations=100,\n",
    "                           all_possible_transitions=True,\n",
    "                           verbose=True)"
   ]
  },
  {
   "cell_type": "code",
   "execution_count": 19,
   "id": "12fd9928849f508b",
   "metadata": {
    "ExecuteTime": {
     "end_time": "2023-11-23T12:16:47.073200600Z",
     "start_time": "2023-11-23T12:13:44.533045900Z"
    },
    "collapsed": false,
    "jupyter": {
     "outputs_hidden": false
    }
   },
   "outputs": [
    {
     "name": "stderr",
     "output_type": "stream",
     "text": [
      "loading training data to CRFsuite: 100%|█████████████████████████████████████████████████████████████████████████████████████████████| 35969/35969 [00:04<00:00, 7982.47it/s]\n"
     ]
    },
    {
     "name": "stdout",
     "output_type": "stream",
     "text": [
      "\n",
      "Feature generation\n",
      "type: CRF1d\n",
      "feature.minfreq: 0.000000\n",
      "feature.possible_states: 0\n",
      "feature.possible_transitions: 1\n",
      "0....1....2....3....4....5....6....7....8....9....10\n",
      "Number of features: 133612\n",
      "Seconds required: 1.013\n",
      "\n",
      "L-BFGS optimization\n",
      "c1: 0.100000\n",
      "c2: 0.100000\n",
      "num_memories: 6\n",
      "max_iterations: 100\n",
      "epsilon: 0.000010\n",
      "stop: 10\n",
      "delta: 0.000010\n",
      "linesearch: MoreThuente\n",
      "linesearch.max_iterations: 20\n",
      "\n",
      "Iter 1   time=1.59  loss=1452006.34 active=132620 feature_norm=1.00\n",
      "Iter 2   time=2.35  loss=1060401.86 active=131946 feature_norm=5.56\n",
      "Iter 3   time=0.80  loss=796426.72 active=125323 feature_norm=4.88\n",
      "Iter 4   time=3.98  loss=469102.20 active=126078 feature_norm=3.95\n",
      "Iter 5   time=0.79  loss=406489.87 active=131847 feature_norm=4.75\n",
      "Iter 6   time=0.79  loss=344518.07 active=130981 feature_norm=5.02\n",
      "Iter 7   time=0.82  loss=302282.92 active=130924 feature_norm=5.68\n",
      "Iter 8   time=0.80  loss=254083.73 active=126248 feature_norm=7.16\n",
      "Iter 9   time=0.79  loss=217889.18 active=115925 feature_norm=8.90\n",
      "Iter 10  time=0.82  loss=185479.08 active=113546 feature_norm=10.48\n",
      "Iter 11  time=0.79  loss=166954.71 active=110374 feature_norm=12.13\n",
      "Iter 12  time=0.79  loss=147367.53 active=104534 feature_norm=14.40\n",
      "Iter 13  time=1.57  loss=143805.58 active=102036 feature_norm=15.87\n",
      "Iter 14  time=0.79  loss=131597.58 active=101393 feature_norm=16.47\n",
      "Iter 15  time=0.82  loss=125753.68 active=99331 feature_norm=17.52\n",
      "Iter 16  time=0.79  loss=118302.84 active=97701 feature_norm=18.57\n",
      "Iter 17  time=0.79  loss=111436.64 active=94891 feature_norm=21.02\n",
      "Iter 18  time=0.82  loss=105222.63 active=94937 feature_norm=22.25\n",
      "Iter 19  time=0.79  loss=101119.77 active=94207 feature_norm=23.70\n",
      "Iter 20  time=0.80  loss=95005.91 active=92547 feature_norm=26.48\n",
      "Iter 21  time=0.82  loss=88732.88 active=90809 feature_norm=29.65\n",
      "Iter 22  time=0.79  loss=83557.04 active=89047 feature_norm=34.08\n",
      "Iter 23  time=0.78  loss=78841.99 active=88329 feature_norm=37.80\n",
      "Iter 24  time=0.79  loss=74761.30 active=86910 feature_norm=42.48\n",
      "Iter 25  time=0.82  loss=70893.71 active=85670 feature_norm=46.14\n",
      "Iter 26  time=0.79  loss=67166.78 active=84057 feature_norm=50.93\n",
      "Iter 27  time=0.78  loss=64210.68 active=83076 feature_norm=56.09\n",
      "Iter 28  time=0.79  loss=61166.24 active=81912 feature_norm=62.72\n",
      "Iter 29  time=0.79  loss=58683.85 active=81230 feature_norm=67.49\n",
      "Iter 30  time=0.79  loss=56182.71 active=79877 feature_norm=73.26\n",
      "Iter 31  time=0.79  loss=53932.80 active=79685 feature_norm=78.23\n",
      "Iter 32  time=0.81  loss=51706.85 active=79148 feature_norm=85.04\n",
      "Iter 33  time=0.80  loss=49878.79 active=78999 feature_norm=90.18\n",
      "Iter 34  time=0.83  loss=48058.52 active=78361 feature_norm=97.86\n",
      "Iter 35  time=0.81  loss=46757.35 active=77560 feature_norm=103.25\n",
      "Iter 36  time=0.81  loss=44939.00 active=77032 feature_norm=112.06\n",
      "Iter 37  time=0.84  loss=43538.28 active=76323 feature_norm=119.96\n",
      "Iter 38  time=0.81  loss=42020.77 active=75144 feature_norm=129.44\n",
      "Iter 39  time=0.83  loss=40563.50 active=74409 feature_norm=139.44\n",
      "Iter 40  time=0.81  loss=39444.28 active=73501 feature_norm=149.05\n",
      "Iter 41  time=0.81  loss=38274.47 active=72539 feature_norm=160.57\n",
      "Iter 42  time=0.89  loss=37475.63 active=72117 feature_norm=167.23\n",
      "Iter 43  time=0.88  loss=36708.53 active=71633 feature_norm=175.39\n",
      "Iter 44  time=0.83  loss=36137.99 active=70858 feature_norm=182.16\n",
      "Iter 45  time=0.83  loss=35678.37 active=70360 feature_norm=187.31\n",
      "Iter 46  time=0.80  loss=35252.45 active=70089 feature_norm=193.60\n",
      "Iter 47  time=0.81  loss=35216.53 active=69577 feature_norm=199.24\n",
      "Iter 48  time=0.82  loss=34796.86 active=69272 feature_norm=200.94\n",
      "Iter 49  time=0.82  loss=34674.36 active=68981 feature_norm=202.59\n",
      "Iter 50  time=0.81  loss=34422.71 active=67710 feature_norm=206.66\n",
      "Iter 51  time=1.61  loss=34339.14 active=67417 feature_norm=207.28\n",
      "Iter 52  time=0.82  loss=34172.54 active=66917 feature_norm=208.69\n",
      "Iter 53  time=0.91  loss=34050.46 active=66277 feature_norm=209.44\n",
      "Iter 54  time=0.81  loss=33913.60 active=66034 feature_norm=209.56\n",
      "Iter 55  time=0.82  loss=33793.85 active=65031 feature_norm=209.87\n",
      "Iter 56  time=0.82  loss=33684.05 active=64852 feature_norm=209.99\n",
      "Iter 57  time=0.84  loss=33573.48 active=64519 feature_norm=210.12\n",
      "Iter 58  time=0.87  loss=33458.79 active=63842 feature_norm=210.66\n",
      "Iter 59  time=0.87  loss=33365.99 active=63486 feature_norm=211.51\n",
      "Iter 60  time=0.83  loss=33285.19 active=63151 feature_norm=212.16\n",
      "Iter 61  time=0.81  loss=33207.94 active=62864 feature_norm=213.18\n",
      "Iter 62  time=0.82  loss=33135.75 active=62595 feature_norm=213.86\n",
      "Iter 63  time=0.80  loss=33072.01 active=62241 feature_norm=214.72\n",
      "Iter 64  time=0.85  loss=33013.51 active=61865 feature_norm=215.36\n",
      "Iter 65  time=0.79  loss=32962.83 active=61643 feature_norm=216.05\n",
      "Iter 66  time=0.85  loss=32916.23 active=61456 feature_norm=216.53\n",
      "Iter 67  time=0.81  loss=32874.41 active=61236 feature_norm=217.06\n",
      "Iter 68  time=0.84  loss=32834.52 active=61082 feature_norm=217.35\n",
      "Iter 69  time=0.82  loss=32796.83 active=60853 feature_norm=217.70\n",
      "Iter 70  time=0.81  loss=32760.35 active=60647 feature_norm=217.90\n",
      "Iter 71  time=0.82  loss=32728.64 active=60500 feature_norm=218.14\n",
      "Iter 72  time=0.85  loss=32695.53 active=60322 feature_norm=218.23\n",
      "Iter 73  time=0.82  loss=32664.10 active=60206 feature_norm=218.37\n",
      "Iter 74  time=0.81  loss=32635.35 active=60068 feature_norm=218.41\n",
      "Iter 75  time=0.83  loss=32610.81 active=59963 feature_norm=218.51\n",
      "Iter 76  time=0.80  loss=32585.94 active=59881 feature_norm=218.50\n",
      "Iter 77  time=0.80  loss=32561.74 active=59710 feature_norm=218.53\n",
      "Iter 78  time=0.83  loss=32538.27 active=59465 feature_norm=218.49\n",
      "Iter 79  time=0.80  loss=32519.89 active=59299 feature_norm=218.53\n",
      "Iter 80  time=0.80  loss=32500.36 active=59203 feature_norm=218.51\n",
      "Iter 81  time=0.83  loss=32482.37 active=59112 feature_norm=218.54\n",
      "Iter 82  time=0.79  loss=32463.46 active=58998 feature_norm=218.53\n",
      "Iter 83  time=0.79  loss=32445.98 active=58858 feature_norm=218.59\n",
      "Iter 84  time=0.79  loss=32431.79 active=58722 feature_norm=218.59\n",
      "Iter 85  time=0.82  loss=32415.45 active=58661 feature_norm=218.68\n",
      "Iter 86  time=0.81  loss=32402.95 active=58569 feature_norm=218.69\n",
      "Iter 87  time=0.82  loss=32389.24 active=58483 feature_norm=218.76\n",
      "Iter 88  time=0.82  loss=32378.69 active=58392 feature_norm=218.78\n",
      "Iter 89  time=0.80  loss=32367.05 active=58302 feature_norm=218.90\n",
      "Iter 90  time=0.85  loss=32355.49 active=58292 feature_norm=218.92\n",
      "Iter 91  time=0.88  loss=32344.02 active=58279 feature_norm=219.02\n",
      "Iter 92  time=0.89  loss=32335.18 active=58258 feature_norm=219.06\n",
      "Iter 93  time=0.88  loss=32325.75 active=58201 feature_norm=219.15\n",
      "Iter 94  time=0.80  loss=32318.12 active=58154 feature_norm=219.21\n",
      "Iter 95  time=0.80  loss=32308.86 active=58097 feature_norm=219.32\n",
      "Iter 96  time=0.83  loss=32300.69 active=58035 feature_norm=219.38\n",
      "Iter 97  time=0.84  loss=32291.58 active=58009 feature_norm=219.48\n",
      "Iter 98  time=0.85  loss=32285.13 active=57960 feature_norm=219.54\n",
      "Iter 99  time=0.87  loss=32276.97 active=57921 feature_norm=219.64\n",
      "Iter 100 time=0.88  loss=32270.87 active=57891 feature_norm=219.71\n",
      "L-BFGS terminated with the maximum number of iterations\n",
      "Total seconds required for training: 88.923\n",
      "\n",
      "Storing the model\n",
      "Number of active features: 57891 (133612)\n",
      "Number of active attributes: 29224 (90249)\n",
      "Number of active labels: 17 (17)\n",
      "Writing labels\n",
      "Writing attributes\n",
      "Writing feature references for transitions\n",
      "Writing feature references for attributes\n",
      "Seconds required: 0.013\n",
      "\n"
     ]
    },
    {
     "data": {
      "text/html": [
       "<style>#sk-container-id-1 {color: black;}#sk-container-id-1 pre{padding: 0;}#sk-container-id-1 div.sk-toggleable {background-color: white;}#sk-container-id-1 label.sk-toggleable__label {cursor: pointer;display: block;width: 100%;margin-bottom: 0;padding: 0.3em;box-sizing: border-box;text-align: center;}#sk-container-id-1 label.sk-toggleable__label-arrow:before {content: \"▸\";float: left;margin-right: 0.25em;color: #696969;}#sk-container-id-1 label.sk-toggleable__label-arrow:hover:before {color: black;}#sk-container-id-1 div.sk-estimator:hover label.sk-toggleable__label-arrow:before {color: black;}#sk-container-id-1 div.sk-toggleable__content {max-height: 0;max-width: 0;overflow: hidden;text-align: left;background-color: #f0f8ff;}#sk-container-id-1 div.sk-toggleable__content pre {margin: 0.2em;color: black;border-radius: 0.25em;background-color: #f0f8ff;}#sk-container-id-1 input.sk-toggleable__control:checked~div.sk-toggleable__content {max-height: 200px;max-width: 100%;overflow: auto;}#sk-container-id-1 input.sk-toggleable__control:checked~label.sk-toggleable__label-arrow:before {content: \"▾\";}#sk-container-id-1 div.sk-estimator input.sk-toggleable__control:checked~label.sk-toggleable__label {background-color: #d4ebff;}#sk-container-id-1 div.sk-label input.sk-toggleable__control:checked~label.sk-toggleable__label {background-color: #d4ebff;}#sk-container-id-1 input.sk-hidden--visually {border: 0;clip: rect(1px 1px 1px 1px);clip: rect(1px, 1px, 1px, 1px);height: 1px;margin: -1px;overflow: hidden;padding: 0;position: absolute;width: 1px;}#sk-container-id-1 div.sk-estimator {font-family: monospace;background-color: #f0f8ff;border: 1px dotted black;border-radius: 0.25em;box-sizing: border-box;margin-bottom: 0.5em;}#sk-container-id-1 div.sk-estimator:hover {background-color: #d4ebff;}#sk-container-id-1 div.sk-parallel-item::after {content: \"\";width: 100%;border-bottom: 1px solid gray;flex-grow: 1;}#sk-container-id-1 div.sk-label:hover label.sk-toggleable__label {background-color: #d4ebff;}#sk-container-id-1 div.sk-serial::before {content: \"\";position: absolute;border-left: 1px solid gray;box-sizing: border-box;top: 0;bottom: 0;left: 50%;z-index: 0;}#sk-container-id-1 div.sk-serial {display: flex;flex-direction: column;align-items: center;background-color: white;padding-right: 0.2em;padding-left: 0.2em;position: relative;}#sk-container-id-1 div.sk-item {position: relative;z-index: 1;}#sk-container-id-1 div.sk-parallel {display: flex;align-items: stretch;justify-content: center;background-color: white;position: relative;}#sk-container-id-1 div.sk-item::before, #sk-container-id-1 div.sk-parallel-item::before {content: \"\";position: absolute;border-left: 1px solid gray;box-sizing: border-box;top: 0;bottom: 0;left: 50%;z-index: -1;}#sk-container-id-1 div.sk-parallel-item {display: flex;flex-direction: column;z-index: 1;position: relative;background-color: white;}#sk-container-id-1 div.sk-parallel-item:first-child::after {align-self: flex-end;width: 50%;}#sk-container-id-1 div.sk-parallel-item:last-child::after {align-self: flex-start;width: 50%;}#sk-container-id-1 div.sk-parallel-item:only-child::after {width: 0;}#sk-container-id-1 div.sk-dashed-wrapped {border: 1px dashed gray;margin: 0 0.4em 0.5em 0.4em;box-sizing: border-box;padding-bottom: 0.4em;background-color: white;}#sk-container-id-1 div.sk-label label {font-family: monospace;font-weight: bold;display: inline-block;line-height: 1.2em;}#sk-container-id-1 div.sk-label-container {text-align: center;}#sk-container-id-1 div.sk-container {/* jupyter's `normalize.less` sets `[hidden] { display: none; }` but bootstrap.min.css set `[hidden] { display: none !important; }` so we also need the `!important` here to be able to override the default hidden behavior on the sphinx rendered scikit-learn.org. See: https://github.com/scikit-learn/scikit-learn/issues/21755 */display: inline-block !important;position: relative;}#sk-container-id-1 div.sk-text-repr-fallback {display: none;}</style><div id=\"sk-container-id-1\" class=\"sk-top-container\"><div class=\"sk-text-repr-fallback\"><pre>CRF(algorithm=&#x27;lbfgs&#x27;, all_possible_transitions=True, c1=0.1, c2=0.1,\n",
       "    max_iterations=100, verbose=True)</pre><b>In a Jupyter environment, please rerun this cell to show the HTML representation or trust the notebook. <br />On GitHub, the HTML representation is unable to render, please try loading this page with nbviewer.org.</b></div><div class=\"sk-container\" hidden><div class=\"sk-item\"><div class=\"sk-estimator sk-toggleable\"><input class=\"sk-toggleable__control sk-hidden--visually\" id=\"sk-estimator-id-1\" type=\"checkbox\" checked><label for=\"sk-estimator-id-1\" class=\"sk-toggleable__label sk-toggleable__label-arrow\">CRF</label><div class=\"sk-toggleable__content\"><pre>CRF(algorithm=&#x27;lbfgs&#x27;, all_possible_transitions=True, c1=0.1, c2=0.1,\n",
       "    max_iterations=100, verbose=True)</pre></div></div></div></div></div>"
      ],
      "text/plain": [
       "CRF(algorithm='lbfgs', all_possible_transitions=True, c1=0.1, c2=0.1,\n",
       "    max_iterations=100, verbose=True)"
      ]
     },
     "execution_count": 19,
     "metadata": {},
     "output_type": "execute_result"
    }
   ],
   "source": [
    "crf.fit(X_train, y_train)\n"
   ]
  },
  {
   "cell_type": "markdown",
   "id": "c0f8058ea89b2220",
   "metadata": {
    "collapsed": false,
    "jupyter": {
     "outputs_hidden": false
    }
   },
   "source": [
    "# Modell testen"
   ]
  },
  {
   "cell_type": "code",
   "execution_count": 20,
   "id": "dac9af886afe8b05",
   "metadata": {
    "ExecuteTime": {
     "end_time": "2023-11-23T12:22:16.722944400Z",
     "start_time": "2023-11-23T12:22:13.844806400Z"
    },
    "collapsed": false,
    "jupyter": {
     "outputs_hidden": false
    }
   },
   "outputs": [
    {
     "name": "stdout",
     "output_type": "stream",
     "text": [
      "['O', 'O', 'O', 'O', 'B-per', 'I-per', 'O', 'B-org', 'O', 'O', 'B-gpe', 'O', 'O', 'O', 'O', 'O', 'O', 'O', 'O', 'O', 'O', 'O', 'O', 'O', 'O', 'O', 'O', 'O', 'O']\n"
     ]
    }
   ],
   "source": [
    "y_pred = crf.predict(X_test)\n",
    "print(y_pred[0])"
   ]
  },
  {
   "cell_type": "code",
   "execution_count": 21,
   "id": "3ed846226e9956db",
   "metadata": {
    "ExecuteTime": {
     "end_time": "2023-11-23T12:22:40.493402300Z",
     "start_time": "2023-11-23T12:22:40.455179500Z"
    },
    "collapsed": false,
    "jupyter": {
     "outputs_hidden": false
    }
   },
   "outputs": [
    {
     "name": "stdout",
     "output_type": "stream",
     "text": [
      "['O', 'O', 'O', 'O', 'B-per', 'I-per', 'O', 'B-org', 'O', 'O', 'B-gpe', 'O', 'O', 'O', 'O', 'O', 'O', 'O', 'O', 'O', 'O', 'O', 'O', 'O', 'O', 'O', 'O', 'O', 'O']\n"
     ]
    }
   ],
   "source": [
    "# zum Vergleich\n",
    "print(y_test[0])"
   ]
  },
  {
   "cell_type": "code",
   "execution_count": 22,
   "id": "3838e8097fedc559",
   "metadata": {
    "ExecuteTime": {
     "end_time": "2023-11-23T12:24:22.990140700Z",
     "start_time": "2023-11-23T12:24:22.606389900Z"
    },
    "collapsed": false,
    "jupyter": {
     "outputs_hidden": false
    }
   },
   "outputs": [
    {
     "data": {
      "text/plain": [
       "0.9726367115218063"
      ]
     },
     "execution_count": 22,
     "metadata": {},
     "output_type": "execute_result"
    }
   ],
   "source": [
    "from sklearn_crfsuite import metrics as crf_metrics\n",
    "\n",
    "crf_metrics.flat_accuracy_score(y_test, y_pred)"
   ]
  },
  {
   "cell_type": "markdown",
   "id": "8f13709209077785",
   "metadata": {
    "collapsed": false,
    "jupyter": {
     "outputs_hidden": false
    }
   },
   "source": [
    "Liefert ordentliche Werte. Wie sieht es in der praktischen Anwendung aus?\n",
    "\n",
    "Dafür müssen wir einen Text ja zuerst mit POS-Tags versehen, dann kann das Modell darauf angewendet werden."
   ]
  },
  {
   "cell_type": "code",
   "execution_count": 23,
   "id": "e63af3ff61a0b6f0",
   "metadata": {
    "ExecuteTime": {
     "end_time": "2023-11-23T12:53:48.000920800Z",
     "start_time": "2023-11-23T12:53:47.962679500Z"
    },
    "collapsed": false,
    "jupyter": {
     "outputs_hidden": false
    }
   },
   "outputs": [
    {
     "data": {
      "text/plain": [
       "'Three more countries have joined an “international grand committee” of parliaments, adding to calls for Facebook’s boss, Mark Zuckerberg, to give evidence on misinformation to the coalition. Brazil, Latvia and Singapore bring the total to eight different parliaments across the world, with plans to send representatives to London on 27 November with the intention of hearing from Zuckerberg. Since the Cambridge Analytica scandal broke, the Facebook chief has only appeared in front of two legislatures: the American Senate and House of Representatives, and the European parliament. Facebook has consistently rebuffed attempts from others, including the UK and Canadian parliaments, to hear from Zuckerberg. He added that an article in the New York Times on Thursday, in which the paper alleged a pattern of behaviour from Facebook to “delay, deny and deflect” negative news stories, “raises further questions about how recent data breaches were allegedly dealt with within Facebook.”'"
      ]
     },
     "execution_count": 23,
     "metadata": {},
     "output_type": "execute_result"
    }
   ],
   "source": [
    "import re\n",
    "\n",
    "text = \"\"\"Three more countries have joined an “international grand committee” of parliaments, adding to calls for \n",
    "Facebook’s boss, Mark Zuckerberg, to give evidence on misinformation to the coalition. Brazil, Latvia and Singapore \n",
    "bring the total to eight different parliaments across the world, with plans to send representatives to London on 27 \n",
    "November with the intention of hearing from Zuckerberg. Since the Cambridge Analytica scandal broke, the Facebook chief \n",
    "has only appeared in front of two legislatures: the American Senate and House of Representatives, and the European parliament. \n",
    "Facebook has consistently rebuffed attempts from others, including the UK and Canadian parliaments, to hear from Zuckerberg. \n",
    "He added that an article in the New York Times on Thursday, in which the paper alleged a pattern of behaviour from Facebook \n",
    "to “delay, deny and deflect” negative news stories, “raises further questions about how recent data breaches were allegedly \n",
    "dealt with within Facebook.”\n",
    "\"\"\"\n",
    "\n",
    "text = re.sub(r'\\n', '', text)\n",
    "text"
   ]
  },
  {
   "cell_type": "markdown",
   "id": "b16938d1c89fd489",
   "metadata": {
    "collapsed": false,
    "jupyter": {
     "outputs_hidden": false
    }
   },
   "source": [
    "### Pipeline Step 1\n",
    "\n",
    "- Tokenize Text\n",
    "- POS Tagging"
   ]
  },
  {
   "cell_type": "code",
   "execution_count": 24,
   "id": "d01051132e2f16f4",
   "metadata": {
    "ExecuteTime": {
     "end_time": "2023-11-23T12:56:31.346557100Z",
     "start_time": "2023-11-23T12:56:24.571433700Z"
    },
    "collapsed": false,
    "jupyter": {
     "outputs_hidden": false
    }
   },
   "outputs": [
    {
     "data": {
      "text/plain": [
       "[('Three', 'CD'),\n",
       " ('more', 'JJR'),\n",
       " ('countries', 'NNS'),\n",
       " ('have', 'VBP'),\n",
       " ('joined', 'VBN'),\n",
       " ('an', 'DT'),\n",
       " ('“', 'NNP'),\n",
       " ('international', 'JJ'),\n",
       " ('grand', 'JJ'),\n",
       " ('committee', 'NN')]"
      ]
     },
     "execution_count": 24,
     "metadata": {},
     "output_type": "execute_result"
    }
   ],
   "source": [
    "import nltk\n",
    "\n",
    "text_tokens = nltk.word_tokenize(text)\n",
    "text_pos = nltk.pos_tag(text_tokens)\n",
    "text_pos[:10]"
   ]
  },
  {
   "cell_type": "markdown",
   "id": "936ab94c0c94c7ca",
   "metadata": {
    "collapsed": false,
    "jupyter": {
     "outputs_hidden": false
    }
   },
   "source": [
    "### Pipeline Step 2\n",
    "- Extract Features from the POS tagged text document\n",
    "- Hint: Use `sent2features`"
   ]
  },
  {
   "cell_type": "code",
   "execution_count": 25,
   "id": "c6e41d9190f59d9f",
   "metadata": {
    "ExecuteTime": {
     "end_time": "2023-11-23T12:56:58.602163200Z",
     "start_time": "2023-11-23T12:56:58.578808700Z"
    },
    "collapsed": false,
    "jupyter": {
     "outputs_hidden": false
    }
   },
   "outputs": [
    {
     "data": {
      "text/plain": [
       "{'word.lower()': 'three',\n",
       " 'word[-3:]': 'ree',\n",
       " 'word[-2:]': 'ee',\n",
       " 'word.isupper()': False,\n",
       " 'word.istitle()': True,\n",
       " 'word.isdigit()': False,\n",
       " 'postag': 'CD',\n",
       " 'postag[:2]': 'CD',\n",
       " 'BOS': True,\n",
       " '+1:word.lower()': 'more',\n",
       " '+1:word.istitle()': False,\n",
       " '+1:word.isupper()': False,\n",
       " '+1:postag': 'JJR',\n",
       " '+1:postag[:2]': 'JJ'}"
      ]
     },
     "execution_count": 25,
     "metadata": {},
     "output_type": "execute_result"
    }
   ],
   "source": [
    "features = [sent2features(text_pos)]\n",
    "features[0][0]"
   ]
  },
  {
   "cell_type": "markdown",
   "id": "bec87f2f21c31354",
   "metadata": {
    "collapsed": false,
    "jupyter": {
     "outputs_hidden": false
    }
   },
   "source": [
    "### Pipeline Step 3\n",
    "- Use the CRF Model `crf` to predict on the features"
   ]
  },
  {
   "cell_type": "code",
   "execution_count": 26,
   "id": "4087f7692c2077fb",
   "metadata": {
    "ExecuteTime": {
     "end_time": "2023-11-23T12:57:43.424289100Z",
     "start_time": "2023-11-23T12:57:43.398337600Z"
    },
    "collapsed": false,
    "jupyter": {
     "outputs_hidden": false
    }
   },
   "outputs": [
    {
     "data": {
      "text/plain": [
       "['O', 'O', 'O', 'O', 'O', 'O', 'O', 'O', 'B-art', 'I-art']"
      ]
     },
     "execution_count": 26,
     "metadata": {},
     "output_type": "execute_result"
    }
   ],
   "source": [
    "labels = crf.predict(features)\n",
    "doc_labels = labels[0]\n",
    "doc_labels[10:20]"
   ]
  },
  {
   "cell_type": "markdown",
   "id": "4bb53524506788ff",
   "metadata": {
    "collapsed": false,
    "jupyter": {
     "outputs_hidden": false
    }
   },
   "source": [
    "### Pipeline Step 4\n",
    "- Combine text tokens with NER Tags\n",
    "- Retrieve relevant named entities from NER Tags"
   ]
  },
  {
   "cell_type": "code",
   "execution_count": 27,
   "id": "1ec2d631679ad96c",
   "metadata": {
    "ExecuteTime": {
     "end_time": "2023-11-23T12:58:13.926156600Z",
     "start_time": "2023-11-23T12:58:13.901090800Z"
    },
    "collapsed": false,
    "jupyter": {
     "outputs_hidden": false
    }
   },
   "outputs": [
    {
     "name": "stdout",
     "output_type": "stream",
     "text": [
      "[('Three', 'O'), ('more', 'O'), ('countries', 'O'), ('have', 'O'), ('joined', 'O'), ('an', 'O'), ('“', 'O'), ('international', 'O'), ('grand', 'O'), ('committee', 'O'), ('”', 'O'), ('of', 'O'), ('parliaments', 'O'), (',', 'O'), ('adding', 'O'), ('to', 'O'), ('calls', 'O'), ('for', 'O'), ('Facebook', 'B-art'), ('’', 'I-art'), ('s', 'O'), ('boss', 'O'), (',', 'O'), ('Mark', 'B-per'), ('Zuckerberg', 'I-per'), (',', 'O'), ('to', 'O'), ('give', 'O'), ('evidence', 'O'), ('on', 'O'), ('misinformation', 'O'), ('to', 'O'), ('the', 'O'), ('coalition', 'O'), ('.', 'O'), ('Brazil', 'B-geo'), (',', 'O'), ('Latvia', 'B-org'), ('and', 'I-org'), ('Singapore', 'I-org'), ('bring', 'O'), ('the', 'O'), ('total', 'O'), ('to', 'O'), ('eight', 'O'), ('different', 'O'), ('parliaments', 'O'), ('across', 'O'), ('the', 'O'), ('world', 'O'), (',', 'O'), ('with', 'O'), ('plans', 'O'), ('to', 'O'), ('send', 'O'), ('representatives', 'O'), ('to', 'O'), ('London', 'B-geo'), ('on', 'O'), ('27', 'B-tim'), ('November', 'I-tim'), ('with', 'O'), ('the', 'O'), ('intention', 'O'), ('of', 'O'), ('hearing', 'O'), ('from', 'O'), ('Zuckerberg', 'B-geo'), ('.', 'O'), ('Since', 'O'), ('the', 'O'), ('Cambridge', 'B-org'), ('Analytica', 'I-org'), ('scandal', 'O'), ('broke', 'O'), (',', 'O'), ('the', 'O'), ('Facebook', 'B-org'), ('chief', 'O'), ('has', 'O'), ('only', 'O'), ('appeared', 'O'), ('in', 'O'), ('front', 'O'), ('of', 'O'), ('two', 'O'), ('legislatures', 'O'), (':', 'O'), ('the', 'O'), ('American', 'B-gpe'), ('Senate', 'B-org'), ('and', 'I-org'), ('House', 'I-org'), ('of', 'I-org'), ('Representatives', 'I-org'), (',', 'O'), ('and', 'O'), ('the', 'O'), ('European', 'B-org'), ('parliament', 'I-org'), ('.', 'O'), ('Facebook', 'B-org'), ('has', 'O'), ('consistently', 'O'), ('rebuffed', 'O'), ('attempts', 'O'), ('from', 'O'), ('others', 'O'), (',', 'O'), ('including', 'O'), ('the', 'O'), ('UK', 'B-org'), ('and', 'O'), ('Canadian', 'B-gpe'), ('parliaments', 'O'), (',', 'O'), ('to', 'O'), ('hear', 'O'), ('from', 'O'), ('Zuckerberg', 'B-geo'), ('.', 'O'), ('He', 'O'), ('added', 'O'), ('that', 'O'), ('an', 'O'), ('article', 'O'), ('in', 'O'), ('the', 'O'), ('New', 'B-org'), ('York', 'I-org'), ('Times', 'I-org'), ('on', 'O'), ('Thursday', 'B-tim'), (',', 'O'), ('in', 'O'), ('which', 'O'), ('the', 'O'), ('paper', 'O'), ('alleged', 'O'), ('a', 'O'), ('pattern', 'O'), ('of', 'O'), ('behaviour', 'O'), ('from', 'O'), ('Facebook', 'B-org'), ('to', 'O'), ('“', 'O'), ('delay', 'O'), (',', 'O'), ('deny', 'O'), ('and', 'O'), ('deflect', 'O'), ('”', 'O'), ('negative', 'O'), ('news', 'O'), ('stories', 'O'), (',', 'O'), ('“', 'O'), ('raises', 'O'), ('further', 'O'), ('questions', 'O'), ('about', 'O'), ('how', 'O'), ('recent', 'O'), ('data', 'O'), ('breaches', 'O'), ('were', 'O'), ('allegedly', 'O'), ('dealt', 'O'), ('with', 'O'), ('within', 'O'), ('Facebook', 'B-art'), ('.', 'O'), ('”', 'O')]\n"
     ]
    }
   ],
   "source": [
    "text_ner = [(token, tag) for token, tag in zip(text_tokens, doc_labels)]\n",
    "print(text_ner)"
   ]
  },
  {
   "cell_type": "markdown",
   "id": "268608e598c7ead9",
   "metadata": {
    "collapsed": false,
    "jupyter": {
     "outputs_hidden": false
    }
   },
   "source": [
    "Insgesamt schon brauchbar..."
   ]
  },
  {
   "cell_type": "markdown",
   "id": "8f3240b9d5cab716",
   "metadata": {
    "collapsed": false,
    "jupyter": {
     "outputs_hidden": false
    }
   },
   "source": [
    "Zum Vergleich und für eigene Experimente: spaCy"
   ]
  },
  {
   "cell_type": "code",
   "execution_count": 41,
   "id": "39a67ab33376ffc3",
   "metadata": {
    "ExecuteTime": {
     "end_time": "2023-11-23T12:56:24.571986700Z",
     "start_time": "2023-11-23T12:55:37.970166500Z"
    },
    "collapsed": false,
    "jupyter": {
     "outputs_hidden": false
    }
   },
   "outputs": [
    {
     "data": {
      "text/html": [
       "<span class=\"tex2jax_ignore\"><div class=\"entities\" style=\"line-height: 2.5; direction: ltr\">\n",
       "<mark class=\"entity\" style=\"background: #e4e7d2; padding: 0.45em 0.6em; margin: 0 0.25em; line-height: 1; border-radius: 0.35em;\">\n",
       "    Three\n",
       "    <span style=\"font-size: 0.8em; font-weight: bold; line-height: 1; border-radius: 0.35em; vertical-align: middle; margin-left: 0.5rem\">CARDINAL</span>\n",
       "</mark>\n",
       " more countries have joined an “international grand committee” of parliaments, adding to calls for \n",
       "<mark class=\"entity\" style=\"background: #7aecec; padding: 0.45em 0.6em; margin: 0 0.25em; line-height: 1; border-radius: 0.35em;\">\n",
       "    Facebook\n",
       "    <span style=\"font-size: 0.8em; font-weight: bold; line-height: 1; border-radius: 0.35em; vertical-align: middle; margin-left: 0.5rem\">ORG</span>\n",
       "</mark>\n",
       "’s boss, \n",
       "<mark class=\"entity\" style=\"background: #aa9cfc; padding: 0.45em 0.6em; margin: 0 0.25em; line-height: 1; border-radius: 0.35em;\">\n",
       "    Mark Zuckerberg\n",
       "    <span style=\"font-size: 0.8em; font-weight: bold; line-height: 1; border-radius: 0.35em; vertical-align: middle; margin-left: 0.5rem\">PERSON</span>\n",
       "</mark>\n",
       ", to give evidence on misinformation to the coalition. \n",
       "<mark class=\"entity\" style=\"background: #feca74; padding: 0.45em 0.6em; margin: 0 0.25em; line-height: 1; border-radius: 0.35em;\">\n",
       "    Brazil\n",
       "    <span style=\"font-size: 0.8em; font-weight: bold; line-height: 1; border-radius: 0.35em; vertical-align: middle; margin-left: 0.5rem\">GPE</span>\n",
       "</mark>\n",
       ", \n",
       "<mark class=\"entity\" style=\"background: #feca74; padding: 0.45em 0.6em; margin: 0 0.25em; line-height: 1; border-radius: 0.35em;\">\n",
       "    Latvia\n",
       "    <span style=\"font-size: 0.8em; font-weight: bold; line-height: 1; border-radius: 0.35em; vertical-align: middle; margin-left: 0.5rem\">GPE</span>\n",
       "</mark>\n",
       " and \n",
       "<mark class=\"entity\" style=\"background: #feca74; padding: 0.45em 0.6em; margin: 0 0.25em; line-height: 1; border-radius: 0.35em;\">\n",
       "    Singapore\n",
       "    <span style=\"font-size: 0.8em; font-weight: bold; line-height: 1; border-radius: 0.35em; vertical-align: middle; margin-left: 0.5rem\">GPE</span>\n",
       "</mark>\n",
       " bring the total to \n",
       "<mark class=\"entity\" style=\"background: #e4e7d2; padding: 0.45em 0.6em; margin: 0 0.25em; line-height: 1; border-radius: 0.35em;\">\n",
       "    eight\n",
       "    <span style=\"font-size: 0.8em; font-weight: bold; line-height: 1; border-radius: 0.35em; vertical-align: middle; margin-left: 0.5rem\">CARDINAL</span>\n",
       "</mark>\n",
       " different parliaments across the world, with plans to send representatives to \n",
       "<mark class=\"entity\" style=\"background: #feca74; padding: 0.45em 0.6em; margin: 0 0.25em; line-height: 1; border-radius: 0.35em;\">\n",
       "    London\n",
       "    <span style=\"font-size: 0.8em; font-weight: bold; line-height: 1; border-radius: 0.35em; vertical-align: middle; margin-left: 0.5rem\">GPE</span>\n",
       "</mark>\n",
       " on \n",
       "<mark class=\"entity\" style=\"background: #bfe1d9; padding: 0.45em 0.6em; margin: 0 0.25em; line-height: 1; border-radius: 0.35em;\">\n",
       "    27 November\n",
       "    <span style=\"font-size: 0.8em; font-weight: bold; line-height: 1; border-radius: 0.35em; vertical-align: middle; margin-left: 0.5rem\">DATE</span>\n",
       "</mark>\n",
       " with the intention of hearing from \n",
       "<mark class=\"entity\" style=\"background: #aa9cfc; padding: 0.45em 0.6em; margin: 0 0.25em; line-height: 1; border-radius: 0.35em;\">\n",
       "    Zuckerberg\n",
       "    <span style=\"font-size: 0.8em; font-weight: bold; line-height: 1; border-radius: 0.35em; vertical-align: middle; margin-left: 0.5rem\">PERSON</span>\n",
       "</mark>\n",
       ". Since the \n",
       "<mark class=\"entity\" style=\"background: #feca74; padding: 0.45em 0.6em; margin: 0 0.25em; line-height: 1; border-radius: 0.35em;\">\n",
       "    Cambridge Analytica\n",
       "    <span style=\"font-size: 0.8em; font-weight: bold; line-height: 1; border-radius: 0.35em; vertical-align: middle; margin-left: 0.5rem\">GPE</span>\n",
       "</mark>\n",
       " scandal broke, the \n",
       "<mark class=\"entity\" style=\"background: #7aecec; padding: 0.45em 0.6em; margin: 0 0.25em; line-height: 1; border-radius: 0.35em;\">\n",
       "    Facebook\n",
       "    <span style=\"font-size: 0.8em; font-weight: bold; line-height: 1; border-radius: 0.35em; vertical-align: middle; margin-left: 0.5rem\">ORG</span>\n",
       "</mark>\n",
       " chief has only appeared in front of \n",
       "<mark class=\"entity\" style=\"background: #e4e7d2; padding: 0.45em 0.6em; margin: 0 0.25em; line-height: 1; border-radius: 0.35em;\">\n",
       "    two\n",
       "    <span style=\"font-size: 0.8em; font-weight: bold; line-height: 1; border-radius: 0.35em; vertical-align: middle; margin-left: 0.5rem\">CARDINAL</span>\n",
       "</mark>\n",
       " legislatures: the \n",
       "<mark class=\"entity\" style=\"background: #c887fb; padding: 0.45em 0.6em; margin: 0 0.25em; line-height: 1; border-radius: 0.35em;\">\n",
       "    American\n",
       "    <span style=\"font-size: 0.8em; font-weight: bold; line-height: 1; border-radius: 0.35em; vertical-align: middle; margin-left: 0.5rem\">NORP</span>\n",
       "</mark>\n",
       " \n",
       "<mark class=\"entity\" style=\"background: #7aecec; padding: 0.45em 0.6em; margin: 0 0.25em; line-height: 1; border-radius: 0.35em;\">\n",
       "    Senate\n",
       "    <span style=\"font-size: 0.8em; font-weight: bold; line-height: 1; border-radius: 0.35em; vertical-align: middle; margin-left: 0.5rem\">ORG</span>\n",
       "</mark>\n",
       " and \n",
       "<mark class=\"entity\" style=\"background: #7aecec; padding: 0.45em 0.6em; margin: 0 0.25em; line-height: 1; border-radius: 0.35em;\">\n",
       "    House of Representatives\n",
       "    <span style=\"font-size: 0.8em; font-weight: bold; line-height: 1; border-radius: 0.35em; vertical-align: middle; margin-left: 0.5rem\">ORG</span>\n",
       "</mark>\n",
       ", and the \n",
       "<mark class=\"entity\" style=\"background: #c887fb; padding: 0.45em 0.6em; margin: 0 0.25em; line-height: 1; border-radius: 0.35em;\">\n",
       "    European\n",
       "    <span style=\"font-size: 0.8em; font-weight: bold; line-height: 1; border-radius: 0.35em; vertical-align: middle; margin-left: 0.5rem\">NORP</span>\n",
       "</mark>\n",
       " parliament. Facebook has consistently rebuffed attempts from others, including the \n",
       "<mark class=\"entity\" style=\"background: #feca74; padding: 0.45em 0.6em; margin: 0 0.25em; line-height: 1; border-radius: 0.35em;\">\n",
       "    UK\n",
       "    <span style=\"font-size: 0.8em; font-weight: bold; line-height: 1; border-radius: 0.35em; vertical-align: middle; margin-left: 0.5rem\">GPE</span>\n",
       "</mark>\n",
       " and \n",
       "<mark class=\"entity\" style=\"background: #c887fb; padding: 0.45em 0.6em; margin: 0 0.25em; line-height: 1; border-radius: 0.35em;\">\n",
       "    Canadian\n",
       "    <span style=\"font-size: 0.8em; font-weight: bold; line-height: 1; border-radius: 0.35em; vertical-align: middle; margin-left: 0.5rem\">NORP</span>\n",
       "</mark>\n",
       " parliaments, to hear from \n",
       "<mark class=\"entity\" style=\"background: #aa9cfc; padding: 0.45em 0.6em; margin: 0 0.25em; line-height: 1; border-radius: 0.35em;\">\n",
       "    Zuckerberg\n",
       "    <span style=\"font-size: 0.8em; font-weight: bold; line-height: 1; border-radius: 0.35em; vertical-align: middle; margin-left: 0.5rem\">PERSON</span>\n",
       "</mark>\n",
       ". He added that an article in \n",
       "<mark class=\"entity\" style=\"background: #7aecec; padding: 0.45em 0.6em; margin: 0 0.25em; line-height: 1; border-radius: 0.35em;\">\n",
       "    the New York Times\n",
       "    <span style=\"font-size: 0.8em; font-weight: bold; line-height: 1; border-radius: 0.35em; vertical-align: middle; margin-left: 0.5rem\">ORG</span>\n",
       "</mark>\n",
       " on \n",
       "<mark class=\"entity\" style=\"background: #bfe1d9; padding: 0.45em 0.6em; margin: 0 0.25em; line-height: 1; border-radius: 0.35em;\">\n",
       "    Thursday\n",
       "    <span style=\"font-size: 0.8em; font-weight: bold; line-height: 1; border-radius: 0.35em; vertical-align: middle; margin-left: 0.5rem\">DATE</span>\n",
       "</mark>\n",
       ", in which the paper alleged a pattern of behaviour from Facebook to “delay, deny and deflect” negative news stories, “raises further questions about how recent data breaches were allegedly dealt with within \n",
       "<mark class=\"entity\" style=\"background: #aa9cfc; padding: 0.45em 0.6em; margin: 0 0.25em; line-height: 1; border-radius: 0.35em;\">\n",
       "    Facebook\n",
       "    <span style=\"font-size: 0.8em; font-weight: bold; line-height: 1; border-radius: 0.35em; vertical-align: middle; margin-left: 0.5rem\">PERSON</span>\n",
       "</mark>\n",
       ".”</div></span>"
      ],
      "text/plain": [
       "<IPython.core.display.HTML object>"
      ]
     },
     "metadata": {},
     "output_type": "display_data"
    }
   ],
   "source": [
    "import spacy\n",
    "from spacy import displacy\n",
    "\n",
    "nlp = spacy.load('en_core_web_sm')2y\n",
    "text_nlp = nlp(text)\n",
    "text_nlp\n",
    "displacy.render(text_nlp, style='ent', jupyter=True)"
   ]
  },
  {
   "cell_type": "markdown",
   "id": "11f400c5780c3d5d",
   "metadata": {
    "collapsed": false,
    "jupyter": {
     "outputs_hidden": false
    }
   },
   "source": [
    "Testweise Auswertung, da die metrics-library rumzickt...    "
   ]
  },
  {
   "cell_type": "code",
   "execution_count": 29,
   "id": "867c8a1958f025bc",
   "metadata": {
    "ExecuteTime": {
     "end_time": "2023-11-23T16:58:57.864674500Z",
     "start_time": "2023-11-23T16:58:57.735742400Z"
    },
    "collapsed": false,
    "jupyter": {
     "outputs_hidden": false
    }
   },
   "outputs": [
    {
     "ename": "ValueError",
     "evalue": "You appear to be using a legacy multi-label data representation. Sequence of sequences are no longer supported; use a binary array or sparse matrix instead - the MultiLabelBinarizer transformer can convert to this format.",
     "output_type": "error",
     "traceback": [
      "\u001b[0;31m---------------------------------------------------------------------------\u001b[0m",
      "\u001b[0;31mValueError\u001b[0m                                Traceback (most recent call last)",
      "Cell \u001b[0;32mIn[29], line 3\u001b[0m\n\u001b[1;32m      1\u001b[0m \u001b[38;5;28;01mfrom\u001b[39;00m \u001b[38;5;21;01msklearn\u001b[39;00m\u001b[38;5;21;01m.\u001b[39;00m\u001b[38;5;21;01mmetrics\u001b[39;00m \u001b[38;5;28;01mimport\u001b[39;00m classification_report\n\u001b[0;32m----> 3\u001b[0m \u001b[43mclassification_report\u001b[49m\u001b[43m(\u001b[49m\u001b[43my_test\u001b[49m\u001b[43m,\u001b[49m\u001b[43m \u001b[49m\u001b[43my_pred\u001b[49m\u001b[43m,\u001b[49m\u001b[43mlabels\u001b[49m\u001b[38;5;241;43m=\u001b[39;49m\u001b[43mlabels\u001b[49m\u001b[43m)\u001b[49m\n",
      "File \u001b[0;32m~/GitRepos/fhgr-ta/venv/lib/python3.11/site-packages/sklearn/utils/_param_validation.py:211\u001b[0m, in \u001b[0;36mvalidate_params.<locals>.decorator.<locals>.wrapper\u001b[0;34m(*args, **kwargs)\u001b[0m\n\u001b[1;32m    205\u001b[0m \u001b[38;5;28;01mtry\u001b[39;00m:\n\u001b[1;32m    206\u001b[0m     \u001b[38;5;28;01mwith\u001b[39;00m config_context(\n\u001b[1;32m    207\u001b[0m         skip_parameter_validation\u001b[38;5;241m=\u001b[39m(\n\u001b[1;32m    208\u001b[0m             prefer_skip_nested_validation \u001b[38;5;129;01mor\u001b[39;00m global_skip_validation\n\u001b[1;32m    209\u001b[0m         )\n\u001b[1;32m    210\u001b[0m     ):\n\u001b[0;32m--> 211\u001b[0m         \u001b[38;5;28;01mreturn\u001b[39;00m \u001b[43mfunc\u001b[49m\u001b[43m(\u001b[49m\u001b[38;5;241;43m*\u001b[39;49m\u001b[43margs\u001b[49m\u001b[43m,\u001b[49m\u001b[43m \u001b[49m\u001b[38;5;241;43m*\u001b[39;49m\u001b[38;5;241;43m*\u001b[39;49m\u001b[43mkwargs\u001b[49m\u001b[43m)\u001b[49m\n\u001b[1;32m    212\u001b[0m \u001b[38;5;28;01mexcept\u001b[39;00m InvalidParameterError \u001b[38;5;28;01mas\u001b[39;00m e:\n\u001b[1;32m    213\u001b[0m     \u001b[38;5;66;03m# When the function is just a wrapper around an estimator, we allow\u001b[39;00m\n\u001b[1;32m    214\u001b[0m     \u001b[38;5;66;03m# the function to delegate validation to the estimator, but we replace\u001b[39;00m\n\u001b[1;32m    215\u001b[0m     \u001b[38;5;66;03m# the name of the estimator by the name of the function in the error\u001b[39;00m\n\u001b[1;32m    216\u001b[0m     \u001b[38;5;66;03m# message to avoid confusion.\u001b[39;00m\n\u001b[1;32m    217\u001b[0m     msg \u001b[38;5;241m=\u001b[39m re\u001b[38;5;241m.\u001b[39msub(\n\u001b[1;32m    218\u001b[0m         \u001b[38;5;124mr\u001b[39m\u001b[38;5;124m\"\u001b[39m\u001b[38;5;124mparameter of \u001b[39m\u001b[38;5;124m\\\u001b[39m\u001b[38;5;124mw+ must be\u001b[39m\u001b[38;5;124m\"\u001b[39m,\n\u001b[1;32m    219\u001b[0m         \u001b[38;5;124mf\u001b[39m\u001b[38;5;124m\"\u001b[39m\u001b[38;5;124mparameter of \u001b[39m\u001b[38;5;132;01m{\u001b[39;00mfunc\u001b[38;5;241m.\u001b[39m\u001b[38;5;18m__qualname__\u001b[39m\u001b[38;5;132;01m}\u001b[39;00m\u001b[38;5;124m must be\u001b[39m\u001b[38;5;124m\"\u001b[39m,\n\u001b[1;32m    220\u001b[0m         \u001b[38;5;28mstr\u001b[39m(e),\n\u001b[1;32m    221\u001b[0m     )\n",
      "File \u001b[0;32m~/GitRepos/fhgr-ta/venv/lib/python3.11/site-packages/sklearn/metrics/_classification.py:2539\u001b[0m, in \u001b[0;36mclassification_report\u001b[0;34m(y_true, y_pred, labels, target_names, sample_weight, digits, output_dict, zero_division)\u001b[0m\n\u001b[1;32m   2405\u001b[0m \u001b[38;5;129m@validate_params\u001b[39m(\n\u001b[1;32m   2406\u001b[0m     {\n\u001b[1;32m   2407\u001b[0m         \u001b[38;5;124m\"\u001b[39m\u001b[38;5;124my_true\u001b[39m\u001b[38;5;124m\"\u001b[39m: [\u001b[38;5;124m\"\u001b[39m\u001b[38;5;124marray-like\u001b[39m\u001b[38;5;124m\"\u001b[39m, \u001b[38;5;124m\"\u001b[39m\u001b[38;5;124msparse matrix\u001b[39m\u001b[38;5;124m\"\u001b[39m],\n\u001b[0;32m   (...)\u001b[0m\n\u001b[1;32m   2430\u001b[0m     zero_division\u001b[38;5;241m=\u001b[39m\u001b[38;5;124m\"\u001b[39m\u001b[38;5;124mwarn\u001b[39m\u001b[38;5;124m\"\u001b[39m,\n\u001b[1;32m   2431\u001b[0m ):\n\u001b[1;32m   2432\u001b[0m \u001b[38;5;250m    \u001b[39m\u001b[38;5;124;03m\"\"\"Build a text report showing the main classification metrics.\u001b[39;00m\n\u001b[1;32m   2433\u001b[0m \n\u001b[1;32m   2434\u001b[0m \u001b[38;5;124;03m    Read more in the :ref:`User Guide <classification_report>`.\u001b[39;00m\n\u001b[0;32m   (...)\u001b[0m\n\u001b[1;32m   2536\u001b[0m \u001b[38;5;124;03m    <BLANKLINE>\u001b[39;00m\n\u001b[1;32m   2537\u001b[0m \u001b[38;5;124;03m    \"\"\"\u001b[39;00m\n\u001b[0;32m-> 2539\u001b[0m     y_type, y_true, y_pred \u001b[38;5;241m=\u001b[39m \u001b[43m_check_targets\u001b[49m\u001b[43m(\u001b[49m\u001b[43my_true\u001b[49m\u001b[43m,\u001b[49m\u001b[43m \u001b[49m\u001b[43my_pred\u001b[49m\u001b[43m)\u001b[49m\n\u001b[1;32m   2541\u001b[0m     \u001b[38;5;28;01mif\u001b[39;00m labels \u001b[38;5;129;01mis\u001b[39;00m \u001b[38;5;28;01mNone\u001b[39;00m:\n\u001b[1;32m   2542\u001b[0m         labels \u001b[38;5;241m=\u001b[39m unique_labels(y_true, y_pred)\n",
      "File \u001b[0;32m~/GitRepos/fhgr-ta/venv/lib/python3.11/site-packages/sklearn/metrics/_classification.py:85\u001b[0m, in \u001b[0;36m_check_targets\u001b[0;34m(y_true, y_pred)\u001b[0m\n\u001b[1;32m     58\u001b[0m \u001b[38;5;250m\u001b[39m\u001b[38;5;124;03m\"\"\"Check that y_true and y_pred belong to the same classification task.\u001b[39;00m\n\u001b[1;32m     59\u001b[0m \n\u001b[1;32m     60\u001b[0m \u001b[38;5;124;03mThis converts multiclass or binary types to a common shape, and raises a\u001b[39;00m\n\u001b[0;32m   (...)\u001b[0m\n\u001b[1;32m     82\u001b[0m \u001b[38;5;124;03my_pred : array or indicator matrix\u001b[39;00m\n\u001b[1;32m     83\u001b[0m \u001b[38;5;124;03m\"\"\"\u001b[39;00m\n\u001b[1;32m     84\u001b[0m check_consistent_length(y_true, y_pred)\n\u001b[0;32m---> 85\u001b[0m type_true \u001b[38;5;241m=\u001b[39m \u001b[43mtype_of_target\u001b[49m\u001b[43m(\u001b[49m\u001b[43my_true\u001b[49m\u001b[43m,\u001b[49m\u001b[43m \u001b[49m\u001b[43minput_name\u001b[49m\u001b[38;5;241;43m=\u001b[39;49m\u001b[38;5;124;43m\"\u001b[39;49m\u001b[38;5;124;43my_true\u001b[39;49m\u001b[38;5;124;43m\"\u001b[39;49m\u001b[43m)\u001b[49m\n\u001b[1;32m     86\u001b[0m type_pred \u001b[38;5;241m=\u001b[39m type_of_target(y_pred, input_name\u001b[38;5;241m=\u001b[39m\u001b[38;5;124m\"\u001b[39m\u001b[38;5;124my_pred\u001b[39m\u001b[38;5;124m\"\u001b[39m)\n\u001b[1;32m     88\u001b[0m y_type \u001b[38;5;241m=\u001b[39m {type_true, type_pred}\n",
      "File \u001b[0;32m~/GitRepos/fhgr-ta/venv/lib/python3.11/site-packages/sklearn/utils/multiclass.py:347\u001b[0m, in \u001b[0;36mtype_of_target\u001b[0;34m(y, input_name)\u001b[0m\n\u001b[1;32m    341\u001b[0m \u001b[38;5;28;01mtry\u001b[39;00m:\n\u001b[1;32m    342\u001b[0m     \u001b[38;5;28;01mif\u001b[39;00m (\n\u001b[1;32m    343\u001b[0m         \u001b[38;5;129;01mnot\u001b[39;00m \u001b[38;5;28mhasattr\u001b[39m(y[\u001b[38;5;241m0\u001b[39m], \u001b[38;5;124m\"\u001b[39m\u001b[38;5;124m__array__\u001b[39m\u001b[38;5;124m\"\u001b[39m)\n\u001b[1;32m    344\u001b[0m         \u001b[38;5;129;01mand\u001b[39;00m \u001b[38;5;28misinstance\u001b[39m(y[\u001b[38;5;241m0\u001b[39m], Sequence)\n\u001b[1;32m    345\u001b[0m         \u001b[38;5;129;01mand\u001b[39;00m \u001b[38;5;129;01mnot\u001b[39;00m \u001b[38;5;28misinstance\u001b[39m(y[\u001b[38;5;241m0\u001b[39m], \u001b[38;5;28mstr\u001b[39m)\n\u001b[1;32m    346\u001b[0m     ):\n\u001b[0;32m--> 347\u001b[0m         \u001b[38;5;28;01mraise\u001b[39;00m \u001b[38;5;167;01mValueError\u001b[39;00m(\n\u001b[1;32m    348\u001b[0m             \u001b[38;5;124m\"\u001b[39m\u001b[38;5;124mYou appear to be using a legacy multi-label data\u001b[39m\u001b[38;5;124m\"\u001b[39m\n\u001b[1;32m    349\u001b[0m             \u001b[38;5;124m\"\u001b[39m\u001b[38;5;124m representation. Sequence of sequences are no\u001b[39m\u001b[38;5;124m\"\u001b[39m\n\u001b[1;32m    350\u001b[0m             \u001b[38;5;124m\"\u001b[39m\u001b[38;5;124m longer supported; use a binary array or sparse\u001b[39m\u001b[38;5;124m\"\u001b[39m\n\u001b[1;32m    351\u001b[0m             \u001b[38;5;124m\"\u001b[39m\u001b[38;5;124m matrix instead - the MultiLabelBinarizer\u001b[39m\u001b[38;5;124m\"\u001b[39m\n\u001b[1;32m    352\u001b[0m             \u001b[38;5;124m\"\u001b[39m\u001b[38;5;124m transformer can convert to this format.\u001b[39m\u001b[38;5;124m\"\u001b[39m\n\u001b[1;32m    353\u001b[0m         )\n\u001b[1;32m    354\u001b[0m \u001b[38;5;28;01mexcept\u001b[39;00m \u001b[38;5;167;01mIndexError\u001b[39;00m:\n\u001b[1;32m    355\u001b[0m     \u001b[38;5;28;01mpass\u001b[39;00m\n",
      "\u001b[0;31mValueError\u001b[0m: You appear to be using a legacy multi-label data representation. Sequence of sequences are no longer supported; use a binary array or sparse matrix instead - the MultiLabelBinarizer transformer can convert to this format."
     ]
    }
   ],
   "source": [
    "from sklearn.metrics import classification_report\n",
    "\n",
    "classification_report(y_test, y_pred,labels=labels)"
   ]
  },
  {
   "cell_type": "code",
   "execution_count": 30,
   "id": "fdb8be99a6db1519",
   "metadata": {
    "ExecuteTime": {
     "end_time": "2023-11-23T17:18:14.923126300Z",
     "start_time": "2023-11-23T17:18:14.899346500Z"
    },
    "collapsed": false,
    "jupyter": {
     "outputs_hidden": false
    }
   },
   "outputs": [],
   "source": [
    "from collections import defaultdict\n",
    "\n",
    "def confusion_matrix(y_true, y_pred):\n",
    "    \"\"\"\n",
    "    Konfusionsmatrix für den Datentyp hier: Liste von Listen mit variabler Länge\n",
    "    Label werden on-the-fly angelegt, anhand von y_true\n",
    "    Rückgabe: Dictionary echtes_label: (Dictionary vorhergesagtes_label: Anzahl)\n",
    "    :param y_true: \n",
    "    :param y_pred: \n",
    "    :return: \n",
    "    \"\"\"\n",
    "    cm = defaultdict(lambda: defaultdict(int))\n",
    "    for seq1, seq2 in zip(y_true, y_pred):\n",
    "        for l1, l2 in zip(seq1, seq2):\n",
    "            cm[l1][l2] += 1\n",
    "    return cm\n",
    "            "
   ]
  },
  {
   "cell_type": "code",
   "execution_count": 31,
   "id": "ebfbbd7665819d7d",
   "metadata": {
    "ExecuteTime": {
     "end_time": "2023-11-23T17:19:18.039284100Z",
     "start_time": "2023-11-23T17:19:17.963218800Z"
    },
    "collapsed": false,
    "jupyter": {
     "outputs_hidden": false
    }
   },
   "outputs": [
    {
     "name": "stdout",
     "output_type": "stream",
     "text": [
      "defaultdict(<function confusion_matrix.<locals>.<lambda> at 0x7f5f7a2dde40>, {'O': defaultdict(<class 'int'>, {'O': 220742, 'B-per': 105, 'B-gpe': 44, 'B-tim': 206, 'B-org': 215, 'I-org': 220, 'I-tim': 127, 'B-geo': 152, 'I-per': 80, 'I-geo': 29, 'I-eve': 3, 'B-art': 4, 'I-gpe': 1, 'B-eve': 2, 'I-art': 2, 'B-nat': 2, 'I-nat': 2}), 'B-per': defaultdict(<class 'int'>, {'B-per': 3536, 'B-geo': 186, 'I-org': 51, 'I-per': 137, 'B-org': 157, 'O': 158, 'I-nat': 1, 'B-eve': 3, 'B-art': 2, 'I-tim': 2, 'B-tim': 3, 'I-geo': 3}), 'I-per': defaultdict(<class 'int'>, {'I-per': 3860, 'I-geo': 49, 'I-org': 162, 'B-org': 16, 'B-per': 112, 'B-geo': 6, 'O': 64, 'I-eve': 1, 'I-art': 1, 'B-tim': 1, 'I-tim': 1}), 'B-org': defaultdict(<class 'int'>, {'B-org': 3761, 'B-geo': 624, 'O': 302, 'B-art': 10, 'I-per': 82, 'B-per': 224, 'B-gpe': 20, 'I-org': 59, 'I-tim': 7, 'I-geo': 8, 'B-eve': 7, 'B-tim': 10, 'I-eve': 2}), 'B-gpe': defaultdict(<class 'int'>, {'B-gpe': 3728, 'B-geo': 162, 'B-per': 7, 'B-org': 29, 'O': 20, 'I-geo': 8, 'I-org': 4, 'B-eve': 2, 'I-gpe': 1}), 'I-org': defaultdict(<class 'int'>, {'I-geo': 165, 'I-org': 3331, 'B-org': 68, 'O': 263, 'I-per': 231, 'B-geo': 65, 'B-per': 44, 'I-eve': 10, 'I-tim': 4, 'I-art': 8, 'B-gpe': 3, 'B-tim': 3}), 'B-geo': defaultdict(<class 'int'>, {'B-geo': 8602, 'O': 186, 'B-per': 108, 'B-org': 313, 'I-org': 49, 'I-per': 33, 'I-geo': 62, 'B-gpe': 24, 'B-art': 6, 'B-nat': 4, 'B-tim': 11, 'I-tim': 2, 'I-art': 1, 'B-eve': 2}), 'B-tim': defaultdict(<class 'int'>, {'B-tim': 4513, 'B-geo': 69, 'O': 414, 'I-tim': 72, 'B-eve': 1, 'I-org': 4, 'I-geo': 4, 'B-org': 12, 'I-per': 4, 'B-per': 2}), 'I-geo': defaultdict(<class 'int'>, {'I-geo': 1468, 'O': 48, 'I-per': 70, 'I-org': 134, 'B-org': 13, 'B-geo': 77, 'I-art': 4, 'B-gpe': 3, 'B-tim': 3, 'B-per': 3, 'B-art': 1, 'I-eve': 2}), 'I-tim': defaultdict(<class 'int'>, {'I-tim': 1291, 'O': 202, 'B-tim': 95, 'B-geo': 6, 'I-geo': 2, 'I-per': 3, 'B-per': 2, 'I-org': 3}), 'B-art': defaultdict(<class 'int'>, {'B-org': 25, 'O': 28, 'B-art': 15, 'B-gpe': 7, 'B-geo': 12, 'I-org': 5, 'B-per': 7, 'B-tim': 1, 'I-art': 1, 'I-per': 1}), 'I-gpe': defaultdict(<class 'int'>, {'O': 3, 'I-per': 4, 'I-gpe': 19, 'I-org': 3, 'B-gpe': 1, 'I-geo': 5, 'B-org': 1}), 'B-nat': defaultdict(<class 'int'>, {'O': 26, 'B-geo': 2, 'B-nat': 14, 'B-org': 10, 'I-tim': 1, 'B-per': 1, 'I-org': 1}), 'I-nat': defaultdict(<class 'int'>, {'O': 9, 'B-nat': 4, 'I-nat': 3, 'I-org': 2}), 'B-eve': defaultdict(<class 'int'>, {'B-eve': 27, 'O': 25, 'B-org': 6, 'B-tim': 7, 'B-geo': 4, 'B-per': 2, 'I-tim': 5, 'B-art': 2, 'I-eve': 1, 'I-org': 1}), 'I-art': defaultdict(<class 'int'>, {'I-org': 39, 'I-art': 6, 'O': 23, 'B-org': 3, 'B-geo': 2, 'I-per': 12, 'I-geo': 3, 'B-tim': 1, 'B-per': 1}), 'I-eve': defaultdict(<class 'int'>, {'I-eve': 15, 'O': 22, 'B-eve': 9, 'I-org': 9, 'B-tim': 2, 'I-tim': 12, 'B-geo': 1, 'I-geo': 1, 'I-per': 1, 'I-art': 2})})\n"
     ]
    }
   ],
   "source": [
    "conf_mat = confusion_matrix(y_test, y_pred)\n",
    "print(conf_mat)"
   ]
  },
  {
   "cell_type": "code",
   "execution_count": 32,
   "id": "bcc0c929d0b3ffb6",
   "metadata": {
    "ExecuteTime": {
     "end_time": "2023-11-23T17:21:01.848983700Z",
     "start_time": "2023-11-23T17:21:01.769359400Z"
    },
    "collapsed": false,
    "jupyter": {
     "outputs_hidden": false
    }
   },
   "outputs": [
    {
     "data": {
      "text/html": [
       "<div>\n",
       "<style scoped>\n",
       "    .dataframe tbody tr th:only-of-type {\n",
       "        vertical-align: middle;\n",
       "    }\n",
       "\n",
       "    .dataframe tbody tr th {\n",
       "        vertical-align: top;\n",
       "    }\n",
       "\n",
       "    .dataframe thead th {\n",
       "        text-align: right;\n",
       "    }\n",
       "</style>\n",
       "<table border=\"1\" class=\"dataframe\">\n",
       "  <thead>\n",
       "    <tr style=\"text-align: right;\">\n",
       "      <th></th>\n",
       "      <th>O</th>\n",
       "      <th>B-per</th>\n",
       "      <th>I-per</th>\n",
       "      <th>B-org</th>\n",
       "      <th>B-gpe</th>\n",
       "      <th>I-org</th>\n",
       "      <th>B-geo</th>\n",
       "      <th>B-tim</th>\n",
       "      <th>I-geo</th>\n",
       "      <th>I-tim</th>\n",
       "      <th>B-art</th>\n",
       "      <th>I-gpe</th>\n",
       "      <th>B-nat</th>\n",
       "      <th>I-nat</th>\n",
       "      <th>B-eve</th>\n",
       "      <th>I-art</th>\n",
       "      <th>I-eve</th>\n",
       "    </tr>\n",
       "  </thead>\n",
       "  <tbody>\n",
       "    <tr>\n",
       "      <th>O</th>\n",
       "      <td>220742</td>\n",
       "      <td>158.0</td>\n",
       "      <td>64.0</td>\n",
       "      <td>302.0</td>\n",
       "      <td>20.0</td>\n",
       "      <td>263.0</td>\n",
       "      <td>186.0</td>\n",
       "      <td>414.0</td>\n",
       "      <td>48.0</td>\n",
       "      <td>202.0</td>\n",
       "      <td>28.0</td>\n",
       "      <td>3.0</td>\n",
       "      <td>26.0</td>\n",
       "      <td>9.0</td>\n",
       "      <td>25.0</td>\n",
       "      <td>23.0</td>\n",
       "      <td>22.0</td>\n",
       "    </tr>\n",
       "    <tr>\n",
       "      <th>B-per</th>\n",
       "      <td>105</td>\n",
       "      <td>3536.0</td>\n",
       "      <td>112.0</td>\n",
       "      <td>224.0</td>\n",
       "      <td>7.0</td>\n",
       "      <td>44.0</td>\n",
       "      <td>108.0</td>\n",
       "      <td>2.0</td>\n",
       "      <td>3.0</td>\n",
       "      <td>2.0</td>\n",
       "      <td>7.0</td>\n",
       "      <td>NaN</td>\n",
       "      <td>1.0</td>\n",
       "      <td>NaN</td>\n",
       "      <td>2.0</td>\n",
       "      <td>1.0</td>\n",
       "      <td>NaN</td>\n",
       "    </tr>\n",
       "    <tr>\n",
       "      <th>B-gpe</th>\n",
       "      <td>44</td>\n",
       "      <td>NaN</td>\n",
       "      <td>NaN</td>\n",
       "      <td>20.0</td>\n",
       "      <td>3728.0</td>\n",
       "      <td>3.0</td>\n",
       "      <td>24.0</td>\n",
       "      <td>NaN</td>\n",
       "      <td>3.0</td>\n",
       "      <td>NaN</td>\n",
       "      <td>7.0</td>\n",
       "      <td>1.0</td>\n",
       "      <td>NaN</td>\n",
       "      <td>NaN</td>\n",
       "      <td>NaN</td>\n",
       "      <td>NaN</td>\n",
       "      <td>NaN</td>\n",
       "    </tr>\n",
       "    <tr>\n",
       "      <th>B-tim</th>\n",
       "      <td>206</td>\n",
       "      <td>3.0</td>\n",
       "      <td>1.0</td>\n",
       "      <td>10.0</td>\n",
       "      <td>NaN</td>\n",
       "      <td>3.0</td>\n",
       "      <td>11.0</td>\n",
       "      <td>4513.0</td>\n",
       "      <td>3.0</td>\n",
       "      <td>95.0</td>\n",
       "      <td>1.0</td>\n",
       "      <td>NaN</td>\n",
       "      <td>NaN</td>\n",
       "      <td>NaN</td>\n",
       "      <td>7.0</td>\n",
       "      <td>1.0</td>\n",
       "      <td>2.0</td>\n",
       "    </tr>\n",
       "    <tr>\n",
       "      <th>B-org</th>\n",
       "      <td>215</td>\n",
       "      <td>157.0</td>\n",
       "      <td>16.0</td>\n",
       "      <td>3761.0</td>\n",
       "      <td>29.0</td>\n",
       "      <td>68.0</td>\n",
       "      <td>313.0</td>\n",
       "      <td>12.0</td>\n",
       "      <td>13.0</td>\n",
       "      <td>NaN</td>\n",
       "      <td>25.0</td>\n",
       "      <td>1.0</td>\n",
       "      <td>10.0</td>\n",
       "      <td>NaN</td>\n",
       "      <td>6.0</td>\n",
       "      <td>3.0</td>\n",
       "      <td>NaN</td>\n",
       "    </tr>\n",
       "    <tr>\n",
       "      <th>I-org</th>\n",
       "      <td>220</td>\n",
       "      <td>51.0</td>\n",
       "      <td>162.0</td>\n",
       "      <td>59.0</td>\n",
       "      <td>4.0</td>\n",
       "      <td>3331.0</td>\n",
       "      <td>49.0</td>\n",
       "      <td>4.0</td>\n",
       "      <td>134.0</td>\n",
       "      <td>3.0</td>\n",
       "      <td>5.0</td>\n",
       "      <td>3.0</td>\n",
       "      <td>1.0</td>\n",
       "      <td>2.0</td>\n",
       "      <td>1.0</td>\n",
       "      <td>39.0</td>\n",
       "      <td>9.0</td>\n",
       "    </tr>\n",
       "    <tr>\n",
       "      <th>I-tim</th>\n",
       "      <td>127</td>\n",
       "      <td>2.0</td>\n",
       "      <td>1.0</td>\n",
       "      <td>7.0</td>\n",
       "      <td>NaN</td>\n",
       "      <td>4.0</td>\n",
       "      <td>2.0</td>\n",
       "      <td>72.0</td>\n",
       "      <td>NaN</td>\n",
       "      <td>1291.0</td>\n",
       "      <td>NaN</td>\n",
       "      <td>NaN</td>\n",
       "      <td>1.0</td>\n",
       "      <td>NaN</td>\n",
       "      <td>5.0</td>\n",
       "      <td>NaN</td>\n",
       "      <td>12.0</td>\n",
       "    </tr>\n",
       "    <tr>\n",
       "      <th>B-geo</th>\n",
       "      <td>152</td>\n",
       "      <td>186.0</td>\n",
       "      <td>6.0</td>\n",
       "      <td>624.0</td>\n",
       "      <td>162.0</td>\n",
       "      <td>65.0</td>\n",
       "      <td>8602.0</td>\n",
       "      <td>69.0</td>\n",
       "      <td>77.0</td>\n",
       "      <td>6.0</td>\n",
       "      <td>12.0</td>\n",
       "      <td>NaN</td>\n",
       "      <td>2.0</td>\n",
       "      <td>NaN</td>\n",
       "      <td>4.0</td>\n",
       "      <td>2.0</td>\n",
       "      <td>1.0</td>\n",
       "    </tr>\n",
       "    <tr>\n",
       "      <th>I-per</th>\n",
       "      <td>80</td>\n",
       "      <td>137.0</td>\n",
       "      <td>3860.0</td>\n",
       "      <td>82.0</td>\n",
       "      <td>NaN</td>\n",
       "      <td>231.0</td>\n",
       "      <td>33.0</td>\n",
       "      <td>4.0</td>\n",
       "      <td>70.0</td>\n",
       "      <td>3.0</td>\n",
       "      <td>1.0</td>\n",
       "      <td>4.0</td>\n",
       "      <td>NaN</td>\n",
       "      <td>NaN</td>\n",
       "      <td>NaN</td>\n",
       "      <td>12.0</td>\n",
       "      <td>1.0</td>\n",
       "    </tr>\n",
       "    <tr>\n",
       "      <th>I-geo</th>\n",
       "      <td>29</td>\n",
       "      <td>3.0</td>\n",
       "      <td>49.0</td>\n",
       "      <td>8.0</td>\n",
       "      <td>8.0</td>\n",
       "      <td>165.0</td>\n",
       "      <td>62.0</td>\n",
       "      <td>4.0</td>\n",
       "      <td>1468.0</td>\n",
       "      <td>2.0</td>\n",
       "      <td>NaN</td>\n",
       "      <td>5.0</td>\n",
       "      <td>NaN</td>\n",
       "      <td>NaN</td>\n",
       "      <td>NaN</td>\n",
       "      <td>3.0</td>\n",
       "      <td>1.0</td>\n",
       "    </tr>\n",
       "    <tr>\n",
       "      <th>I-eve</th>\n",
       "      <td>3</td>\n",
       "      <td>NaN</td>\n",
       "      <td>1.0</td>\n",
       "      <td>2.0</td>\n",
       "      <td>NaN</td>\n",
       "      <td>10.0</td>\n",
       "      <td>NaN</td>\n",
       "      <td>NaN</td>\n",
       "      <td>2.0</td>\n",
       "      <td>NaN</td>\n",
       "      <td>NaN</td>\n",
       "      <td>NaN</td>\n",
       "      <td>NaN</td>\n",
       "      <td>NaN</td>\n",
       "      <td>1.0</td>\n",
       "      <td>NaN</td>\n",
       "      <td>15.0</td>\n",
       "    </tr>\n",
       "    <tr>\n",
       "      <th>B-art</th>\n",
       "      <td>4</td>\n",
       "      <td>2.0</td>\n",
       "      <td>NaN</td>\n",
       "      <td>10.0</td>\n",
       "      <td>NaN</td>\n",
       "      <td>NaN</td>\n",
       "      <td>6.0</td>\n",
       "      <td>NaN</td>\n",
       "      <td>1.0</td>\n",
       "      <td>NaN</td>\n",
       "      <td>15.0</td>\n",
       "      <td>NaN</td>\n",
       "      <td>NaN</td>\n",
       "      <td>NaN</td>\n",
       "      <td>2.0</td>\n",
       "      <td>NaN</td>\n",
       "      <td>NaN</td>\n",
       "    </tr>\n",
       "    <tr>\n",
       "      <th>I-gpe</th>\n",
       "      <td>1</td>\n",
       "      <td>NaN</td>\n",
       "      <td>NaN</td>\n",
       "      <td>NaN</td>\n",
       "      <td>1.0</td>\n",
       "      <td>NaN</td>\n",
       "      <td>NaN</td>\n",
       "      <td>NaN</td>\n",
       "      <td>NaN</td>\n",
       "      <td>NaN</td>\n",
       "      <td>NaN</td>\n",
       "      <td>19.0</td>\n",
       "      <td>NaN</td>\n",
       "      <td>NaN</td>\n",
       "      <td>NaN</td>\n",
       "      <td>NaN</td>\n",
       "      <td>NaN</td>\n",
       "    </tr>\n",
       "    <tr>\n",
       "      <th>B-eve</th>\n",
       "      <td>2</td>\n",
       "      <td>3.0</td>\n",
       "      <td>NaN</td>\n",
       "      <td>7.0</td>\n",
       "      <td>2.0</td>\n",
       "      <td>NaN</td>\n",
       "      <td>2.0</td>\n",
       "      <td>1.0</td>\n",
       "      <td>NaN</td>\n",
       "      <td>NaN</td>\n",
       "      <td>NaN</td>\n",
       "      <td>NaN</td>\n",
       "      <td>NaN</td>\n",
       "      <td>NaN</td>\n",
       "      <td>27.0</td>\n",
       "      <td>NaN</td>\n",
       "      <td>9.0</td>\n",
       "    </tr>\n",
       "    <tr>\n",
       "      <th>I-art</th>\n",
       "      <td>2</td>\n",
       "      <td>NaN</td>\n",
       "      <td>1.0</td>\n",
       "      <td>NaN</td>\n",
       "      <td>NaN</td>\n",
       "      <td>8.0</td>\n",
       "      <td>1.0</td>\n",
       "      <td>NaN</td>\n",
       "      <td>4.0</td>\n",
       "      <td>NaN</td>\n",
       "      <td>1.0</td>\n",
       "      <td>NaN</td>\n",
       "      <td>NaN</td>\n",
       "      <td>NaN</td>\n",
       "      <td>NaN</td>\n",
       "      <td>6.0</td>\n",
       "      <td>2.0</td>\n",
       "    </tr>\n",
       "    <tr>\n",
       "      <th>B-nat</th>\n",
       "      <td>2</td>\n",
       "      <td>NaN</td>\n",
       "      <td>NaN</td>\n",
       "      <td>NaN</td>\n",
       "      <td>NaN</td>\n",
       "      <td>NaN</td>\n",
       "      <td>4.0</td>\n",
       "      <td>NaN</td>\n",
       "      <td>NaN</td>\n",
       "      <td>NaN</td>\n",
       "      <td>NaN</td>\n",
       "      <td>NaN</td>\n",
       "      <td>14.0</td>\n",
       "      <td>4.0</td>\n",
       "      <td>NaN</td>\n",
       "      <td>NaN</td>\n",
       "      <td>NaN</td>\n",
       "    </tr>\n",
       "    <tr>\n",
       "      <th>I-nat</th>\n",
       "      <td>2</td>\n",
       "      <td>1.0</td>\n",
       "      <td>NaN</td>\n",
       "      <td>NaN</td>\n",
       "      <td>NaN</td>\n",
       "      <td>NaN</td>\n",
       "      <td>NaN</td>\n",
       "      <td>NaN</td>\n",
       "      <td>NaN</td>\n",
       "      <td>NaN</td>\n",
       "      <td>NaN</td>\n",
       "      <td>NaN</td>\n",
       "      <td>NaN</td>\n",
       "      <td>3.0</td>\n",
       "      <td>NaN</td>\n",
       "      <td>NaN</td>\n",
       "      <td>NaN</td>\n",
       "    </tr>\n",
       "  </tbody>\n",
       "</table>\n",
       "</div>"
      ],
      "text/plain": [
       "            O   B-per   I-per   B-org   B-gpe   I-org   B-geo   B-tim   I-geo  \\\n",
       "O      220742   158.0    64.0   302.0    20.0   263.0   186.0   414.0    48.0   \n",
       "B-per     105  3536.0   112.0   224.0     7.0    44.0   108.0     2.0     3.0   \n",
       "B-gpe      44     NaN     NaN    20.0  3728.0     3.0    24.0     NaN     3.0   \n",
       "B-tim     206     3.0     1.0    10.0     NaN     3.0    11.0  4513.0     3.0   \n",
       "B-org     215   157.0    16.0  3761.0    29.0    68.0   313.0    12.0    13.0   \n",
       "I-org     220    51.0   162.0    59.0     4.0  3331.0    49.0     4.0   134.0   \n",
       "I-tim     127     2.0     1.0     7.0     NaN     4.0     2.0    72.0     NaN   \n",
       "B-geo     152   186.0     6.0   624.0   162.0    65.0  8602.0    69.0    77.0   \n",
       "I-per      80   137.0  3860.0    82.0     NaN   231.0    33.0     4.0    70.0   \n",
       "I-geo      29     3.0    49.0     8.0     8.0   165.0    62.0     4.0  1468.0   \n",
       "I-eve       3     NaN     1.0     2.0     NaN    10.0     NaN     NaN     2.0   \n",
       "B-art       4     2.0     NaN    10.0     NaN     NaN     6.0     NaN     1.0   \n",
       "I-gpe       1     NaN     NaN     NaN     1.0     NaN     NaN     NaN     NaN   \n",
       "B-eve       2     3.0     NaN     7.0     2.0     NaN     2.0     1.0     NaN   \n",
       "I-art       2     NaN     1.0     NaN     NaN     8.0     1.0     NaN     4.0   \n",
       "B-nat       2     NaN     NaN     NaN     NaN     NaN     4.0     NaN     NaN   \n",
       "I-nat       2     1.0     NaN     NaN     NaN     NaN     NaN     NaN     NaN   \n",
       "\n",
       "        I-tim  B-art  I-gpe  B-nat  I-nat  B-eve  I-art  I-eve  \n",
       "O       202.0   28.0    3.0   26.0    9.0   25.0   23.0   22.0  \n",
       "B-per     2.0    7.0    NaN    1.0    NaN    2.0    1.0    NaN  \n",
       "B-gpe     NaN    7.0    1.0    NaN    NaN    NaN    NaN    NaN  \n",
       "B-tim    95.0    1.0    NaN    NaN    NaN    7.0    1.0    2.0  \n",
       "B-org     NaN   25.0    1.0   10.0    NaN    6.0    3.0    NaN  \n",
       "I-org     3.0    5.0    3.0    1.0    2.0    1.0   39.0    9.0  \n",
       "I-tim  1291.0    NaN    NaN    1.0    NaN    5.0    NaN   12.0  \n",
       "B-geo     6.0   12.0    NaN    2.0    NaN    4.0    2.0    1.0  \n",
       "I-per     3.0    1.0    4.0    NaN    NaN    NaN   12.0    1.0  \n",
       "I-geo     2.0    NaN    5.0    NaN    NaN    NaN    3.0    1.0  \n",
       "I-eve     NaN    NaN    NaN    NaN    NaN    1.0    NaN   15.0  \n",
       "B-art     NaN   15.0    NaN    NaN    NaN    2.0    NaN    NaN  \n",
       "I-gpe     NaN    NaN   19.0    NaN    NaN    NaN    NaN    NaN  \n",
       "B-eve     NaN    NaN    NaN    NaN    NaN   27.0    NaN    9.0  \n",
       "I-art     NaN    1.0    NaN    NaN    NaN    NaN    6.0    2.0  \n",
       "B-nat     NaN    NaN    NaN   14.0    4.0    NaN    NaN    NaN  \n",
       "I-nat     NaN    NaN    NaN    NaN    3.0    NaN    NaN    NaN  "
      ]
     },
     "execution_count": 32,
     "metadata": {},
     "output_type": "execute_result"
    }
   ],
   "source": [
    "cnf_df = pd.DataFrame(conf_mat)\n",
    "cnf_df"
   ]
  },
  {
   "cell_type": "markdown",
   "id": "42cef6879c00b6b3",
   "metadata": {
    "collapsed": false,
    "jupyter": {
     "outputs_hidden": false
    }
   },
   "source": [
    "Accuracy/Genauigkeit"
   ]
  },
  {
   "cell_type": "code",
   "execution_count": 33,
   "id": "e96e8eac176cc248",
   "metadata": {
    "ExecuteTime": {
     "end_time": "2023-11-23T18:11:42.713504600Z",
     "start_time": "2023-11-23T18:11:42.697470400Z"
    },
    "collapsed": false,
    "jupyter": {
     "outputs_hidden": false
    }
   },
   "outputs": [
    {
     "name": "stdout",
     "output_type": "stream",
     "text": [
      "Label: O \t korrekt: 220742 \t gesamt: 221936 \t Genauigkeit: 0.9946200706509984\n",
      "Label: B-per \t korrekt: 3536 \t gesamt: 4239 \t Genauigkeit: 0.8341589997640954\n",
      "Label: I-per \t korrekt: 3860 \t gesamt: 4273 \t Genauigkeit: 0.903346594898198\n",
      "Label: B-org \t korrekt: 3761 \t gesamt: 5116 \t Genauigkeit: 0.7351446442533229\n",
      "Label: B-gpe \t korrekt: 3728 \t gesamt: 3961 \t Genauigkeit: 0.9411764705882353\n",
      "Label: I-org \t korrekt: 3331 \t gesamt: 4195 \t Genauigkeit: 0.7940405244338499\n",
      "Label: B-geo \t korrekt: 8602 \t gesamt: 9403 \t Genauigkeit: 0.9148144209294906\n",
      "Label: B-tim \t korrekt: 4513 \t gesamt: 5095 \t Genauigkeit: 0.8857703631010795\n",
      "Label: I-geo \t korrekt: 1468 \t gesamt: 1826 \t Genauigkeit: 0.8039430449069004\n",
      "Label: I-tim \t korrekt: 1291 \t gesamt: 1604 \t Genauigkeit: 0.8048628428927681\n",
      "Label: B-art \t korrekt: 15 \t gesamt: 102 \t Genauigkeit: 0.14705882352941177\n",
      "Label: I-gpe \t korrekt: 19 \t gesamt: 36 \t Genauigkeit: 0.5277777777777778\n",
      "Label: B-nat \t korrekt: 14 \t gesamt: 55 \t Genauigkeit: 0.2545454545454545\n",
      "Label: I-nat \t korrekt: 3 \t gesamt: 18 \t Genauigkeit: 0.16666666666666666\n",
      "Label: B-eve \t korrekt: 27 \t gesamt: 80 \t Genauigkeit: 0.3375\n",
      "Label: I-art \t korrekt: 6 \t gesamt: 90 \t Genauigkeit: 0.06666666666666667\n",
      "Label: I-eve \t korrekt: 15 \t gesamt: 74 \t Genauigkeit: 0.20270270270270271\n",
      "\n",
      "Genauigkeit über alle: 0.9726367115218063\n",
      "Genauigkeit gemittelt: 0.6067527099004483\n"
     ]
    }
   ],
   "source": [
    "korrekt_gesamt = 0\n",
    "anzahl = 0\n",
    "\n",
    "korrekt_labels = 0\n",
    "labels_anzahl = 0\n",
    "\n",
    "for lbl, dct in zip(conf_mat.keys(), conf_mat.values()):\n",
    "    korrekt = dct[lbl]\n",
    "    gesamt = sum(dct.values())\n",
    "    print(f\"Label: {lbl} \\t korrekt: {korrekt} \\t gesamt: {gesamt} \\t Genauigkeit: {korrekt/gesamt}\")\n",
    "    korrekt_gesamt += korrekt\n",
    "    anzahl += gesamt\n",
    "    korrekt_labels += korrekt/gesamt\n",
    "    labels_anzahl += 1\n",
    "    \n",
    "print()\n",
    "print(f\"Genauigkeit über alle: {korrekt_gesamt/anzahl}\")\n",
    "print(f\"Genauigkeit gemittelt: {korrekt_labels/labels_anzahl}\")"
   ]
  },
  {
   "cell_type": "code",
   "execution_count": null,
   "id": "7a596bd7bb7cdcd5",
   "metadata": {
    "collapsed": false,
    "jupyter": {
     "outputs_hidden": false
    }
   },
   "outputs": [],
   "source": []
  }
 ],
 "metadata": {
  "kernelspec": {
   "display_name": "venv",
   "language": "python",
   "name": "venv"
  },
  "language_info": {
   "codemirror_mode": {
    "name": "ipython",
    "version": 3
   },
   "file_extension": ".py",
   "mimetype": "text/x-python",
   "name": "python",
   "nbconvert_exporter": "python",
   "pygments_lexer": "ipython3",
   "version": "3.11.6"
  }
 },
 "nbformat": 4,
 "nbformat_minor": 5
}
