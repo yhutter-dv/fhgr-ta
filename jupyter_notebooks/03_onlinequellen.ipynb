{
 "cells": [
  {
   "cell_type": "markdown",
   "id": "b26e3831d1573940",
   "metadata": {
    "collapsed": false,
    "jupyter": {
     "outputs_hidden": false
    }
   },
   "source": [
    "# Zugriff auf Onlinequellen\n",
    "\n",
    "Einfache Beispiele für die Arbeit mit online verfügbaren Texten"
   ]
  },
  {
   "cell_type": "code",
   "execution_count": 2,
   "id": "817b92ec-6937-4de5-b583-1b60343d43c7",
   "metadata": {},
   "outputs": [
    {
     "name": "stderr",
     "output_type": "stream",
     "text": [
      "[nltk_data] Downloading package gutenberg to\n",
      "[nltk_data]     /home/yhutter/nltk_data...\n",
      "[nltk_data]   Unzipping corpora/gutenberg.zip.\n"
     ]
    },
    {
     "data": {
      "text/plain": [
       "True"
      ]
     },
     "execution_count": 2,
     "metadata": {},
     "output_type": "execute_result"
    }
   ],
   "source": [
    "import nltk\n",
    "nltk.download('gutenberg')"
   ]
  },
  {
   "cell_type": "code",
   "execution_count": 3,
   "id": "6c50c91d9e8366cd",
   "metadata": {
    "collapsed": false,
    "jupyter": {
     "outputs_hidden": false
    }
   },
   "outputs": [
    {
     "data": {
      "text/plain": [
       "['[The King James Bible]\\n',\n",
       " '\\n',\n",
       " 'The Old Testament of the King James Bible\\n',\n",
       " '\\n',\n",
       " 'The First Book of Moses:  Called Genesis\\n']"
      ]
     },
     "execution_count": 3,
     "metadata": {},
     "output_type": "execute_result"
    }
   ],
   "source": [
    "from nltk.corpus import gutenberg\n",
    "import matplotlib.pyplot as plt\n",
    "%matplotlib inline\n",
    "\n",
    "bible = gutenberg.open('bible-kjv.txt')\n",
    "bible = bible.readlines()\n",
    "\n",
    "bible[:5]"
   ]
  },
  {
   "cell_type": "code",
   "execution_count": 4,
   "id": "de2ccee388594fd5",
   "metadata": {
    "collapsed": false,
    "jupyter": {
     "outputs_hidden": false
    }
   },
   "outputs": [
    {
     "data": {
      "text/plain": [
       "99805"
      ]
     },
     "execution_count": 4,
     "metadata": {},
     "output_type": "execute_result"
    }
   ],
   "source": [
    "len(bible)"
   ]
  },
  {
   "cell_type": "code",
   "execution_count": 5,
   "id": "68a329e0f1b52aa9",
   "metadata": {
    "collapsed": false,
    "jupyter": {
     "outputs_hidden": false
    }
   },
   "outputs": [
    {
     "data": {
      "text/plain": [
       "['[The King James Bible]',\n",
       " 'The Old Testament of the King James Bible',\n",
       " 'The First Book of Moses:  Called Genesis',\n",
       " '1:1 In the beginning God created the heaven and the earth.',\n",
       " '1:2 And the earth was without form, and void; and darkness was upon']"
      ]
     },
     "execution_count": 5,
     "metadata": {},
     "output_type": "execute_result"
    }
   ],
   "source": [
    "bible = list(filter(None, [item.strip('\\n') for item in bible]))\n",
    "bible[:5]"
   ]
  },
  {
   "cell_type": "code",
   "execution_count": 6,
   "id": "58f7cc89cf824357",
   "metadata": {
    "collapsed": false,
    "jupyter": {
     "outputs_hidden": false
    }
   },
   "outputs": [
    {
     "data": {
      "text/plain": [
       "74645"
      ]
     },
     "execution_count": 6,
     "metadata": {},
     "output_type": "execute_result"
    }
   ],
   "source": [
    "len(bible)"
   ]
  },
  {
   "cell_type": "code",
   "execution_count": 7,
   "id": "9ff34116081d4cdd",
   "metadata": {
    "collapsed": false,
    "jupyter": {
     "outputs_hidden": false
    }
   },
   "outputs": [
    {
     "data": {
      "image/png": "[encoded data removed]",
      "text/plain": [
       "<Figure size 640x480 with 1 Axes>"
      ]
     },
     "metadata": {},
     "output_type": "display_data"
    }
   ],
   "source": [
    "line_lengths = [len(sentence) for sentence in bible]\n",
    "h = plt.hist(line_lengths)"
   ]
  },
  {
   "cell_type": "code",
   "execution_count": 8,
   "id": "6cfe546a525430d0",
   "metadata": {
    "collapsed": false,
    "jupyter": {
     "outputs_hidden": false
    }
   },
   "outputs": [
    {
     "name": "stdout",
     "output_type": "stream",
     "text": [
      "[['[The', 'King', 'James', 'Bible]'], ['The', 'Old', 'Testament', 'of', 'the', 'King', 'James', 'Bible'], ['The', 'First', 'Book', 'of', 'Moses:', 'Called', 'Genesis'], ['1:1', 'In', 'the', 'beginning', 'God', 'created', 'the', 'heaven', 'and', 'the', 'earth.'], ['1:2', 'And', 'the', 'earth', 'was', 'without', 'form,', 'and', 'void;', 'and', 'darkness', 'was', 'upon']]\n"
     ]
    }
   ],
   "source": [
    "tokens = [item.split() for item in bible]\n",
    "print(tokens[:5])"
   ]
  },
  {
   "cell_type": "code",
   "execution_count": null,
   "id": "5e7fee2ecc0d11cd",
   "metadata": {
    "collapsed": false,
    "jupyter": {
     "outputs_hidden": false
    }
   },
   "outputs": [],
   "source": [
    "total_tokens_per_line = [len(sentence.split()) for sentence in bible]\n",
    "h = plt.hist(total_tokens_per_line, color='orange')"
   ]
  },
  {
   "cell_type": "code",
   "execution_count": null,
   "id": "27fb3e91f233c9b7",
   "metadata": {
    "collapsed": false,
    "jupyter": {
     "outputs_hidden": false
    }
   },
   "outputs": [],
   "source": [
    "words = [word for sentence in tokens for word in sentence]\n",
    "print(words[:20])"
   ]
  },
  {
   "cell_type": "code",
   "execution_count": null,
   "id": "46f148e89728ef51",
   "metadata": {
    "collapsed": false,
    "jupyter": {
     "outputs_hidden": false
    }
   },
   "outputs": [],
   "source": [
    "import re\n",
    "\n",
    "words = list(filter(None, [re.sub(r'[^A-Za-z]', '', word) for word in words]))\n",
    "print(words[:20])"
   ]
  },
  {
   "cell_type": "code",
   "execution_count": null,
   "id": "9fd308955b99e576",
   "metadata": {
    "collapsed": false,
    "jupyter": {
     "outputs_hidden": false
    }
   },
   "outputs": [],
   "source": [
    "from collections import Counter\n",
    "\n",
    "words = [word.lower() for word in words]\n",
    "c = Counter(words)\n",
    "c.most_common(10)"
   ]
  },
  {
   "cell_type": "code",
   "execution_count": null,
   "id": "a683ad79fbfc501f",
   "metadata": {
    "collapsed": false,
    "jupyter": {
     "outputs_hidden": false
    }
   },
   "outputs": [],
   "source": [
    "import nltk\n",
    "\n",
    "stopwords = nltk.corpus.stopwords.words('english')\n",
    "words = [word.lower() for word in words if word.lower() not in stopwords]\n",
    "c = Counter(words)\n",
    "c.most_common(10)"
   ]
  },
  {
   "cell_type": "markdown",
   "id": "1f1975c4-23c2-45c6-b522-d282b7bb227a",
   "metadata": {
    "collapsed": false,
    "jupyter": {
     "outputs_hidden": false
    }
   },
   "source": [
    "# Filterung Korpus nach Zahlen? "
   ]
  },
  {
   "cell_type": "markdown",
   "id": "4fed079d-a6d5-4def-8ed5-78063e3f37a6",
   "metadata": {},
   "source": [
    "## Wie viele Zahlen sind es"
   ]
  },
  {
   "cell_type": "code",
   "execution_count": null,
   "id": "d31cdff8-d28f-4d61-926e-540abff17bf4",
   "metadata": {},
   "outputs": [],
   "source": [
    "words = [word for sentence in tokens for word in sentence]\n",
    "numbers = list(filter(None, [re.sub(r'[^\\d]', '', word) for word in words]))\n",
    "len(numbers)\n",
    "numbers[:2]"
   ]
  },
  {
   "cell_type": "markdown",
   "id": "f96b8a13-e7ed-486f-ab52-08a118e0dc96",
   "metadata": {},
   "source": [
    "## Wie viele unterschiedliche? \n"
   ]
  },
  {
   "cell_type": "code",
   "execution_count": null,
   "id": "0bbd832a-a3bc-4acb-b1a1-200c35ea1d8d",
   "metadata": {},
   "outputs": [],
   "source": [
    "c = Counter(numbers)\n",
    "len(c)"
   ]
  },
  {
   "cell_type": "markdown",
   "id": "6269747b-7e11-47f0-a71c-cef6085d5162",
   "metadata": {},
   "source": [
    "## Welches sind die häufigsten Zahlen?"
   ]
  },
  {
   "cell_type": "code",
   "execution_count": null,
   "id": "8e9804c3-bc24-40f8-9940-b3782db7acc7",
   "metadata": {},
   "outputs": [],
   "source": [
    "c.most_common(10)"
   ]
  }
 ],
 "metadata": {
  "kernelspec": {
   "display_name": "venv",
   "language": "python",
   "name": "venv"
  },
  "language_info": {
   "codemirror_mode": {
    "name": "ipython",
    "version": 3
   },
   "file_extension": ".py",
   "mimetype": "text/x-python",
   "name": "python",
   "nbconvert_exporter": "python",
   "pygments_lexer": "ipython3",
   "version": "3.11.5"
  }
 },
 "nbformat": 4,
 "nbformat_minor": 5
}
