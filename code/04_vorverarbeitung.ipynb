{
 "cells": [
  {
   "cell_type": "code",
   "execution_count": 3,
   "id": "1f99ff81-1106-4dd6-a685-3d10356d512f",
   "metadata": {},
   "outputs": [
    {
     "name": "stderr",
     "output_type": "stream",
     "text": [
      "[nltk_data] Downloading package europarl_raw to\n",
      "[nltk_data]     C:\\Users\\yhutter\\AppData\\Roaming\\nltk_data...\n",
      "[nltk_data]   Unzipping corpora\\europarl_raw.zip.\n"
     ]
    },
    {
     "data": {
      "text/plain": [
       "True"
      ]
     },
     "execution_count": 3,
     "metadata": {},
     "output_type": "execute_result"
    }
   ],
   "source": [
    "import nltk\n",
    "#nltk.download('gutenberg')\n",
    "#nltk.download('punkt')\n",
    "#nltk.download('europarl_raw')"
   ]
  },
  {
   "cell_type": "markdown",
   "id": "cc1d3362521d21f9",
   "metadata": {
    "collapsed": false,
    "jupyter": {
     "outputs_hidden": false
    }
   },
   "source": [
    "# Texte vorverarbeiten\n",
    "\n",
    "einlesen, umformen, filtern, ...\n",
    "\n",
    "Nach Sarkar, angepasst von Heiko Rölke"
   ]
  },
  {
   "cell_type": "markdown",
   "id": "8f21bb0a8e9d91d3",
   "metadata": {
    "collapsed": false,
    "jupyter": {
     "outputs_hidden": false
    }
   },
   "source": [
    "## Einlesen von Texten aus dem Internet"
   ]
  },
  {
   "cell_type": "code",
   "execution_count": 4,
   "id": "68b84f9802f7476b",
   "metadata": {
    "collapsed": false,
    "jupyter": {
     "outputs_hidden": false
    }
   },
   "outputs": [
    {
     "name": "stdout",
     "output_type": "stream",
     "text": [
      "b'gin-top: 0;\\r\\n    margin-bottom: 0;\\r\\n}\\r\\n#pg-header #pg-machine-header strong {\\r\\n    font-weight: normal;\\r\\n}\\r\\n#pg-header #pg-start-separator, #pg-footer #pg-end-separator {\\r\\n    margin-bottom: 3em;\\r\\n    margin-left: 0;\\r\\n    margin-right: auto;\\r\\n    margin-top: 2em;\\r\\n    text-align: center\\r\\n}\\r\\n\\r\\n    .xhtml_center {text-align: center; display: block;}\\r\\n    .xhtml_center table {\\r\\n        display: table;\\r\\n        text-align: left;\\r\\n        margin-left: auto;\\r\\n        margin-right: auto;\\r\\n        }</style><title>The Project Gutenberg eBook of The Bible, King James version, Book 1: Genesis, by Anonymous</title><style>/* ************************************************************************\\r\\n * classless css copied from https://www.pgdp.net/wiki/CSS_Cookbook/Styles\\r\\n * ********************************************************************** */\\r\\n/* ************************************************************************\\r\\n * set the body margins to allow whitespace along sides of window\\r\\n * ******************************************'\n"
     ]
    }
   ],
   "source": [
    "import requests\n",
    "\n",
    "data = requests.get('http://www.gutenberg.org/cache/epub/8001/pg8001.html')\n",
    "content = data.content\n",
    "print(content[1163:2200])"
   ]
  },
  {
   "cell_type": "code",
   "execution_count": 5,
   "id": "1dd20396e41ed58",
   "metadata": {
    "collapsed": false,
    "jupyter": {
     "outputs_hidden": false
    }
   },
   "outputs": [
    {
     "name": "stdout",
     "output_type": "stream",
     "text": [
      "form, and void; and darkness was\n",
      "           upon the face of the deep. And the Spirit of God moved upon\n",
      "           the face of the waters.\n",
      "01:001:003 And God said, Let there be light: and there was light.\n",
      "01:001:004 And God saw the light, that it was good: and God divided the\n",
      "           light from the darkness.\n",
      "01:001:005 And God called the light Day, and the darkness he called\n",
      "           Night. And the evening and the morning were the first day.\n",
      "01:001:006 And God said, Let there be a firmament in the midst of the\n",
      "           waters, and let it divide the waters from the waters.\n",
      "01:001:007 And God made the firmament, and divided the waters which were\n",
      "           under the firmament from the waters which were above the\n",
      "           firmament: and it was so.\n",
      "01:001:008 And God called the firmament Heaven. And the evening and the\n",
      "           morning were the second day.\n",
      "01:001\n"
     ]
    }
   ],
   "source": [
    "import re\n",
    "from bs4 import BeautifulSoup\n",
    "\n",
    "def strip_html_tags(text):\n",
    "    soup = BeautifulSoup(text, \"html.parser\")\n",
    "    [s.extract() for s in soup(['iframe', 'script'])]\n",
    "    stripped_text = soup.get_text()\n",
    "    stripped_text = re.sub(r'[\\r|\\n|\\r\\n]+', '\\n', stripped_text)\n",
    "    return stripped_text\n",
    "\n",
    "clean_content = strip_html_tags(content)\n",
    "print(clean_content[1163:2045])"
   ]
  },
  {
   "cell_type": "markdown",
   "id": "c5da09c65c43c96f",
   "metadata": {
    "collapsed": false,
    "jupyter": {
     "outputs_hidden": false
    }
   },
   "source": [
    "## Aufteilung/Tokenization"
   ]
  },
  {
   "cell_type": "markdown",
   "id": "353f074da2a03551",
   "metadata": {
    "collapsed": false,
    "jupyter": {
     "outputs_hidden": false
    }
   },
   "source": [
    "Satzaufteilung/Sentence Tokenization"
   ]
  },
  {
   "cell_type": "code",
   "execution_count": 6,
   "id": "8201858e26c70348",
   "metadata": {
    "collapsed": false,
    "jupyter": {
     "outputs_hidden": false
    }
   },
   "outputs": [
    {
     "data": {
      "text/plain": [
       "\"US unveils world's most powerful supercomputer, beats China. The US has unveiled the world's most powerful supercomputer called 'Summit', beating the previous record-holder China's Sunway TaihuLight. With a peak performance of 200,000 trillion calculations per second, it is over twice as fast as Sunway TaihuLight, which is capable of 93,000 trillion calculations per second. Summit has 4,608 servers, which reportedly take up the size of two tennis courts.\""
      ]
     },
     "execution_count": 6,
     "metadata": {},
     "output_type": "execute_result"
    }
   ],
   "source": [
    "import nltk\n",
    "from nltk.corpus import gutenberg\n",
    "from pprint import pprint\n",
    "import numpy as np\n",
    "\n",
    "# loading text corpora\n",
    "alice = gutenberg.raw(fileids='carroll-alice.txt')\n",
    "sample_text = (\"US unveils world's most powerful supercomputer, beats China. \" \n",
    "               \"The US has unveiled the world's most powerful supercomputer called 'Summit', \" \n",
    "               \"beating the previous record-holder China's Sunway TaihuLight. With a peak performance \"\n",
    "               \"of 200,000 trillion calculations per second, it is over twice as fast as Sunway TaihuLight, \"\n",
    "               \"which is capable of 93,000 trillion calculations per second. Summit has 4,608 servers, \"\n",
    "               \"which reportedly take up the size of two tennis courts.\")\n",
    "sample_text"
   ]
  },
  {
   "cell_type": "code",
   "execution_count": 7,
   "id": "bfd3e9acf6d3e0ba",
   "metadata": {
    "collapsed": false,
    "jupyter": {
     "outputs_hidden": false
    }
   },
   "outputs": [
    {
     "data": {
      "text/plain": [
       "144395"
      ]
     },
     "execution_count": 7,
     "metadata": {},
     "output_type": "execute_result"
    }
   ],
   "source": [
    "# Total characters in Alice in Wonderland\n",
    "len(alice)"
   ]
  },
  {
   "cell_type": "code",
   "execution_count": 8,
   "id": "478c243306520069",
   "metadata": {
    "collapsed": false,
    "jupyter": {
     "outputs_hidden": false
    }
   },
   "outputs": [
    {
     "data": {
      "text/plain": [
       "\"[Alice's Adventures in Wonderland by Lewis Carroll 1865]\\n\\nCHAPTER I. Down the Rabbit-Hole\\n\\nAlice was\""
      ]
     },
     "execution_count": 8,
     "metadata": {},
     "output_type": "execute_result"
    }
   ],
   "source": [
    "# First 100 characters in the corpus\n",
    "alice[0:100]"
   ]
  },
  {
   "cell_type": "code",
   "execution_count": 9,
   "id": "655db7df5445b536",
   "metadata": {
    "collapsed": false,
    "jupyter": {
     "outputs_hidden": false
    }
   },
   "outputs": [
    {
     "name": "stdout",
     "output_type": "stream",
     "text": [
      "Total sentences in sample_text: 4\n",
      "Sample text sentences :-\n",
      "[\"US unveils world's most powerful supercomputer, beats China.\"\n",
      " \"The US has unveiled the world's most powerful supercomputer called 'Summit', beating the previous record-holder China's Sunway TaihuLight.\"\n",
      " 'With a peak performance of 200,000 trillion calculations per second, it is over twice as fast as Sunway TaihuLight, which is capable of 93,000 trillion calculations per second.'\n",
      " 'Summit has 4,608 servers, which reportedly take up the size of two tennis courts.']\n",
      "\n",
      "Total sentences in alice: 1625\n",
      "First 5 sentences in alice:-\n",
      "[\"[Alice's Adventures in Wonderland by Lewis Carroll 1865]\\n\\nCHAPTER I.\"\n",
      " \"Down the Rabbit-Hole\\n\\nAlice was beginning to get very tired of sitting by her sister on the\\nbank, and of having nothing to do: once or twice she had peeped into the\\nbook her sister was reading, but it had no pictures or conversations in\\nit, 'and what is the use of a book,' thought Alice 'without pictures or\\nconversation?'\"\n",
      " 'So she was considering in her own mind (as well as she could, for the\\nhot day made her feel very sleepy and stupid), whether the pleasure\\nof making a daisy-chain would be worth the trouble of getting up and\\npicking the daisies, when suddenly a White Rabbit with pink eyes ran\\nclose by her.'\n",
      " \"There was nothing so VERY remarkable in that; nor did Alice think it so\\nVERY much out of the way to hear the Rabbit say to itself, 'Oh dear!\"\n",
      " 'Oh dear!']\n"
     ]
    }
   ],
   "source": [
    "default_st = nltk.sent_tokenize\n",
    "alice_sentences = default_st(text=alice)\n",
    "sample_sentences = default_st(text=sample_text)\n",
    "\n",
    "print('Total sentences in sample_text:', len(sample_sentences))\n",
    "print('Sample text sentences :-')\n",
    "print(np.array(sample_sentences))\n",
    "\n",
    "print('\\nTotal sentences in alice:', len(alice_sentences))\n",
    "print('First 5 sentences in alice:-')\n",
    "print(np.array(alice_sentences[0:5]))"
   ]
  },
  {
   "cell_type": "markdown",
   "id": "5eece1dbc596536",
   "metadata": {
    "collapsed": false,
    "jupyter": {
     "outputs_hidden": false
    }
   },
   "source": [
    "Geht auch für andere Sprachen"
   ]
  },
  {
   "cell_type": "code",
   "execution_count": 10,
   "id": "2a8d81a645c73057",
   "metadata": {
    "collapsed": false,
    "jupyter": {
     "outputs_hidden": false
    }
   },
   "outputs": [
    {
     "name": "stdout",
     "output_type": "stream",
     "text": [
      "157171\n",
      " \n",
      "Wiederaufnahme der Sitzungsperiode Ich erkläre die am Freitag , dem 17. Dezember unterbrochene Sit\n"
     ]
    }
   ],
   "source": [
    "from nltk.corpus import europarl_raw\n",
    "\n",
    "german_text = europarl_raw.german.raw(fileids='ep-00-01-17.de')\n",
    "# Total characters in the corpus\n",
    "print(len(german_text))\n",
    "# First 100 characters in the corpus\n",
    "print(german_text[0:100])"
   ]
  },
  {
   "cell_type": "code",
   "execution_count": 11,
   "id": "786eb252f1b48ff3",
   "metadata": {
    "collapsed": false,
    "jupyter": {
     "outputs_hidden": false
    }
   },
   "outputs": [],
   "source": [
    "# default sentence tokenizer \n",
    "german_sentences_def = default_st(text=german_text, language='german')\n",
    "\n",
    "# loading german text tokenizer into a PunktSentenceTokenizer instance  \n",
    "german_tokenizer = nltk.data.load(resource_url='tokenizers/punkt/german.pickle')\n",
    "german_sentences = german_tokenizer.tokenize(german_text)"
   ]
  },
  {
   "cell_type": "code",
   "execution_count": 12,
   "id": "ad41af5fc19348c",
   "metadata": {
    "collapsed": false,
    "jupyter": {
     "outputs_hidden": false
    }
   },
   "outputs": [
    {
     "data": {
      "text/plain": [
       "[' \\nWiederaufnahme der Sitzungsperiode Ich erkläre die am Freitag , dem 17. Dezember unterbrochene Sitzungsperiode des Europäischen Parlaments für wiederaufgenommen , wünsche Ihnen nochmals alles Gute zum Jahreswechsel und hoffe , daß Sie schöne Ferien hatten .',\n",
       " 'Wie Sie feststellen konnten , ist der gefürchtete \" Millenium-Bug \" nicht eingetreten .',\n",
       " 'Doch sind Bürger einiger unserer Mitgliedstaaten Opfer von schrecklichen Naturkatastrophen geworden .',\n",
       " 'Im Parlament besteht der Wunsch nach einer Aussprache im Verlauf dieser Sitzungsperiode in den nächsten Tagen .',\n",
       " 'Heute möchte ich Sie bitten - das ist auch der Wunsch einiger Kolleginnen und Kollegen - , allen Opfern der Stürme , insbesondere in den verschiedenen Ländern der Europäischen Union , in einer Schweigeminute zu gedenken .']"
      ]
     },
     "execution_count": 12,
     "metadata": {},
     "output_type": "execute_result"
    }
   ],
   "source": [
    "german_sentences_def[:5]"
   ]
  },
  {
   "cell_type": "code",
   "execution_count": 13,
   "id": "914bc597b534eed4",
   "metadata": {
    "collapsed": false,
    "jupyter": {
     "outputs_hidden": false
    }
   },
   "outputs": [
    {
     "data": {
      "text/plain": [
       "[' \\nWiederaufnahme der Sitzungsperiode Ich erkläre die am Freitag , dem 17. Dezember unterbrochene Sitzungsperiode des Europäischen Parlaments für wiederaufgenommen , wünsche Ihnen nochmals alles Gute zum Jahreswechsel und hoffe , daß Sie schöne Ferien hatten .',\n",
       " 'Wie Sie feststellen konnten , ist der gefürchtete \" Millenium-Bug \" nicht eingetreten .',\n",
       " 'Doch sind Bürger einiger unserer Mitgliedstaaten Opfer von schrecklichen Naturkatastrophen geworden .',\n",
       " 'Im Parlament besteht der Wunsch nach einer Aussprache im Verlauf dieser Sitzungsperiode in den nächsten Tagen .',\n",
       " 'Heute möchte ich Sie bitten - das ist auch der Wunsch einiger Kolleginnen und Kollegen - , allen Opfern der Stürme , insbesondere in den verschiedenen Ländern der Europäischen Union , in einer Schweigeminute zu gedenken .']"
      ]
     },
     "execution_count": 13,
     "metadata": {},
     "output_type": "execute_result"
    }
   ],
   "source": [
    "german_sentences[:5]"
   ]
  },
  {
   "cell_type": "markdown",
   "id": "5a9c7b0be5722d83",
   "metadata": {
    "collapsed": false,
    "jupyter": {
     "outputs_hidden": false
    }
   },
   "source": [
    "## Satzaufteilung per RegEx\n",
    "\n",
    "hier neue Ausdrucksmittel: ?<! und ?<= \"negative and positive lookbehind\"\n",
    "probieren sie die Konstruktion zum besseren Verständnis einmal in Ruhe und kleinschrittig aus (ausserhalb der Vorlesung)"
   ]
  },
  {
   "cell_type": "code",
   "execution_count": 14,
   "id": "29edc319cf3bf8a2",
   "metadata": {
    "collapsed": false,
    "jupyter": {
     "outputs_hidden": false
    }
   },
   "outputs": [
    {
     "data": {
      "text/plain": [
       "[\"US unveils world's most powerful supercomputer, beats China.\",\n",
       " \"The US has unveiled the world's most powerful supercomputer called 'Summit', beating the previous record-holder China's Sunway TaihuLight.\",\n",
       " 'With a peak performance of 200,000 trillion calculations per second, it is over twice as fast as Sunway TaihuLight, which is capable of 93,000 trillion calculations per second.',\n",
       " 'Summit has 4,608 servers, which reportedly take up the size of two tennis courts.']"
      ]
     },
     "execution_count": 14,
     "metadata": {},
     "output_type": "execute_result"
    }
   ],
   "source": [
    "SENTENCE_TOKENS_PATTERN = r'(?<!\\w\\.\\w.)(?<![A-Z][a-z]\\.)(?<![A-Z]\\.)(?<=\\.|\\?|\\!)\\s'\n",
    "regex_st = nltk.tokenize.RegexpTokenizer(\n",
    "            pattern=SENTENCE_TOKENS_PATTERN,\n",
    "            gaps=True)  # wir suchen nach den \"Lücken\" zwischen den Sätzen\n",
    "sample_sentences = regex_st.tokenize(sample_text)\n",
    "sample_sentences "
   ]
  },
  {
   "cell_type": "markdown",
   "id": "106057f8e7b2c909",
   "metadata": {
    "collapsed": false,
    "jupyter": {
     "outputs_hidden": false
    }
   },
   "source": [
    "# Wortaufteilung / Word Tokenization"
   ]
  },
  {
   "cell_type": "code",
   "execution_count": 15,
   "id": "c29774a3498691c5",
   "metadata": {
    "collapsed": false,
    "jupyter": {
     "outputs_hidden": false
    }
   },
   "outputs": [
    {
     "name": "stdout",
     "output_type": "stream",
     "text": [
      "['US', 'unveils', 'world', \"'s\", 'most', 'powerful', 'supercomputer', ',', 'beats', 'China', '.', 'The', 'US', 'has', 'unveiled', 'the', 'world', \"'s\", 'most', 'powerful', 'supercomputer', 'called', \"'Summit\", \"'\", ',', 'beating', 'the', 'previous', 'record-holder', 'China', \"'s\", 'Sunway', 'TaihuLight', '.', 'With', 'a', 'peak', 'performance', 'of', '200,000', 'trillion', 'calculations', 'per', 'second', ',', 'it', 'is', 'over', 'twice', 'as', 'fast', 'as', 'Sunway', 'TaihuLight', ',', 'which', 'is', 'capable', 'of', '93,000', 'trillion', 'calculations', 'per', 'second', '.', 'Summit', 'has', '4,608', 'servers', ',', 'which', 'reportedly', 'take', 'up', 'the', 'size', 'of', 'two', 'tennis', 'courts', '.']\n"
     ]
    }
   ],
   "source": [
    "default_wt = nltk.word_tokenize\n",
    "words = default_wt(sample_text)\n",
    "print(words)"
   ]
  },
  {
   "cell_type": "code",
   "execution_count": 16,
   "id": "a292ba8b581faa06",
   "metadata": {
    "collapsed": false,
    "jupyter": {
     "outputs_hidden": false
    }
   },
   "outputs": [
    {
     "name": "stdout",
     "output_type": "stream",
     "text": [
      "['US', 'unveils', 'world', 's', 'most', 'powerful', 'supercomputer', 'beats', 'China', 'The', 'US', 'has', 'unveiled', 'the', 'world', 's', 'most', 'powerful', 'supercomputer', 'called', 'Summit', 'beating', 'the', 'previous', 'record', 'holder', 'China', 's', 'Sunway', 'TaihuLight', 'With', 'a', 'peak', 'performance', 'of', '200', '000', 'trillion', 'calculations', 'per', 'second', 'it', 'is', 'over', 'twice', 'as', 'fast', 'as', 'Sunway', 'TaihuLight', 'which', 'is', 'capable', 'of', '93', '000', 'trillion', 'calculations', 'per', 'second', 'Summit', 'has', '4', '608', 'servers', 'which', 'reportedly', 'take', 'up', 'the', 'size', 'of', 'two', 'tennis', 'courts']\n"
     ]
    }
   ],
   "source": [
    "TOKEN_PATTERN = r'\\w+'        \n",
    "regex_wt = nltk.RegexpTokenizer(pattern=TOKEN_PATTERN,\n",
    "                                gaps=False)  # hier suchen wir nach den Wörtern\n",
    "words = regex_wt.tokenize(sample_text)\n",
    "print(words)"
   ]
  },
  {
   "cell_type": "code",
   "execution_count": 17,
   "id": "587b2e343e702356",
   "metadata": {
    "collapsed": false,
    "jupyter": {
     "outputs_hidden": false
    }
   },
   "outputs": [
    {
     "name": "stdout",
     "output_type": "stream",
     "text": [
      "['US', 'unveils', \"world's\", 'most', 'powerful', 'supercomputer,', 'beats', 'China.', 'The', 'US', 'has', 'unveiled', 'the', \"world's\", 'most', 'powerful', 'supercomputer', 'called', \"'Summit',\", 'beating', 'the', 'previous', 'record-holder', \"China's\", 'Sunway', 'TaihuLight.', 'With', 'a', 'peak', 'performance', 'of', '200,000', 'trillion', 'calculations', 'per', 'second,', 'it', 'is', 'over', 'twice', 'as', 'fast', 'as', 'Sunway', 'TaihuLight,', 'which', 'is', 'capable', 'of', '93,000', 'trillion', 'calculations', 'per', 'second.', 'Summit', 'has', '4,608', 'servers,', 'which', 'reportedly', 'take', 'up', 'the', 'size', 'of', 'two', 'tennis', 'courts.']\n"
     ]
    }
   ],
   "source": [
    "GAP_PATTERN = r'\\s+'        \n",
    "regex_wt = nltk.RegexpTokenizer(pattern=GAP_PATTERN,\n",
    "                                gaps=True)  # und wieder nach den Lücken\n",
    "words = regex_wt.tokenize(sample_text)\n",
    "print(words)"
   ]
  },
  {
   "cell_type": "markdown",
   "id": "b17c0cf7f9660c1a",
   "metadata": {
    "collapsed": false,
    "jupyter": {
     "outputs_hidden": false
    }
   },
   "source": [
    "(Sarkar führt noch andere Tokenizer vor, schauen sie bei Interesse dort nach)"
   ]
  },
  {
   "cell_type": "markdown",
   "id": "c2cbf80f8969f25d",
   "metadata": {
    "collapsed": false,
    "jupyter": {
     "outputs_hidden": false
    }
   },
   "source": [
    "## Tokenization mit spaCy"
   ]
  },
  {
   "cell_type": "code",
   "execution_count": 18,
   "id": "1db7c33c5ad5bb81",
   "metadata": {
    "collapsed": false,
    "jupyter": {
     "outputs_hidden": false
    }
   },
   "outputs": [
    {
     "name": "stderr",
     "output_type": "stream",
     "text": [
      "C:\\Users\\yhutter\\GitRepos\\fhgr-ta\\code\\venv\\Lib\\site-packages\\tqdm\\auto.py:21: TqdmWarning: IProgress not found. Please update jupyter and ipywidgets. See https://ipywidgets.readthedocs.io/en/stable/user_install.html\n",
      "  from .autonotebook import tqdm as notebook_tqdm\n",
      "C:\\Users\\yhutter\\GitRepos\\fhgr-ta\\code\\venv\\Lib\\site-packages\\transformers\\utils\\generic.py:441: UserWarning: torch.utils._pytree._register_pytree_node is deprecated. Please use torch.utils._pytree.register_pytree_node instead.\n",
      "  _torch_pytree._register_pytree_node(\n",
      "C:\\Users\\yhutter\\GitRepos\\fhgr-ta\\code\\venv\\Lib\\site-packages\\transformers\\utils\\generic.py:309: UserWarning: torch.utils._pytree._register_pytree_node is deprecated. Please use torch.utils._pytree.register_pytree_node instead.\n",
      "  _torch_pytree._register_pytree_node(\n"
     ]
    }
   ],
   "source": [
    "import spacy\n",
    "nlp = spacy.load('en_core_web_trf')\n",
    "\n",
    "text_spacy = nlp(sample_text)"
   ]
  },
  {
   "cell_type": "code",
   "execution_count": 19,
   "id": "52b7f8052389a3e7",
   "metadata": {
    "collapsed": false,
    "jupyter": {
     "outputs_hidden": false
    }
   },
   "outputs": [
    {
     "data": {
      "text/plain": [
       "[US unveils world's most powerful supercomputer, beats China.,\n",
       " The US has unveiled the world's most powerful supercomputer called 'Summit', beating the previous record-holder China's Sunway TaihuLight.,\n",
       " With a peak performance of 200,000 trillion calculations per second, it is over twice as fast as Sunway TaihuLight, which is capable of 93,000 trillion calculations per second.,\n",
       " Summit has 4,608 servers, which reportedly take up the size of two tennis courts.]"
      ]
     },
     "execution_count": 19,
     "metadata": {},
     "output_type": "execute_result"
    }
   ],
   "source": [
    "sents = list(text_spacy.sents)\n",
    "sents"
   ]
  },
  {
   "cell_type": "markdown",
   "id": "7440821d2e7de529",
   "metadata": {
    "collapsed": false,
    "jupyter": {
     "outputs_hidden": false
    }
   },
   "source": [
    "Wörter aufgeteilt nach Sätzen"
   ]
  },
  {
   "cell_type": "code",
   "execution_count": 20,
   "id": "d15aac4303dd2dc7",
   "metadata": {
    "collapsed": false,
    "jupyter": {
     "outputs_hidden": false
    }
   },
   "outputs": [
    {
     "name": "stdout",
     "output_type": "stream",
     "text": [
      "[['US', 'unveils', 'world', \"'s\", 'most', 'powerful', 'supercomputer', ',', 'beats', 'China', '.'], ['The', 'US', 'has', 'unveiled', 'the', 'world', \"'s\", 'most', 'powerful', 'supercomputer', 'called', \"'\", 'Summit', \"'\", ',', 'beating', 'the', 'previous', 'record', '-', 'holder', 'China', \"'s\", 'Sunway', 'TaihuLight', '.'], ['With', 'a', 'peak', 'performance', 'of', '200,000', 'trillion', 'calculations', 'per', 'second', ',', 'it', 'is', 'over', 'twice', 'as', 'fast', 'as', 'Sunway', 'TaihuLight', ',', 'which', 'is', 'capable', 'of', '93,000', 'trillion', 'calculations', 'per', 'second', '.'], ['Summit', 'has', '4,608', 'servers', ',', 'which', 'reportedly', 'take', 'up', 'the', 'size', 'of', 'two', 'tennis', 'courts', '.']]\n"
     ]
    }
   ],
   "source": [
    "sent_words = [[word.text for word in sent] for sent in sents]\n",
    "print(sent_words)"
   ]
  },
  {
   "cell_type": "markdown",
   "id": "308cfcea7cc0336d",
   "metadata": {
    "collapsed": false,
    "jupyter": {
     "outputs_hidden": false
    }
   },
   "source": [
    "oder durchgehend in einer Liste"
   ]
  },
  {
   "cell_type": "code",
   "execution_count": 21,
   "id": "39e90e84bb22122e",
   "metadata": {
    "collapsed": false,
    "jupyter": {
     "outputs_hidden": false
    }
   },
   "outputs": [
    {
     "name": "stdout",
     "output_type": "stream",
     "text": [
      "['US', 'unveils', 'world', \"'s\", 'most', 'powerful', 'supercomputer', ',', 'beats', 'China', '.', 'The', 'US', 'has', 'unveiled', 'the', 'world', \"'s\", 'most', 'powerful', 'supercomputer', 'called', \"'\", 'Summit', \"'\", ',', 'beating', 'the', 'previous', 'record', '-', 'holder', 'China', \"'s\", 'Sunway', 'TaihuLight', '.', 'With', 'a', 'peak', 'performance', 'of', '200,000', 'trillion', 'calculations', 'per', 'second', ',', 'it', 'is', 'over', 'twice', 'as', 'fast', 'as', 'Sunway', 'TaihuLight', ',', 'which', 'is', 'capable', 'of', '93,000', 'trillion', 'calculations', 'per', 'second', '.', 'Summit', 'has', '4,608', 'servers', ',', 'which', 'reportedly', 'take', 'up', 'the', 'size', 'of', 'two', 'tennis', 'courts', '.']\n"
     ]
    }
   ],
   "source": [
    "words = [word.text for word in text_spacy]\n",
    "print(words)"
   ]
  },
  {
   "cell_type": "markdown",
   "id": "ded3405c97a787bf",
   "metadata": {
    "collapsed": false,
    "jupyter": {
     "outputs_hidden": false
    }
   },
   "source": [
    "## Akzente und Umlaute entfernen\n",
    "\n",
    "(nicht immer notwendig, aber manchmal schon)"
   ]
  },
  {
   "cell_type": "code",
   "execution_count": 22,
   "id": "cc442e94c187a657",
   "metadata": {
    "collapsed": false,
    "jupyter": {
     "outputs_hidden": false
    }
   },
   "outputs": [
    {
     "data": {
      "text/plain": [
       "'Some Accented text'"
      ]
     },
     "execution_count": 22,
     "metadata": {},
     "output_type": "execute_result"
    }
   ],
   "source": [
    "import unicodedata\n",
    "\n",
    "def remove_accented_chars(text):\n",
    "    text = unicodedata.normalize('NFKD', text).encode('ascii', 'ignore').decode('utf-8', 'ignore')\n",
    "    return text\n",
    "\n",
    "remove_accented_chars('Sómě Áccěntěd těxt')"
   ]
  },
  {
   "cell_type": "code",
   "execution_count": 23,
   "id": "a5f3901696d9eb14",
   "metadata": {
    "collapsed": false,
    "jupyter": {
     "outputs_hidden": false
    }
   },
   "outputs": [
    {
     "data": {
      "text/plain": [
       "'ausserlich, auerlich, uberhaupt, offentlich'"
      ]
     },
     "execution_count": 23,
     "metadata": {},
     "output_type": "execute_result"
    }
   ],
   "source": [
    "# so wirkt es für deutsche Umlaute:\n",
    "remove_accented_chars(\"äusserlich, äußerlich, überhaupt, öffentlich\")"
   ]
  },
  {
   "cell_type": "markdown",
   "id": "99a883785bc1b0d9",
   "metadata": {
    "collapsed": false,
    "jupyter": {
     "outputs_hidden": false
    }
   },
   "source": [
    "(das kann man sicherlich besser hinbekommen...)"
   ]
  },
  {
   "cell_type": "markdown",
   "id": "ccec73e5ce57b4db",
   "metadata": {
    "collapsed": false,
    "jupyter": {
     "outputs_hidden": false
    }
   },
   "source": [
    "## Contractions / Zusammenziehungen bzw. Auslassungen"
   ]
  },
  {
   "cell_type": "code",
   "execution_count": 24,
   "id": "95a53cb7-4561-430b-89d9-5162b4b71824",
   "metadata": {},
   "outputs": [],
   "source": [
    "CONTRACTION_MAP = {\n",
    "\"ain't\": \"is not\",\n",
    "\"aren't\": \"are not\",\n",
    "\"can't\": \"cannot\",\n",
    "\"can't've\": \"cannot have\",\n",
    "\"'cause\": \"because\",\n",
    "\"could've\": \"could have\",\n",
    "\"couldn't\": \"could not\",\n",
    "\"couldn't've\": \"could not have\",\n",
    "\"didn't\": \"did not\",\n",
    "\"doesn't\": \"does not\",\n",
    "\"don't\": \"do not\",\n",
    "\"hadn't\": \"had not\",\n",
    "\"hadn't've\": \"had not have\",\n",
    "\"hasn't\": \"has not\",\n",
    "\"haven't\": \"have not\",\n",
    "\"he'd\": \"he would\",\n",
    "\"he'd've\": \"he would have\",\n",
    "\"he'll\": \"he will\",\n",
    "\"he'll've\": \"he he will have\",\n",
    "\"he's\": \"he is\",\n",
    "\"how'd\": \"how did\",\n",
    "\"how'd'y\": \"how do you\",\n",
    "\"how'll\": \"how will\",\n",
    "\"how's\": \"how is\",\n",
    "\"I'd\": \"I would\",\n",
    "\"I'd've\": \"I would have\",\n",
    "\"I'll\": \"I will\",\n",
    "\"I'll've\": \"I will have\",\n",
    "\"I'm\": \"I am\",\n",
    "\"I've\": \"I have\",\n",
    "\"i'd\": \"i would\",\n",
    "\"i'd've\": \"i would have\",\n",
    "\"i'll\": \"i will\",\n",
    "\"i'll've\": \"i will have\",\n",
    "\"i'm\": \"i am\",\n",
    "\"i've\": \"i have\",\n",
    "\"isn't\": \"is not\",\n",
    "\"it'd\": \"it would\",\n",
    "\"it'd've\": \"it would have\",\n",
    "\"it'll\": \"it will\",\n",
    "\"it'll've\": \"it will have\",\n",
    "\"it's\": \"it is\",\n",
    "\"let's\": \"let us\",\n",
    "\"ma'am\": \"madam\",\n",
    "\"mayn't\": \"may not\",\n",
    "\"might've\": \"might have\",\n",
    "\"mightn't\": \"might not\",\n",
    "\"mightn't've\": \"might not have\",\n",
    "\"must've\": \"must have\",\n",
    "\"mustn't\": \"must not\",\n",
    "\"mustn't've\": \"must not have\",\n",
    "\"needn't\": \"need not\",\n",
    "\"needn't've\": \"need not have\",\n",
    "\"o'clock\": \"of the clock\",\n",
    "\"oughtn't\": \"ought not\",\n",
    "\"oughtn't've\": \"ought not have\",\n",
    "\"shan't\": \"shall not\",\n",
    "\"sha'n't\": \"shall not\",\n",
    "\"shan't've\": \"shall not have\",\n",
    "\"she'd\": \"she would\",\n",
    "\"she'd've\": \"she would have\",\n",
    "\"she'll\": \"she will\",\n",
    "\"she'll've\": \"she will have\",\n",
    "\"she's\": \"she is\",\n",
    "\"should've\": \"should have\",\n",
    "\"shouldn't\": \"should not\",\n",
    "\"shouldn't've\": \"should not have\",\n",
    "\"so've\": \"so have\",\n",
    "\"so's\": \"so as\",\n",
    "\"that'd\": \"that would\",\n",
    "\"that'd've\": \"that would have\",\n",
    "\"that's\": \"that is\",\n",
    "\"there'd\": \"there would\",\n",
    "\"there'd've\": \"there would have\",\n",
    "\"there's\": \"there is\",\n",
    "\"they'd\": \"they would\",\n",
    "\"they'd've\": \"they would have\",\n",
    "\"they'll\": \"they will\",\n",
    "\"they'll've\": \"they will have\",\n",
    "\"they're\": \"they are\",\n",
    "\"they've\": \"they have\",\n",
    "\"to've\": \"to have\",\n",
    "\"wasn't\": \"was not\",\n",
    "\"we'd\": \"we would\",\n",
    "\"we'd've\": \"we would have\",\n",
    "\"we'll\": \"we will\",\n",
    "\"we'll've\": \"we will have\",\n",
    "\"we're\": \"we are\",\n",
    "\"we've\": \"we have\",\n",
    "\"weren't\": \"were not\",\n",
    "\"what'll\": \"what will\",\n",
    "\"what'll've\": \"what will have\",\n",
    "\"what're\": \"what are\",\n",
    "\"what's\": \"what is\",\n",
    "\"what've\": \"what have\",\n",
    "\"when's\": \"when is\",\n",
    "\"when've\": \"when have\",\n",
    "\"where'd\": \"where did\",\n",
    "\"where's\": \"where is\",\n",
    "\"where've\": \"where have\",\n",
    "\"who'll\": \"who will\",\n",
    "\"who'll've\": \"who will have\",\n",
    "\"who's\": \"who is\",\n",
    "\"who've\": \"who have\",\n",
    "\"why's\": \"why is\",\n",
    "\"why've\": \"why have\",\n",
    "\"will've\": \"will have\",\n",
    "\"won't\": \"will not\",\n",
    "\"won't've\": \"will not have\",\n",
    "\"would've\": \"would have\",\n",
    "\"wouldn't\": \"would not\",\n",
    "\"wouldn't've\": \"would not have\",\n",
    "\"y'all\": \"you all\",\n",
    "\"y'all'd\": \"you all would\",\n",
    "\"y'all'd've\": \"you all would have\",\n",
    "\"y'all're\": \"you all are\",\n",
    "\"y'all've\": \"you all have\",\n",
    "\"you'd\": \"you would\",\n",
    "\"you'd've\": \"you would have\",\n",
    "\"you'll\": \"you will\",\n",
    "\"you'll've\": \"you will have\",\n",
    "\"you're\": \"you are\",\n",
    "\"you've\": \"you have\"\n",
    "}"
   ]
  },
  {
   "cell_type": "code",
   "execution_count": 25,
   "id": "b142ccbc2565f040",
   "metadata": {
    "collapsed": false,
    "jupyter": {
     "outputs_hidden": false
    }
   },
   "outputs": [],
   "source": [
    "import re\n",
    "\n",
    "def expand_contractions(text, contraction_mapping=CONTRACTION_MAP):\n",
    "    \n",
    "    # HR: hier wird mit einem compilierten Pattern gearbeitet; dieses wird aus allen Contraction-Schlüsseln zusammengesetzt\n",
    "    contractions_pattern = re.compile('({})'.format('|'.join(contraction_mapping.keys())), flags=re.IGNORECASE|re.DOTALL)\n",
    "    \n",
    "    # HR: innere Funktion\n",
    "    # HR: Achtung - die Sarkar-Funktion arbeitet nicht immer fehlerfrei. Hier (hoffentlich) korrigiert.\n",
    "    def expand_match(contraction):\n",
    "        match = contraction.group(0)\n",
    "        # Contraction-Muster sind alle kleingeschrieben\n",
    "        expanded_contraction = contraction_mapping.get(match) if contraction_mapping.get(match) else contraction_mapping.get(match.lower())                     \n",
    "        # Grossschreibung wiederherstellen\n",
    "        if match[0].isupper():\n",
    "            expanded_contraction = expanded_contraction[0].upper() + expanded_contraction[1:]\n",
    "        return expanded_contraction\n",
    "        \n",
    "    expanded_text = contractions_pattern.sub(expand_match, text)  # expand match wird für jeden match aufgerufen\n",
    "    expanded_text = re.sub(\"'\", \"\", expanded_text)  # noch etwas aufräumen\n",
    "    return expanded_text"
   ]
  },
  {
   "cell_type": "code",
   "execution_count": 26,
   "id": "f9afd3e294968c2d",
   "metadata": {
    "collapsed": false,
    "jupyter": {
     "outputs_hidden": false
    }
   },
   "outputs": [
    {
     "data": {
      "text/plain": [
       "'You all cannot expand contractions I would think'"
      ]
     },
     "execution_count": 26,
     "metadata": {},
     "output_type": "execute_result"
    }
   ],
   "source": [
    "expand_contractions(\"Y'all can't expand contractions I'd think\")"
   ]
  },
  {
   "cell_type": "code",
   "execution_count": 27,
   "id": "4c0858d8e8ed1b2f",
   "metadata": {
    "collapsed": false,
    "jupyter": {
     "outputs_hidden": false
    }
   },
   "outputs": [
    {
     "data": {
      "text/plain": [
       "'Is not is not good you would think.'"
      ]
     },
     "execution_count": 27,
     "metadata": {},
     "output_type": "execute_result"
    }
   ],
   "source": [
    "expand_contractions(\"Ain't ain't good you'd think.\")"
   ]
  },
  {
   "cell_type": "markdown",
   "id": "5d9bd1156ba0dc53",
   "metadata": {
    "collapsed": false,
    "jupyter": {
     "outputs_hidden": false
    }
   },
   "source": [
    "## Remove Special Characters / Spezialzeichen entfernen"
   ]
  },
  {
   "cell_type": "code",
   "execution_count": 28,
   "id": "3c7713971c28c7ca",
   "metadata": {
    "collapsed": false,
    "jupyter": {
     "outputs_hidden": false
    }
   },
   "outputs": [
    {
     "data": {
      "text/plain": [
       "'Well this was fun What do you think '"
      ]
     },
     "execution_count": 28,
     "metadata": {},
     "output_type": "execute_result"
    }
   ],
   "source": [
    "def remove_special_characters(text, remove_digits=False):\n",
    "    pattern = r'[^a-zA-z0-9\\s]' if not remove_digits else r'[^a-zA-z\\s]'\n",
    "    text = re.sub(pattern, '', text)\n",
    "    return text\n",
    "\n",
    "remove_special_characters(\"Well this was fun! What do you think? 123#@!\", \n",
    "                          remove_digits=True)"
   ]
  },
  {
   "cell_type": "markdown",
   "id": "4cf93ba69a915a4c",
   "metadata": {
    "collapsed": false,
    "jupyter": {
     "outputs_hidden": false
    }
   },
   "source": [
    "## Text Correction / Fehlerverbesserungen"
   ]
  },
  {
   "cell_type": "markdown",
   "id": "dc492b6a6a45793e",
   "metadata": {
    "collapsed": false,
    "jupyter": {
     "outputs_hidden": false
    }
   },
   "source": [
    "### Zeichenwiederholungen"
   ]
  },
  {
   "cell_type": "markdown",
   "id": "faf269aa08fdc995",
   "metadata": {
    "collapsed": false,
    "jupyter": {
     "outputs_hidden": false
    }
   },
   "source": [
    "zuerst \"naive\" Lösung: alle Zeichenwiederholungen ersetzen"
   ]
  },
  {
   "cell_type": "code",
   "execution_count": 29,
   "id": "18ca983608024ef4",
   "metadata": {
    "collapsed": false,
    "jupyter": {
     "outputs_hidden": false
    }
   },
   "outputs": [
    {
     "name": "stdout",
     "output_type": "stream",
     "text": [
      "Step: 1 Word: finalllyy\n",
      "Step: 2 Word: finallly\n",
      "Step: 3 Word: finally\n",
      "Step: 4 Word: finaly\n",
      "Final word: finaly\n"
     ]
    }
   ],
   "source": [
    "old_word = 'finalllyyy'\n",
    "# neue Konstrukte RegEx: Anzahlen/Wiederholungen und Verweise auf gefundene Teil-Muster\n",
    "repeat_pattern = re.compile(r'(\\w*)(\\w)\\2(\\w*)')\n",
    "match_substitution = r'\\1\\2\\3'\n",
    "step = 1\n",
    "\n",
    "while True:\n",
    "    # remove one repeated character\n",
    "    new_word = repeat_pattern.sub(match_substitution,\n",
    "                                  old_word)\n",
    "    if new_word != old_word:\n",
    "         print('Step: {} Word: {}'.format(step, new_word))\n",
    "         step += 1 # update step\n",
    "         # update old word to last substituted state\n",
    "         old_word = new_word  \n",
    "         continue\n",
    "    else:\n",
    "         print(\"Final word:\", new_word)\n",
    "         break"
   ]
  },
  {
   "cell_type": "markdown",
   "id": "1829a44295395678",
   "metadata": {
    "collapsed": false,
    "jupyter": {
     "outputs_hidden": false
    }
   },
   "source": [
    "wie wir sehen, können so auch zu viele Zeichen entfernt werden\n",
    "\n",
    "besser: \n",
    "nur solange entfernen, bis \"richtiges\" Wort erreicht wird (Wörterbuch-Ansatz)"
   ]
  },
  {
   "cell_type": "code",
   "execution_count": 30,
   "id": "c183077daf3c1c18",
   "metadata": {
    "collapsed": false,
    "jupyter": {
     "outputs_hidden": false
    }
   },
   "outputs": [
    {
     "name": "stdout",
     "output_type": "stream",
     "text": [
      "Step: 1 Word: finalllyy\n",
      "Step: 2 Word: finallly\n",
      "Step: 3 Word: finally\n",
      "Final correct word: finally\n"
     ]
    }
   ],
   "source": [
    "from nltk.corpus import wordnet\n",
    "old_word = 'finalllyyy'\n",
    "repeat_pattern = re.compile(r'(\\w*)(\\w)\\2(\\w*)')\n",
    "match_substitution = r'\\1\\2\\3'\n",
    "step = 1\n",
    " \n",
    "while True:\n",
    "    # check for semantically correct word\n",
    "    if wordnet.synsets(old_word):\n",
    "        print(\"Final correct word:\", old_word)\n",
    "        break\n",
    "    # remove one repeated character\n",
    "    new_word = repeat_pattern.sub(match_substitution,\n",
    "                                  old_word)\n",
    "    if new_word != old_word:\n",
    "        print('Step: {} Word: {}'.format(step, new_word))\n",
    "        step += 1 # update step\n",
    "        # update old word to last substituted state\n",
    "        old_word = new_word  \n",
    "        continue\n",
    "    else:\n",
    "        print(\"Final word:\", new_word)\n",
    "        break"
   ]
  },
  {
   "cell_type": "markdown",
   "id": "38da4735dcb3fbdc",
   "metadata": {
    "collapsed": false,
    "jupyter": {
     "outputs_hidden": false
    }
   },
   "source": [
    "als Funktion"
   ]
  },
  {
   "cell_type": "code",
   "execution_count": 31,
   "id": "3a433cf61b67158c",
   "metadata": {
    "collapsed": false,
    "jupyter": {
     "outputs_hidden": false
    }
   },
   "outputs": [],
   "source": [
    "import nltk\n",
    "from nltk.corpus import wordnet\n",
    "\n",
    "def remove_repeated_characters(tokens):\n",
    "    repeat_pattern = re.compile(r'(\\w*)(\\w)\\2(\\w*)')\n",
    "    match_substitution = r'\\1\\2\\3'\n",
    "    def replace(old_word):\n",
    "        if wordnet.synsets(old_word):\n",
    "            return old_word\n",
    "        new_word = repeat_pattern.sub(match_substitution, old_word)\n",
    "        return replace(new_word) if new_word != old_word else new_word\n",
    "            \n",
    "    correct_tokens = [replace(word) for word in tokens]\n",
    "    return correct_tokens"
   ]
  },
  {
   "cell_type": "code",
   "execution_count": 32,
   "id": "bdc447056b7a4e95",
   "metadata": {
    "collapsed": false,
    "jupyter": {
     "outputs_hidden": false
    }
   },
   "outputs": [
    {
     "data": {
      "text/plain": [
       "'My school is really amazing'"
      ]
     },
     "execution_count": 32,
     "metadata": {},
     "output_type": "execute_result"
    }
   ],
   "source": [
    "sample_sentence = 'My schooool is realllllyyy amaaazingggg'\n",
    "correct_tokens = remove_repeated_characters(nltk.word_tokenize(sample_sentence))\n",
    "' '.join(correct_tokens)"
   ]
  },
  {
   "cell_type": "code",
   "execution_count": 33,
   "id": "7b4a6345f23ca475",
   "metadata": {
    "collapsed": false,
    "jupyter": {
     "outputs_hidden": false
    }
   },
   "outputs": [
    {
     "data": {
      "text/plain": [
       "'Halo ? Wie jetzt ?'"
      ]
     },
     "execution_count": 33,
     "metadata": {},
     "output_type": "execute_result"
    }
   ],
   "source": [
    "beispielsatz = (\"Hallloo? Wiiee jetzt?\")\n",
    "correct_tokens = remove_repeated_characters(nltk.word_tokenize(beispielsatz))\n",
    "' '.join(correct_tokens)"
   ]
  },
  {
   "cell_type": "markdown",
   "id": "5507ff36f8e452ce",
   "metadata": {
    "collapsed": false,
    "jupyter": {
     "outputs_hidden": false
    }
   },
   "source": [
    "(klappt nicht gut, da falsches Wörterbuch)"
   ]
  },
  {
   "cell_type": "markdown",
   "id": "6f4eb27d7bdb4d18",
   "metadata": {
    "collapsed": false,
    "jupyter": {
     "outputs_hidden": false
    }
   },
   "source": [
    "## Rechtschreibkorrekturen"
   ]
  },
  {
   "cell_type": "code",
   "execution_count": 34,
   "id": "5d18765119c3e5b1",
   "metadata": {
    "collapsed": false,
    "jupyter": {
     "outputs_hidden": false
    }
   },
   "outputs": [
    {
     "data": {
      "text/plain": [
       "[('the', 80030),\n",
       " ('of', 40025),\n",
       " ('and', 38313),\n",
       " ('to', 28766),\n",
       " ('in', 22050),\n",
       " ('a', 21155),\n",
       " ('that', 12512),\n",
       " ('he', 12401),\n",
       " ('was', 11410),\n",
       " ('it', 10681)]"
      ]
     },
     "execution_count": 34,
     "metadata": {},
     "output_type": "execute_result"
    }
   ],
   "source": [
    "import re, collections\n",
    "\n",
    "def tokens(text): \n",
    "    \"\"\"\n",
    "    Get all words from the corpus\n",
    "    \"\"\"\n",
    "    return re.findall('[a-z]+', text.lower()) \n",
    "\n",
    "WORDS = tokens(open('big.txt').read())\n",
    "WORD_COUNTS = collections.Counter(WORDS)\n",
    "# top 10 words in corpus\n",
    "WORD_COUNTS.most_common(10)"
   ]
  },
  {
   "cell_type": "code",
   "execution_count": 35,
   "id": "83efed00c5a856ca",
   "metadata": {
    "collapsed": false,
    "jupyter": {
     "outputs_hidden": false
    }
   },
   "outputs": [],
   "source": [
    "def edits0(word): \n",
    "    \"\"\"\n",
    "    Return all strings that are zero edits away \n",
    "    from the input word (i.e., the word itself).\n",
    "    \"\"\"\n",
    "    return {word}\n",
    "\n",
    "\n",
    "\n",
    "def edits1(word):\n",
    "    \"\"\"\n",
    "    Return all strings that are one edit away \n",
    "    from the input word.\n",
    "    \"\"\"\n",
    "    alphabet = 'abcdefghijklmnopqrstuvwxyz'\n",
    "    def splits(word):\n",
    "        \"\"\"\n",
    "        Return a list of all possible (first, rest) pairs \n",
    "        that the input word is made of.\n",
    "        \"\"\"\n",
    "        return [(word[:i], word[i:]) \n",
    "                for i in range(len(word)+1)]\n",
    "                \n",
    "    pairs      = splits(word)\n",
    "    deletes    = [a+b[1:]           for (a, b) in pairs if b]\n",
    "    transposes = [a+b[1]+b[0]+b[2:] for (a, b) in pairs if len(b) > 1]\n",
    "    replaces   = [a+c+b[1:]         for (a, b) in pairs for c in alphabet if b]\n",
    "    inserts    = [a+c+b             for (a, b) in pairs for c in alphabet]\n",
    "    return set(deletes + transposes + replaces + inserts)\n",
    "\n",
    "\n",
    "def edits2(word):\n",
    "    \"\"\"Return all strings that are two edits away \n",
    "    from the input word.\n",
    "    \"\"\"\n",
    "    return {e2 for e1 in edits1(word) for e2 in edits1(e1)}"
   ]
  },
  {
   "cell_type": "code",
   "execution_count": 36,
   "id": "af7cbfd63a6a7fc9",
   "metadata": {
    "collapsed": false,
    "jupyter": {
     "outputs_hidden": false
    }
   },
   "outputs": [],
   "source": [
    "def known(words):\n",
    "    \"\"\"\n",
    "    Return the subset of words that are actually \n",
    "    in our WORD_COUNTS dictionary.\n",
    "    \"\"\"\n",
    "    return {w for w in words if w in WORD_COUNTS}"
   ]
  },
  {
   "cell_type": "code",
   "execution_count": 37,
   "id": "e0bd0c8dcdc2fc10",
   "metadata": {
    "collapsed": false,
    "jupyter": {
     "outputs_hidden": false
    }
   },
   "outputs": [
    {
     "data": {
      "text/plain": [
       "{'fianlly'}"
      ]
     },
     "execution_count": 37,
     "metadata": {},
     "output_type": "execute_result"
    }
   ],
   "source": [
    "# input word\n",
    "word = 'fianlly'\n",
    "\n",
    "# zero edit distance from input word\n",
    "edits0(word)"
   ]
  },
  {
   "cell_type": "code",
   "execution_count": 38,
   "id": "3eab6fced342bc04",
   "metadata": {
    "collapsed": false,
    "jupyter": {
     "outputs_hidden": false
    }
   },
   "outputs": [
    {
     "data": {
      "text/plain": [
       "set()"
      ]
     },
     "execution_count": 38,
     "metadata": {},
     "output_type": "execute_result"
    }
   ],
   "source": [
    "# returns null set since it is not a valid word\n",
    "known(edits0(word))"
   ]
  },
  {
   "cell_type": "code",
   "execution_count": 39,
   "id": "598c06b93d50b204",
   "metadata": {
    "collapsed": false,
    "jupyter": {
     "outputs_hidden": false
    }
   },
   "outputs": [
    {
     "data": {
      "text/plain": [
       "{'afianlly',\n",
       " 'aianlly',\n",
       " 'bfianlly',\n",
       " 'bianlly',\n",
       " 'cfianlly',\n",
       " 'cianlly',\n",
       " 'dfianlly',\n",
       " 'dianlly',\n",
       " 'efianlly',\n",
       " 'eianlly',\n",
       " 'faanlly',\n",
       " 'faianlly',\n",
       " 'fainlly',\n",
       " 'fanlly',\n",
       " 'fbanlly',\n",
       " 'fbianlly',\n",
       " 'fcanlly',\n",
       " 'fcianlly',\n",
       " 'fdanlly',\n",
       " 'fdianlly',\n",
       " 'feanlly',\n",
       " 'feianlly',\n",
       " 'ffanlly',\n",
       " 'ffianlly',\n",
       " 'fganlly',\n",
       " 'fgianlly',\n",
       " 'fhanlly',\n",
       " 'fhianlly',\n",
       " 'fiaally',\n",
       " 'fiaanlly',\n",
       " 'fiablly',\n",
       " 'fiabnlly',\n",
       " 'fiaclly',\n",
       " 'fiacnlly',\n",
       " 'fiadlly',\n",
       " 'fiadnlly',\n",
       " 'fiaelly',\n",
       " 'fiaenlly',\n",
       " 'fiaflly',\n",
       " 'fiafnlly',\n",
       " 'fiaglly',\n",
       " 'fiagnlly',\n",
       " 'fiahlly',\n",
       " 'fiahnlly',\n",
       " 'fiailly',\n",
       " 'fiainlly',\n",
       " 'fiajlly',\n",
       " 'fiajnlly',\n",
       " 'fiaklly',\n",
       " 'fiaknlly',\n",
       " 'fiallly',\n",
       " 'fially',\n",
       " 'fialnlly',\n",
       " 'fialnly',\n",
       " 'fiamlly',\n",
       " 'fiamnlly',\n",
       " 'fianally',\n",
       " 'fianaly',\n",
       " 'fianblly',\n",
       " 'fianbly',\n",
       " 'fianclly',\n",
       " 'fiancly',\n",
       " 'fiandlly',\n",
       " 'fiandly',\n",
       " 'fianelly',\n",
       " 'fianely',\n",
       " 'fianflly',\n",
       " 'fianfly',\n",
       " 'fianglly',\n",
       " 'fiangly',\n",
       " 'fianhlly',\n",
       " 'fianhly',\n",
       " 'fianilly',\n",
       " 'fianily',\n",
       " 'fianjlly',\n",
       " 'fianjly',\n",
       " 'fianklly',\n",
       " 'fiankly',\n",
       " 'fianlaly',\n",
       " 'fianlay',\n",
       " 'fianlbly',\n",
       " 'fianlby',\n",
       " 'fianlcly',\n",
       " 'fianlcy',\n",
       " 'fianldly',\n",
       " 'fianldy',\n",
       " 'fianlely',\n",
       " 'fianley',\n",
       " 'fianlfly',\n",
       " 'fianlfy',\n",
       " 'fianlgly',\n",
       " 'fianlgy',\n",
       " 'fianlhly',\n",
       " 'fianlhy',\n",
       " 'fianlily',\n",
       " 'fianliy',\n",
       " 'fianljly',\n",
       " 'fianljy',\n",
       " 'fianlkly',\n",
       " 'fianlky',\n",
       " 'fianll',\n",
       " 'fianlla',\n",
       " 'fianllay',\n",
       " 'fianllb',\n",
       " 'fianllby',\n",
       " 'fianllc',\n",
       " 'fianllcy',\n",
       " 'fianlld',\n",
       " 'fianlldy',\n",
       " 'fianlle',\n",
       " 'fianlley',\n",
       " 'fianllf',\n",
       " 'fianllfy',\n",
       " 'fianllg',\n",
       " 'fianllgy',\n",
       " 'fianllh',\n",
       " 'fianllhy',\n",
       " 'fianlli',\n",
       " 'fianlliy',\n",
       " 'fianllj',\n",
       " 'fianlljy',\n",
       " 'fianllk',\n",
       " 'fianllky',\n",
       " 'fianlll',\n",
       " 'fianllly',\n",
       " 'fianllm',\n",
       " 'fianllmy',\n",
       " 'fianlln',\n",
       " 'fianllny',\n",
       " 'fianllo',\n",
       " 'fianlloy',\n",
       " 'fianllp',\n",
       " 'fianllpy',\n",
       " 'fianllq',\n",
       " 'fianllqy',\n",
       " 'fianllr',\n",
       " 'fianllry',\n",
       " 'fianlls',\n",
       " 'fianllsy',\n",
       " 'fianllt',\n",
       " 'fianllty',\n",
       " 'fianllu',\n",
       " 'fianlluy',\n",
       " 'fianllv',\n",
       " 'fianllvy',\n",
       " 'fianllw',\n",
       " 'fianllwy',\n",
       " 'fianllx',\n",
       " 'fianllxy',\n",
       " 'fianlly',\n",
       " 'fianllya',\n",
       " 'fianllyb',\n",
       " 'fianllyc',\n",
       " 'fianllyd',\n",
       " 'fianllye',\n",
       " 'fianllyf',\n",
       " 'fianllyg',\n",
       " 'fianllyh',\n",
       " 'fianllyi',\n",
       " 'fianllyj',\n",
       " 'fianllyk',\n",
       " 'fianllyl',\n",
       " 'fianllym',\n",
       " 'fianllyn',\n",
       " 'fianllyo',\n",
       " 'fianllyp',\n",
       " 'fianllyq',\n",
       " 'fianllyr',\n",
       " 'fianllys',\n",
       " 'fianllyt',\n",
       " 'fianllyu',\n",
       " 'fianllyv',\n",
       " 'fianllyw',\n",
       " 'fianllyx',\n",
       " 'fianllyy',\n",
       " 'fianllyz',\n",
       " 'fianllz',\n",
       " 'fianllzy',\n",
       " 'fianlmly',\n",
       " 'fianlmy',\n",
       " 'fianlnly',\n",
       " 'fianlny',\n",
       " 'fianloly',\n",
       " 'fianloy',\n",
       " 'fianlply',\n",
       " 'fianlpy',\n",
       " 'fianlqly',\n",
       " 'fianlqy',\n",
       " 'fianlrly',\n",
       " 'fianlry',\n",
       " 'fianlsly',\n",
       " 'fianlsy',\n",
       " 'fianltly',\n",
       " 'fianlty',\n",
       " 'fianluly',\n",
       " 'fianluy',\n",
       " 'fianlvly',\n",
       " 'fianlvy',\n",
       " 'fianlwly',\n",
       " 'fianlwy',\n",
       " 'fianlxly',\n",
       " 'fianlxy',\n",
       " 'fianly',\n",
       " 'fianlyl',\n",
       " 'fianlyly',\n",
       " 'fianlyy',\n",
       " 'fianlzly',\n",
       " 'fianlzy',\n",
       " 'fianmlly',\n",
       " 'fianmly',\n",
       " 'fiannlly',\n",
       " 'fiannly',\n",
       " 'fianolly',\n",
       " 'fianoly',\n",
       " 'fianplly',\n",
       " 'fianply',\n",
       " 'fianqlly',\n",
       " 'fianqly',\n",
       " 'fianrlly',\n",
       " 'fianrly',\n",
       " 'fianslly',\n",
       " 'fiansly',\n",
       " 'fiantlly',\n",
       " 'fiantly',\n",
       " 'fianully',\n",
       " 'fianuly',\n",
       " 'fianvlly',\n",
       " 'fianvly',\n",
       " 'fianwlly',\n",
       " 'fianwly',\n",
       " 'fianxlly',\n",
       " 'fianxly',\n",
       " 'fianylly',\n",
       " 'fianyly',\n",
       " 'fianzlly',\n",
       " 'fianzly',\n",
       " 'fiaolly',\n",
       " 'fiaonlly',\n",
       " 'fiaplly',\n",
       " 'fiapnlly',\n",
       " 'fiaqlly',\n",
       " 'fiaqnlly',\n",
       " 'fiarlly',\n",
       " 'fiarnlly',\n",
       " 'fiaslly',\n",
       " 'fiasnlly',\n",
       " 'fiatlly',\n",
       " 'fiatnlly',\n",
       " 'fiaully',\n",
       " 'fiaunlly',\n",
       " 'fiavlly',\n",
       " 'fiavnlly',\n",
       " 'fiawlly',\n",
       " 'fiawnlly',\n",
       " 'fiaxlly',\n",
       " 'fiaxnlly',\n",
       " 'fiaylly',\n",
       " 'fiaynlly',\n",
       " 'fiazlly',\n",
       " 'fiaznlly',\n",
       " 'fibanlly',\n",
       " 'fibnlly',\n",
       " 'ficanlly',\n",
       " 'ficnlly',\n",
       " 'fidanlly',\n",
       " 'fidnlly',\n",
       " 'fieanlly',\n",
       " 'fienlly',\n",
       " 'fifanlly',\n",
       " 'fifnlly',\n",
       " 'figanlly',\n",
       " 'fignlly',\n",
       " 'fihanlly',\n",
       " 'fihnlly',\n",
       " 'fiianlly',\n",
       " 'fiinlly',\n",
       " 'fijanlly',\n",
       " 'fijnlly',\n",
       " 'fikanlly',\n",
       " 'fiknlly',\n",
       " 'filanlly',\n",
       " 'filnlly',\n",
       " 'fimanlly',\n",
       " 'fimnlly',\n",
       " 'finally',\n",
       " 'finanlly',\n",
       " 'finlly',\n",
       " 'finnlly',\n",
       " 'fioanlly',\n",
       " 'fionlly',\n",
       " 'fipanlly',\n",
       " 'fipnlly',\n",
       " 'fiqanlly',\n",
       " 'fiqnlly',\n",
       " 'firanlly',\n",
       " 'firnlly',\n",
       " 'fisanlly',\n",
       " 'fisnlly',\n",
       " 'fitanlly',\n",
       " 'fitnlly',\n",
       " 'fiuanlly',\n",
       " 'fiunlly',\n",
       " 'fivanlly',\n",
       " 'fivnlly',\n",
       " 'fiwanlly',\n",
       " 'fiwnlly',\n",
       " 'fixanlly',\n",
       " 'fixnlly',\n",
       " 'fiyanlly',\n",
       " 'fiynlly',\n",
       " 'fizanlly',\n",
       " 'fiznlly',\n",
       " 'fjanlly',\n",
       " 'fjianlly',\n",
       " 'fkanlly',\n",
       " 'fkianlly',\n",
       " 'flanlly',\n",
       " 'flianlly',\n",
       " 'fmanlly',\n",
       " 'fmianlly',\n",
       " 'fnanlly',\n",
       " 'fnianlly',\n",
       " 'foanlly',\n",
       " 'foianlly',\n",
       " 'fpanlly',\n",
       " 'fpianlly',\n",
       " 'fqanlly',\n",
       " 'fqianlly',\n",
       " 'franlly',\n",
       " 'frianlly',\n",
       " 'fsanlly',\n",
       " 'fsianlly',\n",
       " 'ftanlly',\n",
       " 'ftianlly',\n",
       " 'fuanlly',\n",
       " 'fuianlly',\n",
       " 'fvanlly',\n",
       " 'fvianlly',\n",
       " 'fwanlly',\n",
       " 'fwianlly',\n",
       " 'fxanlly',\n",
       " 'fxianlly',\n",
       " 'fyanlly',\n",
       " 'fyianlly',\n",
       " 'fzanlly',\n",
       " 'fzianlly',\n",
       " 'gfianlly',\n",
       " 'gianlly',\n",
       " 'hfianlly',\n",
       " 'hianlly',\n",
       " 'ianlly',\n",
       " 'ifanlly',\n",
       " 'ifianlly',\n",
       " 'iianlly',\n",
       " 'jfianlly',\n",
       " 'jianlly',\n",
       " 'kfianlly',\n",
       " 'kianlly',\n",
       " 'lfianlly',\n",
       " 'lianlly',\n",
       " 'mfianlly',\n",
       " 'mianlly',\n",
       " 'nfianlly',\n",
       " 'nianlly',\n",
       " 'ofianlly',\n",
       " 'oianlly',\n",
       " 'pfianlly',\n",
       " 'pianlly',\n",
       " 'qfianlly',\n",
       " 'qianlly',\n",
       " 'rfianlly',\n",
       " 'rianlly',\n",
       " 'sfianlly',\n",
       " 'sianlly',\n",
       " 'tfianlly',\n",
       " 'tianlly',\n",
       " 'ufianlly',\n",
       " 'uianlly',\n",
       " 'vfianlly',\n",
       " 'vianlly',\n",
       " 'wfianlly',\n",
       " 'wianlly',\n",
       " 'xfianlly',\n",
       " 'xianlly',\n",
       " 'yfianlly',\n",
       " 'yianlly',\n",
       " 'zfianlly',\n",
       " 'zianlly'}"
      ]
     },
     "execution_count": 39,
     "metadata": {},
     "output_type": "execute_result"
    }
   ],
   "source": [
    "# one edit distance from input word\n",
    "edits1(word)"
   ]
  },
  {
   "cell_type": "code",
   "execution_count": 40,
   "id": "8c44cfdbb5e19aa5",
   "metadata": {
    "collapsed": false,
    "jupyter": {
     "outputs_hidden": false
    }
   },
   "outputs": [
    {
     "data": {
      "text/plain": [
       "{'finally'}"
      ]
     },
     "execution_count": 40,
     "metadata": {},
     "output_type": "execute_result"
    }
   ],
   "source": [
    "# get correct words from above set\n",
    "known(edits1(word))"
   ]
  },
  {
   "cell_type": "code",
   "execution_count": 41,
   "id": "d0024c6f448c84c4",
   "metadata": {
    "collapsed": false,
    "jupyter": {
     "outputs_hidden": false
    }
   },
   "outputs": [
    {
     "data": {
      "text/plain": [
       "{'phfianlly',\n",
       " 'fimaally',\n",
       " 'fianwlily',\n",
       " 'fibanllqy',\n",
       " 'xfianlluy',\n",
       " 'fkianlqly',\n",
       " 'mfeianlly',\n",
       " 'faanvlly',\n",
       " 'fianjlh',\n",
       " 'fianjlyc',\n",
       " 'vfianljy',\n",
       " 'eianzly',\n",
       " 'filnllk',\n",
       " 'fiazlzly',\n",
       " 'yfialnlly',\n",
       " 'wfhanlly',\n",
       " 'fiafllye',\n",
       " 'frianlcly',\n",
       " 'ifiaenlly',\n",
       " 'fianjltly',\n",
       " 'zianllyd',\n",
       " 'fignmly',\n",
       " 'fianluyq',\n",
       " 'fizanlqly',\n",
       " 'feianyly',\n",
       " 'fgsanlly',\n",
       " 'fiaullf',\n",
       " 'fainllay',\n",
       " 'fetianlly',\n",
       " 'ffantly',\n",
       " 'fiqnllt',\n",
       " 'fianlliv',\n",
       " 'gfibnlly',\n",
       " 'fianluzly',\n",
       " 'fianllkyw',\n",
       " 'fnanlsy',\n",
       " 'fianlkliy',\n",
       " 'fixanlqy',\n",
       " 'fiuanlhy',\n",
       " 'fjiqnlly',\n",
       " 'fitanlcly',\n",
       " 'fiacllyv',\n",
       " 'cianllyq',\n",
       " 'faanolly',\n",
       " 'fiawnlfly',\n",
       " 'qkianlly',\n",
       " 'fmianllq',\n",
       " 'finllt',\n",
       " 'fibanllmy',\n",
       " 'faaqnlly',\n",
       " 'finnkly',\n",
       " 'fainllt',\n",
       " 'fianslgy',\n",
       " 'ofiandlly',\n",
       " 'filmanlly',\n",
       " 'fianluyx',\n",
       " 'mfianmlly',\n",
       " 'fianllbg',\n",
       " 'ufyianlly',\n",
       " 'fiacnlkly',\n",
       " 'fidanlhly',\n",
       " 'fnitanlly',\n",
       " 'wfinlly',\n",
       " 'fiahnllxy',\n",
       " 'filnllyr',\n",
       " 'fianlnd',\n",
       " 'fiacnllmy',\n",
       " 'sfianllyn',\n",
       " 'ufianvly',\n",
       " 'fnanlzly',\n",
       " 'fiaknllhy',\n",
       " 'finallt',\n",
       " 'fiaznllq',\n",
       " 'ppianlly',\n",
       " 'tianley',\n",
       " 'fiaplrly',\n",
       " 'fiaxdly',\n",
       " 'fianllwe',\n",
       " 'fianbllvy',\n",
       " 'mlanlly',\n",
       " 'fiqdlly',\n",
       " 'fiannny',\n",
       " 'fianlilfy',\n",
       " 'fiadlsly',\n",
       " 'fsianllzy',\n",
       " 'fieblly',\n",
       " 'wfianlby',\n",
       " 'fziazlly',\n",
       " 'ficanlkly',\n",
       " 'dianully',\n",
       " 'fpaplly',\n",
       " 'fiaignlly',\n",
       " 'fiarnlply',\n",
       " 'fianlmfly',\n",
       " 'fianwpy',\n",
       " 'vfianhlly',\n",
       " 'iajnlly',\n",
       " 'fiajnelly',\n",
       " 'uianlvy',\n",
       " 'fianllvjy',\n",
       " 'fhanllye',\n",
       " 'fialnlyp',\n",
       " 'fiaillym',\n",
       " 'fianaluly',\n",
       " 'fianlfle',\n",
       " 'siznlly',\n",
       " 'feapnlly',\n",
       " 'kianbly',\n",
       " 'efhanlly',\n",
       " 'fianlwyb',\n",
       " 'fianqiy',\n",
       " 'fiannldly',\n",
       " 'fnanily',\n",
       " 'fianory',\n",
       " 'fiakllys',\n",
       " 'fiandmlly',\n",
       " 'ffanlpy',\n",
       " 'fiafglly',\n",
       " 'fiangll',\n",
       " 'filflly',\n",
       " 'fbianlln',\n",
       " 'fidnyly',\n",
       " 'fiaslby',\n",
       " 'fianlzlye',\n",
       " 'fbanlsy',\n",
       " 'bfiadnlly',\n",
       " 'fbazlly',\n",
       " 'fzianllyk',\n",
       " 'fianllu',\n",
       " 'kiuanlly',\n",
       " 'ufianllys',\n",
       " 'fiaeqnlly',\n",
       " 'fianilu',\n",
       " 'fhanllcy',\n",
       " 'zfiaolly',\n",
       " 'fianlolc',\n",
       " 'jfitnlly',\n",
       " 'niaylly',\n",
       " 'ifianlqly',\n",
       " 'fiqainlly',\n",
       " 'fiavtnlly',\n",
       " 'oiaelly',\n",
       " 'yfianltly',\n",
       " 'feafnlly',\n",
       " 'fiavlln',\n",
       " 'fzavnlly',\n",
       " 'fqianllq',\n",
       " 'fvianllyh',\n",
       " 'fianulg',\n",
       " 'flianlldy',\n",
       " 'fiyanluly',\n",
       " 'fimnclly',\n",
       " 'fixanlvy',\n",
       " 'fyianlnly',\n",
       " 'fianllyvv',\n",
       " 'fidllly',\n",
       " 'fianvny',\n",
       " 'fiajnly',\n",
       " 'fiaqunlly',\n",
       " 'fianlkoly',\n",
       " 'fiailll',\n",
       " 'fianolcy',\n",
       " 'figelly',\n",
       " 'fialnly',\n",
       " 'fianllyfc',\n",
       " 'fianllvyi',\n",
       " 'fianlblyj',\n",
       " 'fbijnlly',\n",
       " 'zfianlnly',\n",
       " 'nianllty',\n",
       " 'fianlqf',\n",
       " 'fianluf',\n",
       " 'fiaxllyt',\n",
       " 'nibanlly',\n",
       " 'byfianlly',\n",
       " 'fixnlhly',\n",
       " 'gfiavnlly',\n",
       " 'fiqnolly',\n",
       " 'fianlalp',\n",
       " 'fiqaully',\n",
       " 'kiganlly',\n",
       " 'figoanlly',\n",
       " 'filanllyy',\n",
       " 'fsnlly',\n",
       " 'fianrelly',\n",
       " 'fiazwnlly',\n",
       " 'fiadlhy',\n",
       " 'ifianllyl',\n",
       " 'fsanlkly',\n",
       " 'fiaunwly',\n",
       " 'faanllny',\n",
       " 'fdianllyv',\n",
       " 'fbianlli',\n",
       " 'fxnanlly',\n",
       " 'fbihnlly',\n",
       " 'finlxy',\n",
       " 'tfianllo',\n",
       " 'buanlly',\n",
       " 'fianllyfx',\n",
       " 'fianlylm',\n",
       " 'fianollyv',\n",
       " 'fqianlsy',\n",
       " 'fiaololy',\n",
       " 'fiahnllky',\n",
       " 'fsijnlly',\n",
       " 'fiaprly',\n",
       " 'franply',\n",
       " 'fianlpya',\n",
       " 'fiwanllmy',\n",
       " 'fianlxp',\n",
       " 'vfifnlly',\n",
       " 'fianllzq',\n",
       " 'fsanldly',\n",
       " 'fiqinlly',\n",
       " 'fiwanlqly',\n",
       " 'waanlly',\n",
       " 'fianlldp',\n",
       " 'fianlhb',\n",
       " 'fieknlly',\n",
       " 'fianzlmy',\n",
       " 'fihanllyw',\n",
       " 'fianlolym',\n",
       " 'fiwanlry',\n",
       " 'jfiacnlly',\n",
       " 'dfiantly',\n",
       " 'fiapnllty',\n",
       " 'fianljo',\n",
       " 'fiahldly',\n",
       " 'fidbnlly',\n",
       " 'fiznllyy',\n",
       " 'fizully',\n",
       " 'foiaplly',\n",
       " 'fianllnxy',\n",
       " 'rcanlly',\n",
       " 'faiolly',\n",
       " 'ifanlliy',\n",
       " 'qfianlgy',\n",
       " 'gufianlly',\n",
       " 'fiainyly',\n",
       " 'fiaanllym',\n",
       " 'feianllzy',\n",
       " 'ficaglly',\n",
       " 'fiatnlgly',\n",
       " 'fibanllny',\n",
       " 'sfiahlly',\n",
       " 'fivnlby',\n",
       " 'fyianally',\n",
       " 'fiagnllyu',\n",
       " 'firannly',\n",
       " 'ftianyly',\n",
       " 'firslly',\n",
       " 'fixanylly',\n",
       " 'fianlqlyd',\n",
       " 'fiajllr',\n",
       " 'finllyv',\n",
       " 'fibanhlly',\n",
       " 'fianlqlhy',\n",
       " 'mrianlly',\n",
       " 'ftxanlly',\n",
       " 'fqanllyu',\n",
       " 'foipanlly',\n",
       " 'ffanilly',\n",
       " 'fiafllr',\n",
       " 'feiangly',\n",
       " 'fyianlhly',\n",
       " 'fxwanlly',\n",
       " 'fianslldy',\n",
       " 'ufianglly',\n",
       " 'jianllys',\n",
       " 'finallf',\n",
       " 'fiarllyb',\n",
       " 'fitanlzly',\n",
       " 'fianlltm',\n",
       " 'fiacqly',\n",
       " 'fiaanllp',\n",
       " 'finanoly',\n",
       " 'fiabuly',\n",
       " 'fiaqnjlly',\n",
       " 'flianlaly',\n",
       " 'sfcianlly',\n",
       " 'pfiazlly',\n",
       " 'fauinlly',\n",
       " 'fiagnley',\n",
       " 'rianllty',\n",
       " 'fianyllqy',\n",
       " 'fianfey',\n",
       " 'fiiaunlly',\n",
       " 'tfiandly',\n",
       " 'filaly',\n",
       " 'fianlqyx',\n",
       " 'itfanlly',\n",
       " 'fianllup',\n",
       " 'fravnlly',\n",
       " 'fianqlyo',\n",
       " 'fiaokly',\n",
       " 'gfianllp',\n",
       " 'fiandllwy',\n",
       " 'fivnely',\n",
       " 'kafianlly',\n",
       " 'fiansflly',\n",
       " 'fiainllyf',\n",
       " 'fkipanlly',\n",
       " 'fzanldly',\n",
       " 'fiknly',\n",
       " 'fiaunoly',\n",
       " 'diaklly',\n",
       " 'fiarllvy',\n",
       " 'fiuanjlly',\n",
       " 'fianllxyc',\n",
       " 'fnanlsly',\n",
       " 'fianklluy',\n",
       " 'fijanblly',\n",
       " 'fidanully',\n",
       " 'fgianlhly',\n",
       " 'yqanlly',\n",
       " 'fanllyr',\n",
       " 'fiabnkly',\n",
       " 'ridanlly',\n",
       " 'efiaynlly',\n",
       " 'fniabnlly',\n",
       " 'ficnlxly',\n",
       " 'pfbanlly',\n",
       " 'oianlpy',\n",
       " 'fianlohy',\n",
       " 'fnlianlly',\n",
       " 'faizanlly',\n",
       " 'ifanlle',\n",
       " 'fianlki',\n",
       " 'wfianlhy',\n",
       " 'fgianllc',\n",
       " 'hoanlly',\n",
       " 'fiqnlwy',\n",
       " 'foanlln',\n",
       " 'wfianllz',\n",
       " 'pianlily',\n",
       " 'fianmzly',\n",
       " 'cfianully',\n",
       " 'fiabllye',\n",
       " 'fianllyeb',\n",
       " 'fianlldsy',\n",
       " 'fianffy',\n",
       " 'fianzllr',\n",
       " 'fixnzlly',\n",
       " 'ftpnlly',\n",
       " 'fignvlly',\n",
       " 'fqaclly',\n",
       " 'ffanmlly',\n",
       " 'fanllhy',\n",
       " 'fmipnlly',\n",
       " 'fianeblly',\n",
       " 'fqanllw',\n",
       " 'fjxnlly',\n",
       " 'afianllzy',\n",
       " 'fidanloy',\n",
       " 'fipnlld',\n",
       " 'fiasnglly',\n",
       " 'fiamelly',\n",
       " 'flianlnly',\n",
       " 'fbiaanlly',\n",
       " 'fianmlyt',\n",
       " 'hianally',\n",
       " 'fiallgy',\n",
       " 'fihajnlly',\n",
       " 'vfianily',\n",
       " 'fibanlxy',\n",
       " 'uianlpy',\n",
       " 'fiapllya',\n",
       " 'afianlln',\n",
       " 'fqianllry',\n",
       " 'feianlny',\n",
       " 'rfifnlly',\n",
       " 'fiizlly',\n",
       " 'fiulnlly',\n",
       " 'fianewlly',\n",
       " 'fianlkg',\n",
       " 'fdiajnlly',\n",
       " 'fiuilly',\n",
       " 'frjianlly',\n",
       " 'fxanllya',\n",
       " 'fiyanllyv',\n",
       " 'fdanully',\n",
       " 'fianlcym',\n",
       " 'gfiahnlly',\n",
       " 'iiknlly',\n",
       " 'fialqnlly',\n",
       " 'zfianlll',\n",
       " 'fioanly',\n",
       " 'fionqlly',\n",
       " 'fianllrj',\n",
       " 'itnlly',\n",
       " 'lyfianlly',\n",
       " 'feanllyy',\n",
       " 'ianally',\n",
       " 'fiyavnlly',\n",
       " 'fjdnlly',\n",
       " 'fkanluy',\n",
       " 'fianljd',\n",
       " 'dfianilly',\n",
       " 'finuanlly',\n",
       " 'fiavlcy',\n",
       " 'xofianlly',\n",
       " 'bfianllb',\n",
       " 'fluianlly',\n",
       " 'sianmly',\n",
       " 'fianillh',\n",
       " 'fiajlrly',\n",
       " 'afixanlly',\n",
       " 'ciasnlly',\n",
       " 'fviqanlly',\n",
       " 'fzmianlly',\n",
       " 'foianclly',\n",
       " 'fiaclhly',\n",
       " 'fiankllcy',\n",
       " 'fraqlly',\n",
       " 'wianwlly',\n",
       " 'diatnlly',\n",
       " 'dijanlly',\n",
       " 'fianlqlyq',\n",
       " 'fiaxlky',\n",
       " 'fiawnlqy',\n",
       " 'ficanely',\n",
       " 'fhanoly',\n",
       " 'fqamlly',\n",
       " 'fiahnlqy',\n",
       " 'ginnlly',\n",
       " 'fbiaslly',\n",
       " 'fianlxe',\n",
       " 'fiaznlzy',\n",
       " 'ljfianlly',\n",
       " 'flyianlly',\n",
       " 'fianlsey',\n",
       " 'tfianllp',\n",
       " 'ftianley',\n",
       " 'fwiamlly',\n",
       " 'fyanly',\n",
       " 'fioanllyu',\n",
       " 'fianlgf',\n",
       " 'fianllaya',\n",
       " 'fzanllyo',\n",
       " 'faanlqy',\n",
       " 'fialncy',\n",
       " 'nnianlly',\n",
       " 'sfiaully',\n",
       " 'fiaqnllpy',\n",
       " 'ftanlfly',\n",
       " 'iianllj',\n",
       " 'fianllryq',\n",
       " 'fizznlly',\n",
       " 'fiahtnlly',\n",
       " 'fiajnlty',\n",
       " 'fiacnllyt',\n",
       " 'fkianlyly',\n",
       " 'fiannllpy',\n",
       " 'fanllyz',\n",
       " 'rfiaally',\n",
       " 'fkianllty',\n",
       " 'pianllye',\n",
       " 'fianalr',\n",
       " 'kfqanlly',\n",
       " 'fiaqxly',\n",
       " 'hfiqanlly',\n",
       " 'fianslll',\n",
       " 'bfianllyh',\n",
       " 'cianlsly',\n",
       " 'wianlwy',\n",
       " 'fziaxlly',\n",
       " 'fhxanlly',\n",
       " 'fiawbly',\n",
       " 'fianohly',\n",
       " 'ficnllvy',\n",
       " 'fdanmly',\n",
       " 'dianljy',\n",
       " 'fianlllq',\n",
       " 'fiqnlty',\n",
       " 'kiawnlly',\n",
       " 'fianlslya',\n",
       " 'fxianlls',\n",
       " 'ifisnlly',\n",
       " 'fianbllyy',\n",
       " 'fianlrgly',\n",
       " 'fianlrlyd',\n",
       " 'ggfianlly',\n",
       " 'faiaznlly',\n",
       " 'puanlly',\n",
       " 'fialllys',\n",
       " 'cfialnly',\n",
       " 'rianllys',\n",
       " 'rfianlla',\n",
       " 'fwaclly',\n",
       " 'fiayally',\n",
       " 'fqdanlly',\n",
       " 'fiajloy',\n",
       " 'fiafsly',\n",
       " 'fjianllc',\n",
       " 'zfinlly',\n",
       " 'fianollsy',\n",
       " 'giainlly',\n",
       " 'fianllyej',\n",
       " 'fyianqlly',\n",
       " 'sfianlmly',\n",
       " 'fzanmlly',\n",
       " 'fiavnlpy',\n",
       " 'fcianllky',\n",
       " 'oianblly',\n",
       " 'fwianluy',\n",
       " 'ftanqly',\n",
       " 'feadnlly',\n",
       " 'fhianllyt',\n",
       " 'fibnllk',\n",
       " 'fisawlly',\n",
       " 'fianglyd',\n",
       " 'fzatlly',\n",
       " 'gfiaanlly',\n",
       " 'fsiamlly',\n",
       " 'cianglly',\n",
       " 'firnlsy',\n",
       " 'gfianlly',\n",
       " 'fianlvlyh',\n",
       " 'fiannvy',\n",
       " 'fitadnlly',\n",
       " 'qfianely',\n",
       " 'fpwanlly',\n",
       " 'feanlrly',\n",
       " 'faicnlly',\n",
       " 'fiajnlls',\n",
       " 'fiancllqy',\n",
       " 'finanblly',\n",
       " 'ciantlly',\n",
       " 'fiaonlvly',\n",
       " 'yiaqlly',\n",
       " 'fiawnplly',\n",
       " 'fianlglx',\n",
       " 'ufijnlly',\n",
       " 'fiagllys',\n",
       " 'qfianlgly',\n",
       " 'finloy',\n",
       " 'piianlly',\n",
       " 'fianglyj',\n",
       " 'fehnlly',\n",
       " 'fyianlaly',\n",
       " 'fianallyc',\n",
       " 'foianlxy',\n",
       " 'fieaolly',\n",
       " 'fianqyly',\n",
       " 'fainlny',\n",
       " 'gfianljy',\n",
       " 'fqianlyy',\n",
       " 'flianllyf',\n",
       " 'ifanwly',\n",
       " 'fnzanlly',\n",
       " 'fianmmlly',\n",
       " 'jifnlly',\n",
       " 'fsianllb',\n",
       " 'fianzpy',\n",
       " 'fianqlym',\n",
       " 'fianallqy',\n",
       " 'ftiansly',\n",
       " 'eianllys',\n",
       " 'fbianlwly',\n",
       " 'fipmanlly',\n",
       " 'cianllpy',\n",
       " 'fbanlay',\n",
       " 'fianatly',\n",
       " 'fiancldly',\n",
       " 'firnlli',\n",
       " 'fbianllyi',\n",
       " 'fiaillyz',\n",
       " 'biadlly',\n",
       " 'sfianllt',\n",
       " 'gfianlvly',\n",
       " 'fianwllyr',\n",
       " 'fjanllr',\n",
       " 'faianlli',\n",
       " 'hianlkly',\n",
       " 'fipnllmy',\n",
       " 'yfianllyy',\n",
       " 'flwianlly',\n",
       " 'flanlgy',\n",
       " 'fianllyii',\n",
       " 'fhianmly',\n",
       " 'fiznllyg',\n",
       " 'fjarnlly',\n",
       " 'ufianlzly',\n",
       " 'fiaullby',\n",
       " 'fiavwly',\n",
       " 'fianllybm',\n",
       " 'liaynlly',\n",
       " 'fsiawlly',\n",
       " 'fianliily',\n",
       " 'fifnlmly',\n",
       " 'fjahnlly',\n",
       " 'firankly',\n",
       " 'fiancwly',\n",
       " 'fianytly',\n",
       " 'fianlyoly',\n",
       " 'fiafnlzy',\n",
       " 'fianlrlgy',\n",
       " 'fianhglly',\n",
       " 'fianlelf',\n",
       " 'fianfllmy',\n",
       " 'fitanlsy',\n",
       " 'fianlrfy',\n",
       " 'pfiinlly',\n",
       " 'fihnlljy',\n",
       " 'yianrlly',\n",
       " 'fianllcny',\n",
       " 'fivaelly',\n",
       " 'fiamllmy',\n",
       " 'fifnlby',\n",
       " 'gfianily',\n",
       " 'fisanllw',\n",
       " 'fiadmlly',\n",
       " 'afiaylly',\n",
       " 'fiabply',\n",
       " 'vfienlly',\n",
       " 'fiapllt',\n",
       " 'fianlkll',\n",
       " 'fuianllyy',\n",
       " 'fiaatly',\n",
       " 'bfianlcy',\n",
       " 'fitavnlly',\n",
       " 'fiznlgy',\n",
       " 'fianlmyz',\n",
       " 'fkanlli',\n",
       " 'uficnlly',\n",
       " 'zfianlyl',\n",
       " 'kianlay',\n",
       " 'fiawljly',\n",
       " 'ciaklly',\n",
       " 'fdanlely',\n",
       " 'fiapnlls',\n",
       " 'fiayllyr',\n",
       " 'fdaianlly',\n",
       " 'fiuanklly',\n",
       " 'feiganlly',\n",
       " 'fianglfly',\n",
       " 'fainldly',\n",
       " 'fuvianlly',\n",
       " 'fiacnylly',\n",
       " 'fsianlely',\n",
       " 'fianulxly',\n",
       " 'fiankly',\n",
       " 'fslnlly',\n",
       " 'sfianelly',\n",
       " 'kfianllgy',\n",
       " 'fjiancly',\n",
       " 'yianlll',\n",
       " 'feiapnlly',\n",
       " 'fiaonllv',\n",
       " 'fiahnllo',\n",
       " 'fiqaolly',\n",
       " 'biankly',\n",
       " 'fiaknlwly',\n",
       " 'fiaktlly',\n",
       " 'fifanldly',\n",
       " 'fiaznllyg',\n",
       " 'fiaexlly',\n",
       " 'fgatlly',\n",
       " 'fianalm',\n",
       " 'fianlpo',\n",
       " 'fmianllyi',\n",
       " 'fixazlly',\n",
       " 'fiaunllyk',\n",
       " 'fianolys',\n",
       " 'fiatllu',\n",
       " 'fianlhlyx',\n",
       " 'ninnlly',\n",
       " 'fianglliy',\n",
       " 'fianlljdy',\n",
       " 'feiaglly',\n",
       " 'ofsanlly',\n",
       " 'figdanlly',\n",
       " 'ufianllpy',\n",
       " 'fiafnglly',\n",
       " 'fiastnlly',\n",
       " 'fisanlny',\n",
       " 'fbanllyz',\n",
       " 'fdamlly',\n",
       " 'fzianllny',\n",
       " 'fiarslly',\n",
       " 'fiabnlry',\n",
       " 'fyianllpy',\n",
       " 'efcianlly',\n",
       " 'ficnlqly',\n",
       " 'sfianllr',\n",
       " 'fiawllyy',\n",
       " 'fqanllyw',\n",
       " 'fiasbnlly',\n",
       " 'jfeanlly',\n",
       " 'fiacllyl',\n",
       " 'fnanbly',\n",
       " 'fianlalw',\n",
       " 'fianelrly',\n",
       " 'faianll',\n",
       " 'fianlxuly',\n",
       " 'ifanqly',\n",
       " 'fiaenyly',\n",
       " 'kianuly',\n",
       " 'fianylloy',\n",
       " 'jfianelly',\n",
       " 'fnanlnly',\n",
       " 'fiantllky',\n",
       " 'fzanlfly',\n",
       " 'finwlly',\n",
       " 'fianjllyu',\n",
       " 'mianlyly',\n",
       " 'fiadnoly',\n",
       " 'fianrlkly',\n",
       " 'dfiatlly',\n",
       " 'fiqnllya',\n",
       " 'ubianlly',\n",
       " 'pfinnlly',\n",
       " 'fianlnply',\n",
       " 'fianlab',\n",
       " 'qianzlly',\n",
       " 'xfianlls',\n",
       " 'fcipanlly',\n",
       " 'fianxllxy',\n",
       " 'fiawllym',\n",
       " 'fianbljly',\n",
       " 'fokianlly',\n",
       " 'fianlap',\n",
       " 'ffianllmy',\n",
       " 'ifianlny',\n",
       " 'fiannlbly',\n",
       " 'wfianrly',\n",
       " 'fiasngly',\n",
       " 'fpianllye',\n",
       " 'fbianlvly',\n",
       " 'fiaullwy',\n",
       " 'foianlay',\n",
       " 'rfianally',\n",
       " 'fffnlly',\n",
       " 'fifnluy',\n",
       " 'fisnllyf',\n",
       " 'giajlly',\n",
       " 'wiallly',\n",
       " 'ffianmly',\n",
       " 'kianllya',\n",
       " 'sfianplly',\n",
       " 'fvfanlly',\n",
       " 'afianlfly',\n",
       " 'ftiqanlly',\n",
       " 'qfianllhy',\n",
       " 'filnlmly',\n",
       " 'fhiaqlly',\n",
       " 'fiaollmy',\n",
       " 'qianllf',\n",
       " 'mianllyt',\n",
       " 'fiaqnlll',\n",
       " 'hianllry',\n",
       " 'wianllyo',\n",
       " 'fainilly',\n",
       " 'hfiaylly',\n",
       " 'filanlley',\n",
       " 'fibaxnlly',\n",
       " 'fjianlly',\n",
       " 'fibntly',\n",
       " 'nfiaplly',\n",
       " 'bfianluly',\n",
       " 'fpanally',\n",
       " 'pianlky',\n",
       " 'fiajnwly',\n",
       " 'fianlelny',\n",
       " 'fioanyly',\n",
       " 'ifrnlly',\n",
       " 'siainlly',\n",
       " 'fianlvlh',\n",
       " 'fzanllp',\n",
       " 'fyanllry',\n",
       " 'fzyianlly',\n",
       " 'hifnlly',\n",
       " 'pinanlly',\n",
       " 'fiaonlnly',\n",
       " 'yianloly',\n",
       " 'fymianlly',\n",
       " 'fidnllxy',\n",
       " 'fiabxnlly',\n",
       " 'fihully',\n",
       " 'fcanllqy',\n",
       " 'fiunllby',\n",
       " 'fianblyn',\n",
       " 'fnanlxly',\n",
       " 'sfijanlly',\n",
       " 'efikanlly',\n",
       " 'fiyanlky',\n",
       " 'fiaknlsly',\n",
       " 'fianlmcly',\n",
       " 'fiznlxly',\n",
       " 'fkannlly',\n",
       " 'uaanlly',\n",
       " 'fwanley',\n",
       " 'fiqanflly',\n",
       " 'fianlilya',\n",
       " 'fialllzy',\n",
       " 'vpanlly',\n",
       " 'fihnllyd',\n",
       " 'filnllp',\n",
       " 'fwanolly',\n",
       " 'kfganlly',\n",
       " 'fiawnllny',\n",
       " 'fianllvwy',\n",
       " 'fianvllyv',\n",
       " 'ffwanlly',\n",
       " 'fwianlsly',\n",
       " 'fbanyly',\n",
       " 'fivganlly',\n",
       " 'caanlly',\n",
       " 'fzanlnly',\n",
       " 'fdianllyn',\n",
       " 'fibmanlly',\n",
       " 'hefianlly',\n",
       " 'ifadlly',\n",
       " 'faknlly',\n",
       " 'fxiaslly',\n",
       " 'fianlhlb',\n",
       " 'yiknlly',\n",
       " 'fimnflly',\n",
       " 'gfianllty',\n",
       " 'zianzly',\n",
       " 'fianllnly',\n",
       " 'fiagllay',\n",
       " 'fiajnllo',\n",
       " 'fwknlly',\n",
       " 'flqianlly',\n",
       " 'fyianljy',\n",
       " 'fvianllwy',\n",
       " 'cfianlvy',\n",
       " 'ufianllqy',\n",
       " 'fiaullyi',\n",
       " 'oiianlly',\n",
       " 'fiinely',\n",
       " 'fiammlly',\n",
       " 'fvanllc',\n",
       " 'fialnlmy',\n",
       " 'fianllevy',\n",
       " 'fhipnlly',\n",
       " 'fianrrly',\n",
       " 'afiinlly',\n",
       " 'fianwllz',\n",
       " 'efiawnlly',\n",
       " 'fiznlyy',\n",
       " 'fifarlly',\n",
       " 'fiawnllyh',\n",
       " 'aially',\n",
       " 'fiabnglly',\n",
       " 'fiarnllt',\n",
       " 'aianlyl',\n",
       " 'wibnlly',\n",
       " 'fiaxnllyi',\n",
       " 'rfianlln',\n",
       " 'fibanlkly',\n",
       " 'fiwnllyq',\n",
       " 'fpianluy',\n",
       " 'eianlvy',\n",
       " 'fiaxnllhy',\n",
       " 'fianlljyw',\n",
       " 'fnanllsy',\n",
       " 'fianlpyc',\n",
       " 'fitanllmy',\n",
       " 'fcaylly',\n",
       " 'dianlgly',\n",
       " 'fiaonxlly',\n",
       " 'faianilly',\n",
       " 'fiandllr',\n",
       " 'khianlly',\n",
       " 'fiwnlla',\n",
       " 'vfhianlly',\n",
       " 'fiaxnluy',\n",
       " 'fianlljiy',\n",
       " 'fianlguly',\n",
       " 'fianblvly',\n",
       " 'fiafnllcy',\n",
       " 'bfianrlly',\n",
       " 'finnxlly',\n",
       " 'fhimanlly',\n",
       " 'fltianlly',\n",
       " 'fiallo',\n",
       " 'fdianllry',\n",
       " 'vfianllqy',\n",
       " 'fiaqllyh',\n",
       " 'fiianlkly',\n",
       " 'faiangly',\n",
       " 'fxianllr',\n",
       " 'fianllyan',\n",
       " 'flrnlly',\n",
       " 'fimylly',\n",
       " 'fcidnlly',\n",
       " 'figbnlly',\n",
       " 'fieasnlly',\n",
       " 'filnllty',\n",
       " 'fvavlly',\n",
       " 'fiallhly',\n",
       " 'fianlwf',\n",
       " 'fuifanlly',\n",
       " 'bxfianlly',\n",
       " 'frianfly',\n",
       " 'cfianldly',\n",
       " 'ikfianlly',\n",
       " 'fionllny',\n",
       " 'fiamlliy',\n",
       " 'fianlljyi',\n",
       " 'cfiaally',\n",
       " 'fiuqnlly',\n",
       " 'zisnlly',\n",
       " 'fisanully',\n",
       " 'fdially',\n",
       " 'fianbzy',\n",
       " 'fzianllc',\n",
       " 'xijnlly',\n",
       " 'fianldyw',\n",
       " 'kianllxy',\n",
       " 'fiakmly',\n",
       " 'ziarnlly',\n",
       " 'fdiaxlly',\n",
       " 'fifanlgly',\n",
       " 'afianlay',\n",
       " 'fidnlwly',\n",
       " 'fiaanlaly',\n",
       " 'fianllucy',\n",
       " 'fxanily',\n",
       " 'frianll',\n",
       " 'fianwclly',\n",
       " 'fhianlry',\n",
       " 'fqianmlly',\n",
       " 'bfianllp',\n",
       " 'eianwly',\n",
       " 'fkanlln',\n",
       " 'iianilly',\n",
       " 'yfianllyg',\n",
       " 'fxianllty',\n",
       " 'fixanllya',\n",
       " 'fqianlgy',\n",
       " 'flanlcly',\n",
       " 'fifmlly',\n",
       " 'fjanlldy',\n",
       " 'fiwnloly',\n",
       " 'fkikanlly',\n",
       " 'fliablly',\n",
       " 'fuanlvy',\n",
       " 'yfivnlly',\n",
       " 'dianllyj',\n",
       " 'fiahnlxy',\n",
       " 'cfiunlly',\n",
       " 'fwioanlly',\n",
       " 'fwanllc',\n",
       " 'fimanklly',\n",
       " 'fihnllp',\n",
       " 'fzianlzy',\n",
       " 'fianjllp',\n",
       " 'hiaunlly',\n",
       " 'fqianlfy',\n",
       " 'fdanlvly',\n",
       " 'fiufanlly',\n",
       " 'fjiaolly',\n",
       " 'fiaqnrly',\n",
       " 'friawnlly',\n",
       " 'fixjanlly',\n",
       " 'fianllfl',\n",
       " 'fiznllzy',\n",
       " 'fiiqanlly',\n",
       " 'fhianllmy',\n",
       " 'yianlry',\n",
       " 'mxanlly',\n",
       " 'fivanllky',\n",
       " 'fsanlmy',\n",
       " 'jnanlly',\n",
       " 'fibanlnly',\n",
       " 'fibnllyi',\n",
       " 'fianklyl',\n",
       " 'pxanlly',\n",
       " 'fiazllny',\n",
       " 'fipnnly',\n",
       " 'fiawnvlly',\n",
       " 'efiaklly',\n",
       " 'fianglzly',\n",
       " 'fbianlfy',\n",
       " 'qfiuanlly',\n",
       " 'fianqwly',\n",
       " 'fiapllly',\n",
       " 'fianlvq',\n",
       " 'fianwllq',\n",
       " 'fiinlzy',\n",
       " 'fiauvlly',\n",
       " 'fiamlrly',\n",
       " 'ftianlvly',\n",
       " 'fianklcly',\n",
       " 'fianlwyg',\n",
       " 'fbanllj',\n",
       " 'rfianllb',\n",
       " 'kfiuanlly',\n",
       " 'fimnqly',\n",
       " 'jfifanlly',\n",
       " 'figanlsy',\n",
       " 'fianrxly',\n",
       " 'hianlly',\n",
       " 'fiajllgy',\n",
       " 'fibanwly',\n",
       " 'fnanll',\n",
       " 'fbanllwy',\n",
       " ...}"
      ]
     },
     "execution_count": 41,
     "metadata": {},
     "output_type": "execute_result"
    }
   ],
   "source": [
    "# two edit distances from input word\n",
    "edits2(word)"
   ]
  },
  {
   "cell_type": "code",
   "execution_count": 42,
   "id": "14497d24b67b54ea",
   "metadata": {
    "collapsed": false,
    "jupyter": {
     "outputs_hidden": false
    }
   },
   "outputs": [
    {
     "data": {
      "text/plain": [
       "{'faintly', 'finally', 'finely', 'frankly'}"
      ]
     },
     "execution_count": 42,
     "metadata": {},
     "output_type": "execute_result"
    }
   ],
   "source": [
    "# get correct words from above set\n",
    "known(edits2(word))"
   ]
  },
  {
   "cell_type": "markdown",
   "id": "9287532663a44485",
   "metadata": {
    "collapsed": false,
    "jupyter": {
     "outputs_hidden": false
    }
   },
   "source": [
    "Vorgehen: ist das Wort selbst bekannt? Falls nicht: Editierdistanz 1 usw. Fallback: Das Wort selbst."
   ]
  },
  {
   "cell_type": "code",
   "execution_count": 43,
   "id": "4a89f23dfe0de376",
   "metadata": {
    "collapsed": false,
    "jupyter": {
     "outputs_hidden": false
    }
   },
   "outputs": [
    {
     "data": {
      "text/plain": [
       "{'finally'}"
      ]
     },
     "execution_count": 43,
     "metadata": {},
     "output_type": "execute_result"
    }
   ],
   "source": [
    "candidates = (known(edits0(word)) or \n",
    "              known(edits1(word)) or \n",
    "              known(edits2(word)) or \n",
    "              [word])\n",
    "candidates"
   ]
  },
  {
   "cell_type": "code",
   "execution_count": 44,
   "id": "78964c899bfd77e5",
   "metadata": {
    "collapsed": false,
    "jupyter": {
     "outputs_hidden": false
    }
   },
   "outputs": [],
   "source": [
    "def correct(word):\n",
    "    \"\"\"\n",
    "    Get the best correct spelling for the input word\n",
    "    \"\"\"\n",
    "    # Priority is for edit distance 0, then 1, then 2\n",
    "    # else defaults to the input word itself.\n",
    "    candidates = (known(edits0(word)) or \n",
    "                  known(edits1(word)) or \n",
    "                  known(edits2(word)) or \n",
    "                  [word])\n",
    "    return max(candidates, key=WORD_COUNTS.get)  # falls es mehrere Möglichkeiten gibt"
   ]
  },
  {
   "cell_type": "code",
   "execution_count": 45,
   "id": "2a2e7d0bf2ea7b8a",
   "metadata": {
    "collapsed": false,
    "jupyter": {
     "outputs_hidden": false
    }
   },
   "outputs": [
    {
     "data": {
      "text/plain": [
       "'finally'"
      ]
     },
     "execution_count": 45,
     "metadata": {},
     "output_type": "execute_result"
    }
   ],
   "source": [
    "correct('fianlly')"
   ]
  },
  {
   "cell_type": "code",
   "execution_count": 46,
   "id": "833a7ce08b4bdee2",
   "metadata": {
    "collapsed": false,
    "jupyter": {
     "outputs_hidden": false
    }
   },
   "outputs": [
    {
     "data": {
      "text/plain": [
       "'FIANLLY'"
      ]
     },
     "execution_count": 46,
     "metadata": {},
     "output_type": "execute_result"
    }
   ],
   "source": [
    "correct('FIANLLY')"
   ]
  },
  {
   "cell_type": "code",
   "execution_count": 47,
   "id": "e01ac167a5670520",
   "metadata": {
    "collapsed": false,
    "jupyter": {
     "outputs_hidden": false
    }
   },
   "outputs": [],
   "source": [
    "def correct_match(match):\n",
    "    \"\"\"\n",
    "    Spell-correct word in match, \n",
    "    and preserve proper upper/lower/title case.\n",
    "    \"\"\"\n",
    "    \n",
    "    word = match.group()\n",
    "    def case_of(text):\n",
    "        \"\"\"\n",
    "        Return the case-function appropriate \n",
    "        for text: upper, lower, title, or just str.:\n",
    "            \"\"\"\n",
    "        return (str.upper if text.isupper() else\n",
    "                str.lower if text.islower() else\n",
    "                str.title if text.istitle() else\n",
    "                str)\n",
    "    return case_of(word)(correct(word.lower()))\n",
    "\n",
    "    \n",
    "def correct_text_generic(text):\n",
    "    \"\"\"\n",
    "    Correct all the words within a text, \n",
    "    returning the corrected text.\n",
    "    \"\"\"\n",
    "    return re.sub('[a-zA-Z]+', correct_match, text)"
   ]
  },
  {
   "cell_type": "code",
   "execution_count": 48,
   "id": "d919a95614dc3bdc",
   "metadata": {
    "collapsed": false,
    "jupyter": {
     "outputs_hidden": false
    }
   },
   "outputs": [
    {
     "data": {
      "text/plain": [
       "'finally'"
      ]
     },
     "execution_count": 48,
     "metadata": {},
     "output_type": "execute_result"
    }
   ],
   "source": [
    "correct_text_generic('fianlly')"
   ]
  },
  {
   "cell_type": "code",
   "execution_count": 49,
   "id": "c39ed12733bcfb4b",
   "metadata": {
    "collapsed": false,
    "jupyter": {
     "outputs_hidden": false
    }
   },
   "outputs": [
    {
     "data": {
      "text/plain": [
       "'FINALLY'"
      ]
     },
     "execution_count": 49,
     "metadata": {},
     "output_type": "execute_result"
    }
   ],
   "source": [
    "correct_text_generic('FIANLLY')"
   ]
  },
  {
   "cell_type": "markdown",
   "id": "7cde799b224d6b6",
   "metadata": {
    "collapsed": false,
    "jupyter": {
     "outputs_hidden": false
    }
   },
   "source": [
    "### Rechtschreibkorrekturen in Bibliotheken (Beispiel)"
   ]
  },
  {
   "cell_type": "code",
   "execution_count": 51,
   "id": "949915554caf84f",
   "metadata": {
    "collapsed": false,
    "jupyter": {
     "outputs_hidden": false
    }
   },
   "outputs": [
    {
     "data": {
      "text/plain": [
       "'finally'"
      ]
     },
     "execution_count": 51,
     "metadata": {},
     "output_type": "execute_result"
    }
   ],
   "source": [
    "# !pip install textblob\n",
    "from textblob import Word\n",
    "\n",
    "w = Word('fianlly')\n",
    "w.correct()"
   ]
  },
  {
   "cell_type": "code",
   "execution_count": 52,
   "id": "71017611cad2e003",
   "metadata": {
    "collapsed": false,
    "jupyter": {
     "outputs_hidden": false
    }
   },
   "outputs": [
    {
     "data": {
      "text/plain": [
       "[('finally', 1.0)]"
      ]
     },
     "execution_count": 52,
     "metadata": {},
     "output_type": "execute_result"
    }
   ],
   "source": [
    "w.spellcheck()"
   ]
  },
  {
   "cell_type": "code",
   "execution_count": 53,
   "id": "bfcf85df3a4a3b83",
   "metadata": {
    "collapsed": false,
    "jupyter": {
     "outputs_hidden": false
    }
   },
   "outputs": [
    {
     "data": {
      "text/plain": [
       "[('flat', 0.85), ('float', 0.15)]"
      ]
     },
     "execution_count": 53,
     "metadata": {},
     "output_type": "execute_result"
    }
   ],
   "source": [
    "w = Word('flaot')\n",
    "w.spellcheck()"
   ]
  },
  {
   "cell_type": "markdown",
   "id": "db34686500e19f0c",
   "metadata": {
    "collapsed": false,
    "jupyter": {
     "outputs_hidden": false
    }
   },
   "source": [
    "## Stemming / Wortstamm-Reduktion"
   ]
  },
  {
   "cell_type": "markdown",
   "id": "b1340767dbbc11c5",
   "metadata": {
    "collapsed": false,
    "jupyter": {
     "outputs_hidden": false
    }
   },
   "source": [
    "Porter Stemmer: Regelbasiert, Anwendung fester Verkürzungsregeln in aufeinander folgenden Phasen"
   ]
  },
  {
   "cell_type": "code",
   "execution_count": 54,
   "id": "dd6ba49bfc3c628",
   "metadata": {
    "collapsed": false,
    "jupyter": {
     "outputs_hidden": false
    }
   },
   "outputs": [
    {
     "data": {
      "text/plain": [
       "('jump', 'jump', 'jump')"
      ]
     },
     "execution_count": 54,
     "metadata": {},
     "output_type": "execute_result"
    }
   ],
   "source": [
    "# Porter Stemmer\n",
    "from nltk.stem import PorterStemmer\n",
    "ps = PorterStemmer()\n",
    "\n",
    "ps.stem('jumping'), ps.stem('jumps'), ps.stem('jumped')"
   ]
  },
  {
   "cell_type": "code",
   "execution_count": 55,
   "id": "be64f9468373ea15",
   "metadata": {
    "collapsed": false,
    "jupyter": {
     "outputs_hidden": false
    }
   },
   "outputs": [
    {
     "data": {
      "text/plain": [
       "'lie'"
      ]
     },
     "execution_count": 55,
     "metadata": {},
     "output_type": "execute_result"
    }
   ],
   "source": [
    "ps.stem('lying')"
   ]
  },
  {
   "cell_type": "code",
   "execution_count": 56,
   "id": "96a4e8a5ffbd693e",
   "metadata": {
    "collapsed": false,
    "jupyter": {
     "outputs_hidden": false
    }
   },
   "outputs": [
    {
     "data": {
      "text/plain": [
       "'strang'"
      ]
     },
     "execution_count": 56,
     "metadata": {},
     "output_type": "execute_result"
    }
   ],
   "source": [
    "ps.stem('strange')"
   ]
  },
  {
   "cell_type": "markdown",
   "id": "39ac7e46ca91fe83",
   "metadata": {
    "collapsed": false,
    "jupyter": {
     "outputs_hidden": false
    }
   },
   "source": [
    "Lancaster Stemmer: ebenfalls regelbasiert, aber teils andere Ergebnisse"
   ]
  },
  {
   "cell_type": "code",
   "execution_count": 57,
   "id": "959377b1e64691d9",
   "metadata": {
    "collapsed": false,
    "jupyter": {
     "outputs_hidden": false
    }
   },
   "outputs": [
    {
     "data": {
      "text/plain": [
       "('jump', 'jump', 'jump')"
      ]
     },
     "execution_count": 57,
     "metadata": {},
     "output_type": "execute_result"
    }
   ],
   "source": [
    "# Lancaster Stemmer\n",
    "from nltk.stem import LancasterStemmer\n",
    "ls = LancasterStemmer()\n",
    "\n",
    "ls.stem('jumping'), ls.stem('jumps'), ls.stem('jumped')"
   ]
  },
  {
   "cell_type": "code",
   "execution_count": 58,
   "id": "3394e712fc775930",
   "metadata": {
    "collapsed": false,
    "jupyter": {
     "outputs_hidden": false
    }
   },
   "outputs": [
    {
     "data": {
      "text/plain": [
       "'lying'"
      ]
     },
     "execution_count": 58,
     "metadata": {},
     "output_type": "execute_result"
    }
   ],
   "source": [
    "ls.stem('lying')"
   ]
  },
  {
   "cell_type": "code",
   "execution_count": 59,
   "id": "168e52ef6b73c239",
   "metadata": {
    "collapsed": false,
    "jupyter": {
     "outputs_hidden": false
    }
   },
   "outputs": [
    {
     "data": {
      "text/plain": [
       "'strange'"
      ]
     },
     "execution_count": 59,
     "metadata": {},
     "output_type": "execute_result"
    }
   ],
   "source": [
    "ls.stem('strange')"
   ]
  },
  {
   "cell_type": "markdown",
   "id": "512b075baf8e5d80",
   "metadata": {
    "collapsed": false,
    "jupyter": {
     "outputs_hidden": false
    }
   },
   "source": [
    "Wie kann man so etwas nachbauen? Ganz simpel zum Beispiel als RegEx:"
   ]
  },
  {
   "cell_type": "code",
   "execution_count": 60,
   "id": "6d5d01d2b2f06406",
   "metadata": {
    "collapsed": false,
    "jupyter": {
     "outputs_hidden": false
    }
   },
   "outputs": [
    {
     "data": {
      "text/plain": [
       "('jump', 'jump', 'jump')"
      ]
     },
     "execution_count": 60,
     "metadata": {},
     "output_type": "execute_result"
    }
   ],
   "source": [
    "# Regex based stemmer\n",
    "from nltk.stem import RegexpStemmer\n",
    "rs = RegexpStemmer('ing$|s$|ed$', min=4)\n",
    "rs.stem('jumping'), rs.stem('jumps'), rs.stem('jumped')"
   ]
  },
  {
   "cell_type": "code",
   "execution_count": 61,
   "id": "831465dc0fc4bbc0",
   "metadata": {
    "collapsed": false,
    "jupyter": {
     "outputs_hidden": false
    }
   },
   "outputs": [
    {
     "data": {
      "text/plain": [
       "'ly'"
      ]
     },
     "execution_count": 61,
     "metadata": {},
     "output_type": "execute_result"
    }
   ],
   "source": [
    "rs.stem('lying')"
   ]
  },
  {
   "cell_type": "code",
   "execution_count": 62,
   "id": "46cc1c3a9bb4aff8",
   "metadata": {
    "collapsed": false,
    "jupyter": {
     "outputs_hidden": false
    }
   },
   "outputs": [
    {
     "data": {
      "text/plain": [
       "'strange'"
      ]
     },
     "execution_count": 62,
     "metadata": {},
     "output_type": "execute_result"
    }
   ],
   "source": [
    "rs.stem('strange')"
   ]
  },
  {
   "cell_type": "markdown",
   "id": "2bea8bae1f2412f9",
   "metadata": {
    "collapsed": false,
    "jupyter": {
     "outputs_hidden": false
    }
   },
   "source": [
    "Stemming geht natürlich nicht nur im Englischen:"
   ]
  },
  {
   "cell_type": "code",
   "execution_count": 63,
   "id": "aad7a3894a154c06",
   "metadata": {
    "collapsed": false,
    "jupyter": {
     "outputs_hidden": false
    }
   },
   "outputs": [
    {
     "name": "stdout",
     "output_type": "stream",
     "text": [
      "Supported Languages: ('arabic', 'danish', 'dutch', 'english', 'finnish', 'french', 'german', 'hungarian', 'italian', 'norwegian', 'porter', 'portuguese', 'romanian', 'russian', 'spanish', 'swedish')\n"
     ]
    }
   ],
   "source": [
    "# Snowball Stemmer\n",
    "from nltk.stem import SnowballStemmer\n",
    "ss = SnowballStemmer(\"german\")\n",
    "print('Supported Languages:', SnowballStemmer.languages)"
   ]
  },
  {
   "cell_type": "markdown",
   "id": "21d76272dc60b839",
   "metadata": {
    "collapsed": false,
    "jupyter": {
     "outputs_hidden": false
    }
   },
   "source": [
    "Originalkommentare von Sarkar :)"
   ]
  },
  {
   "cell_type": "code",
   "execution_count": 64,
   "id": "d48ee89c1becb62c",
   "metadata": {
    "collapsed": false,
    "jupyter": {
     "outputs_hidden": false
    }
   },
   "outputs": [
    {
     "data": {
      "text/plain": [
       "'autobahn'"
      ]
     },
     "execution_count": 64,
     "metadata": {},
     "output_type": "execute_result"
    }
   ],
   "source": [
    "# stemming on German words\n",
    "# autobahnen -> cars\n",
    "# autobahn -> car\n",
    "ss.stem('autobahnen')"
   ]
  },
  {
   "cell_type": "code",
   "execution_count": 65,
   "id": "68e50bd041a5f5d9",
   "metadata": {
    "collapsed": false,
    "jupyter": {
     "outputs_hidden": false
    }
   },
   "outputs": [
    {
     "data": {
      "text/plain": [
       "'spring'"
      ]
     },
     "execution_count": 65,
     "metadata": {},
     "output_type": "execute_result"
    }
   ],
   "source": [
    "# springen -> jumping\n",
    "# spring -> jump\n",
    "ss.stem('springen')"
   ]
  },
  {
   "cell_type": "markdown",
   "id": "2c473064a900ec67",
   "metadata": {
    "collapsed": false,
    "jupyter": {
     "outputs_hidden": false
    }
   },
   "source": [
    "weitere Beispiele (HR)"
   ]
  },
  {
   "cell_type": "code",
   "execution_count": 66,
   "id": "dca6eb2a5412c3fa",
   "metadata": {
    "collapsed": false,
    "jupyter": {
     "outputs_hidden": false
    }
   },
   "outputs": [
    {
     "data": {
      "text/plain": [
       "'gesprung'"
      ]
     },
     "execution_count": 66,
     "metadata": {},
     "output_type": "execute_result"
    }
   ],
   "source": [
    "ss.stem(\"gesprungen\")"
   ]
  },
  {
   "cell_type": "markdown",
   "id": "29919ead7ccf3d9e",
   "metadata": {
    "collapsed": false,
    "jupyter": {
     "outputs_hidden": false
    }
   },
   "source": [
    "Als Funktion für Sätze/Texte:"
   ]
  },
  {
   "cell_type": "code",
   "execution_count": 67,
   "id": "cf53b032582688e6",
   "metadata": {
    "collapsed": false,
    "jupyter": {
     "outputs_hidden": false
    }
   },
   "outputs": [
    {
     "data": {
      "text/plain": [
       "'my system keep crash hi crash yesterday, our crash daili'"
      ]
     },
     "execution_count": 67,
     "metadata": {},
     "output_type": "execute_result"
    }
   ],
   "source": [
    "def simple_stemmer(text):\n",
    "    ps = nltk.porter.PorterStemmer()\n",
    "    text = ' '.join([ps.stem(word) for word in text.split()])\n",
    "    return text\n",
    "\n",
    "simple_stemmer(\"My system keeps crashing his crashed yesterday, ours crashes daily\")"
   ]
  },
  {
   "cell_type": "markdown",
   "id": "9078856c8e5d20da",
   "metadata": {
    "collapsed": false,
    "jupyter": {
     "outputs_hidden": false
    }
   },
   "source": [
    "## Lemmatization / Lemmatisierung"
   ]
  },
  {
   "cell_type": "code",
   "execution_count": 68,
   "id": "44e5f64b92d5d461",
   "metadata": {
    "collapsed": false,
    "jupyter": {
     "outputs_hidden": false
    }
   },
   "outputs": [],
   "source": [
    "from nltk.stem import WordNetLemmatizer\n",
    "wnl = WordNetLemmatizer()"
   ]
  },
  {
   "cell_type": "code",
   "execution_count": 69,
   "id": "9a6a8df1c0dc535a",
   "metadata": {
    "collapsed": false,
    "jupyter": {
     "outputs_hidden": false
    }
   },
   "outputs": [
    {
     "name": "stdout",
     "output_type": "stream",
     "text": [
      "car\n",
      "men\n"
     ]
    }
   ],
   "source": [
    "# lemmatize nouns\n",
    "print(wnl.lemmatize('cars', 'n'))\n",
    "print(wnl.lemmatize('men', 'n'))"
   ]
  },
  {
   "cell_type": "code",
   "execution_count": 70,
   "id": "6b4d7fc17f6c3b7",
   "metadata": {
    "collapsed": false,
    "jupyter": {
     "outputs_hidden": false
    }
   },
   "outputs": [
    {
     "name": "stdout",
     "output_type": "stream",
     "text": [
      "sad\n",
      "fancy\n"
     ]
    }
   ],
   "source": [
    "# lemmatize adjectives\n",
    "print(wnl.lemmatize('saddest', 'a'))\n",
    "print(wnl.lemmatize('fancier', 'a'))"
   ]
  },
  {
   "cell_type": "code",
   "execution_count": 71,
   "id": "45035c45087fff22",
   "metadata": {
    "collapsed": false,
    "jupyter": {
     "outputs_hidden": false
    }
   },
   "outputs": [
    {
     "name": "stdout",
     "output_type": "stream",
     "text": [
      "ate\n",
      "fancier\n"
     ]
    }
   ],
   "source": [
    "# ineffective lemmatization\n",
    "print(wnl.lemmatize('ate', 'n'))\n",
    "print(wnl.lemmatize('fancier', 'v'))"
   ]
  },
  {
   "cell_type": "code",
   "execution_count": 72,
   "id": "7310d20f30ea8700",
   "metadata": {
    "collapsed": false,
    "jupyter": {
     "outputs_hidden": false
    }
   },
   "outputs": [
    {
     "data": {
      "text/plain": [
       "'my system keep crash ! his crash yesterday , ours crash daily'"
      ]
     },
     "execution_count": 72,
     "metadata": {},
     "output_type": "execute_result"
    }
   ],
   "source": [
    "import spacy\n",
    "nlp = spacy.load('en_core_web_trf')\n",
    "text = 'My system keeps crashing his crashed yesterday, ours crashes daily'\n",
    "\n",
    "def lemmatize_text(text):\n",
    "    text = nlp(text)\n",
    "    text = ' '.join([word.lemma_ if word.lemma_ != '-PRON-' else word.text for word in text])\n",
    "    return text\n",
    "\n",
    "lemmatize_text(\"My system keeps crashing! his crashed yesterday, ours crashes daily\")"
   ]
  },
  {
   "cell_type": "markdown",
   "id": "aa28ad133636069b",
   "metadata": {
    "collapsed": false,
    "jupyter": {
     "outputs_hidden": false
    }
   },
   "source": [
    "## Stoppwörter entfernen"
   ]
  },
  {
   "cell_type": "code",
   "execution_count": 73,
   "id": "58e08bfa09c8f4aa",
   "metadata": {
    "collapsed": false,
    "jupyter": {
     "outputs_hidden": false
    }
   },
   "outputs": [
    {
     "data": {
      "text/plain": [
       "', , stopwords , computer'"
      ]
     },
     "execution_count": 73,
     "metadata": {},
     "output_type": "execute_result"
    }
   ],
   "source": [
    "from nltk.tokenize.toktok import ToktokTokenizer\n",
    "tokenizer = ToktokTokenizer()\n",
    "stopword_list = nltk.corpus.stopwords.words('english')\n",
    "def remove_stopwords(text, is_lower_case=False, stopwords=stopword_list):\n",
    "    tokens = tokenizer.tokenize(text)\n",
    "    tokens = [token.strip() for token in tokens]\n",
    "    if is_lower_case:\n",
    "        filtered_tokens = [token for token in tokens if token not in stopwords]\n",
    "    else:\n",
    "        filtered_tokens = [token for token in tokens if token.lower() not in stopwords]\n",
    "    filtered_text = ' '.join(filtered_tokens)    \n",
    "    return filtered_text\n",
    "\n",
    "remove_stopwords(\"The, and, if are stopwords, computer is not\")"
   ]
  },
  {
   "cell_type": "markdown",
   "id": "ce26cb41abb83a4",
   "metadata": {
    "collapsed": false,
    "jupyter": {
     "outputs_hidden": false
    }
   },
   "source": [
    "# Alles zusammenführen "
   ]
  },
  {
   "cell_type": "code",
   "execution_count": 74,
   "id": "eafb90dc9d1ff8cb",
   "metadata": {
    "collapsed": false,
    "jupyter": {
     "outputs_hidden": false
    }
   },
   "outputs": [],
   "source": [
    "def normalize_corpus(corpus, html_stripping=True, contraction_expansion=True,\n",
    "                     accented_char_removal=True, text_lower_case=True, \n",
    "                     text_lemmatization=True, special_char_removal=True, \n",
    "                     stopword_removal=True, remove_digits=True):\n",
    "    \n",
    "    normalized_corpus = []\n",
    "    # normalize each document in the corpus\n",
    "    for doc in corpus:\n",
    "        # strip HTML\n",
    "        if html_stripping:\n",
    "            doc = strip_html_tags(doc)\n",
    "        # remove accented characters\n",
    "        if accented_char_removal:\n",
    "            doc = remove_accented_chars(doc)\n",
    "        # expand contractions    \n",
    "        if contraction_expansion:\n",
    "            doc = expand_contractions(doc)\n",
    "        # lowercase the text    \n",
    "        if text_lower_case:\n",
    "            doc = doc.lower()\n",
    "        # remove extra newlines\n",
    "        doc = re.sub(r'[\\r|\\n|\\r\\n]+', ' ',doc)\n",
    "        # lemmatize text\n",
    "        if text_lemmatization:\n",
    "            doc = lemmatize_text(doc)\n",
    "        # remove special characters and\\or digits    \n",
    "        if special_char_removal:\n",
    "            # insert spaces between special characters to isolate them    \n",
    "            special_char_pattern = re.compile(r'([{.(-)!}])')\n",
    "            doc = special_char_pattern.sub(\" \\\\1 \", doc)\n",
    "            doc = remove_special_characters(doc, remove_digits=remove_digits)  \n",
    "        # remove extra whitespace\n",
    "        doc = re.sub(' +', ' ', doc)\n",
    "        # remove stopwords\n",
    "        if stopword_removal:\n",
    "            doc = remove_stopwords(doc, is_lower_case=text_lower_case)\n",
    "            \n",
    "        normalized_corpus.append(doc)\n",
    "        \n",
    "    return normalized_corpus"
   ]
  },
  {
   "cell_type": "code",
   "execution_count": 75,
   "id": "dfb15be15ab28b57",
   "metadata": {
    "collapsed": false,
    "jupyter": {
     "outputs_hidden": false
    }
   },
   "outputs": [
    {
     "data": {
      "text/plain": [
       "{'Original': \"US unveils world's most powerful supercomputer, beats China. The US has unveiled the world's most powerful supercomputer called 'Summit', beating the previous record-holder China's Sunway TaihuLight. With a peak performance of 200,000 trillion calculations per second, it is over twice as fast as Sunway TaihuLight, which is capable of 93,000 trillion calculations per second. Summit has 4,608 servers, which reportedly take up the size of two tennis courts.\",\n",
       " 'Processed': 'us unveil worlds powerful supercomputer beat china us unveil world powerful supercomputer call summit beat previous record holder chinas sunway taihulight peak performance trillion calculation per second twice fast sunway taihulight capable trillion calculation per second summit server reportedly take size two tennis court'}"
      ]
     },
     "execution_count": 75,
     "metadata": {},
     "output_type": "execute_result"
    }
   ],
   "source": [
    "{'Original': sample_text,\n",
    " 'Processed': normalize_corpus([sample_text])[0]}"
   ]
  },
  {
   "cell_type": "code",
   "execution_count": null,
   "id": "fe5c92436dbccf93",
   "metadata": {
    "collapsed": false,
    "jupyter": {
     "outputs_hidden": false
    }
   },
   "outputs": [],
   "source": []
  }
 ],
 "metadata": {
  "kernelspec": {
   "display_name": "venv",
   "language": "python",
   "name": "venv"
  },
  "language_info": {
   "codemirror_mode": {
    "name": "ipython",
    "version": 3
   },
   "file_extension": ".py",
   "mimetype": "text/x-python",
   "name": "python",
   "nbconvert_exporter": "python",
   "pygments_lexer": "ipython3",
   "version": "3.11.7"
  }
 },
 "nbformat": 4,
 "nbformat_minor": 5
}
