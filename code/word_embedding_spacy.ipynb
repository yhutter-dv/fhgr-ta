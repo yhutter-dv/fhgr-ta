{
 "cells": [
  {
   "cell_type": "markdown",
   "id": "14d4c508-d893-4164-b2ca-bb633f93ff8a",
   "metadata": {},
   "source": [
    "# Aufgabenstellung\n",
    "Nehmen sie sich das Beispiel zu Word-Embeddings mit spaCy vor. Ersetzen sie die Wörter und experimentieren sie mit Ähnlichkeiten. Denken sie sich einen eigenen \"Schlagzeilen-Korpus\" aus, der evtl. die Ähnlichkeiten besser abbildet."
   ]
  },
  {
   "cell_type": "markdown",
   "id": "77732d27-988c-4837-91e1-9999f6898d7b",
   "metadata": {},
   "source": [
    "# Spacy Sprachmodell laden"
   ]
  },
  {
   "cell_type": "code",
   "execution_count": 8,
   "id": "71c15876-9e0d-4031-99b5-5d1aedf7a0ef",
   "metadata": {},
   "outputs": [
    {
     "name": "stdout",
     "output_type": "stream",
     "text": [
      "Collecting de-core-news-lg==3.6.0\n",
      "  Downloading https://github.com/explosion/spacy-models/releases/download/de_core_news_lg-3.6.0/de_core_news_lg-3.6.0-py3-none-any.whl (567.8 MB)\n",
      "\u001b[2K     \u001b[38;2;114;156;31m━━━━━━━━━━━━━━━━━━━━━━━━━━━━━━━━━━━━━━━\u001b[0m \u001b[32m567.8/567.8 MB\u001b[0m \u001b[31m5.8 MB/s\u001b[0m eta \u001b[36m0:00:00\u001b[0mm eta \u001b[36m0:00:01\u001b[0m[36m0:00:01\u001b[0m\n",
      "\u001b[?25hRequirement already satisfied: spacy<3.7.0,>=3.6.0 in /home/yhutter/GitRepos/fhgr-ta/venv/lib/python3.11/site-packages (from de-core-news-lg==3.6.0) (3.6.1)\n",
      "Requirement already satisfied: spacy-legacy<3.1.0,>=3.0.11 in /home/yhutter/GitRepos/fhgr-ta/venv/lib/python3.11/site-packages (from spacy<3.7.0,>=3.6.0->de-core-news-lg==3.6.0) (3.0.12)\n",
      "Requirement already satisfied: spacy-loggers<2.0.0,>=1.0.0 in /home/yhutter/GitRepos/fhgr-ta/venv/lib/python3.11/site-packages (from spacy<3.7.0,>=3.6.0->de-core-news-lg==3.6.0) (1.0.5)\n",
      "Requirement already satisfied: murmurhash<1.1.0,>=0.28.0 in /home/yhutter/GitRepos/fhgr-ta/venv/lib/python3.11/site-packages (from spacy<3.7.0,>=3.6.0->de-core-news-lg==3.6.0) (1.0.10)\n",
      "Requirement already satisfied: cymem<2.1.0,>=2.0.2 in /home/yhutter/GitRepos/fhgr-ta/venv/lib/python3.11/site-packages (from spacy<3.7.0,>=3.6.0->de-core-news-lg==3.6.0) (2.0.8)\n",
      "Requirement already satisfied: preshed<3.1.0,>=3.0.2 in /home/yhutter/GitRepos/fhgr-ta/venv/lib/python3.11/site-packages (from spacy<3.7.0,>=3.6.0->de-core-news-lg==3.6.0) (3.0.9)\n",
      "Requirement already satisfied: thinc<8.2.0,>=8.1.8 in /home/yhutter/GitRepos/fhgr-ta/venv/lib/python3.11/site-packages (from spacy<3.7.0,>=3.6.0->de-core-news-lg==3.6.0) (8.1.12)\n",
      "Requirement already satisfied: wasabi<1.2.0,>=0.9.1 in /home/yhutter/GitRepos/fhgr-ta/venv/lib/python3.11/site-packages (from spacy<3.7.0,>=3.6.0->de-core-news-lg==3.6.0) (1.1.2)\n",
      "Requirement already satisfied: srsly<3.0.0,>=2.4.3 in /home/yhutter/GitRepos/fhgr-ta/venv/lib/python3.11/site-packages (from spacy<3.7.0,>=3.6.0->de-core-news-lg==3.6.0) (2.4.8)\n",
      "Requirement already satisfied: catalogue<2.1.0,>=2.0.6 in /home/yhutter/GitRepos/fhgr-ta/venv/lib/python3.11/site-packages (from spacy<3.7.0,>=3.6.0->de-core-news-lg==3.6.0) (2.0.9)\n",
      "Requirement already satisfied: typer<0.10.0,>=0.3.0 in /home/yhutter/GitRepos/fhgr-ta/venv/lib/python3.11/site-packages (from spacy<3.7.0,>=3.6.0->de-core-news-lg==3.6.0) (0.9.0)\n",
      "Requirement already satisfied: pathy>=0.10.0 in /home/yhutter/GitRepos/fhgr-ta/venv/lib/python3.11/site-packages (from spacy<3.7.0,>=3.6.0->de-core-news-lg==3.6.0) (0.10.2)\n",
      "Requirement already satisfied: smart-open<7.0.0,>=5.2.1 in /home/yhutter/GitRepos/fhgr-ta/venv/lib/python3.11/site-packages (from spacy<3.7.0,>=3.6.0->de-core-news-lg==3.6.0) (6.4.0)\n",
      "Requirement already satisfied: tqdm<5.0.0,>=4.38.0 in /home/yhutter/GitRepos/fhgr-ta/venv/lib/python3.11/site-packages (from spacy<3.7.0,>=3.6.0->de-core-news-lg==3.6.0) (4.66.1)\n",
      "Requirement already satisfied: numpy>=1.15.0 in /home/yhutter/GitRepos/fhgr-ta/venv/lib/python3.11/site-packages (from spacy<3.7.0,>=3.6.0->de-core-news-lg==3.6.0) (1.26.0)\n",
      "Requirement already satisfied: requests<3.0.0,>=2.13.0 in /home/yhutter/GitRepos/fhgr-ta/venv/lib/python3.11/site-packages (from spacy<3.7.0,>=3.6.0->de-core-news-lg==3.6.0) (2.31.0)\n",
      "Requirement already satisfied: pydantic!=1.8,!=1.8.1,<3.0.0,>=1.7.4 in /home/yhutter/GitRepos/fhgr-ta/venv/lib/python3.11/site-packages (from spacy<3.7.0,>=3.6.0->de-core-news-lg==3.6.0) (2.3.0)\n",
      "Requirement already satisfied: jinja2 in /home/yhutter/GitRepos/fhgr-ta/venv/lib/python3.11/site-packages (from spacy<3.7.0,>=3.6.0->de-core-news-lg==3.6.0) (3.1.2)\n",
      "Requirement already satisfied: setuptools in /home/yhutter/GitRepos/fhgr-ta/venv/lib/python3.11/site-packages (from spacy<3.7.0,>=3.6.0->de-core-news-lg==3.6.0) (65.5.0)\n",
      "Requirement already satisfied: packaging>=20.0 in /home/yhutter/GitRepos/fhgr-ta/venv/lib/python3.11/site-packages (from spacy<3.7.0,>=3.6.0->de-core-news-lg==3.6.0) (23.1)\n",
      "Requirement already satisfied: langcodes<4.0.0,>=3.2.0 in /home/yhutter/GitRepos/fhgr-ta/venv/lib/python3.11/site-packages (from spacy<3.7.0,>=3.6.0->de-core-news-lg==3.6.0) (3.3.0)\n",
      "Requirement already satisfied: annotated-types>=0.4.0 in /home/yhutter/GitRepos/fhgr-ta/venv/lib/python3.11/site-packages (from pydantic!=1.8,!=1.8.1,<3.0.0,>=1.7.4->spacy<3.7.0,>=3.6.0->de-core-news-lg==3.6.0) (0.5.0)\n",
      "Requirement already satisfied: pydantic-core==2.6.3 in /home/yhutter/GitRepos/fhgr-ta/venv/lib/python3.11/site-packages (from pydantic!=1.8,!=1.8.1,<3.0.0,>=1.7.4->spacy<3.7.0,>=3.6.0->de-core-news-lg==3.6.0) (2.6.3)\n",
      "Requirement already satisfied: typing-extensions>=4.6.1 in /home/yhutter/GitRepos/fhgr-ta/venv/lib/python3.11/site-packages (from pydantic!=1.8,!=1.8.1,<3.0.0,>=1.7.4->spacy<3.7.0,>=3.6.0->de-core-news-lg==3.6.0) (4.8.0)\n",
      "Requirement already satisfied: charset-normalizer<4,>=2 in /home/yhutter/GitRepos/fhgr-ta/venv/lib/python3.11/site-packages (from requests<3.0.0,>=2.13.0->spacy<3.7.0,>=3.6.0->de-core-news-lg==3.6.0) (3.2.0)\n",
      "Requirement already satisfied: idna<4,>=2.5 in /home/yhutter/GitRepos/fhgr-ta/venv/lib/python3.11/site-packages (from requests<3.0.0,>=2.13.0->spacy<3.7.0,>=3.6.0->de-core-news-lg==3.6.0) (3.4)\n",
      "Requirement already satisfied: urllib3<3,>=1.21.1 in /home/yhutter/GitRepos/fhgr-ta/venv/lib/python3.11/site-packages (from requests<3.0.0,>=2.13.0->spacy<3.7.0,>=3.6.0->de-core-news-lg==3.6.0) (2.0.5)\n",
      "Requirement already satisfied: certifi>=2017.4.17 in /home/yhutter/GitRepos/fhgr-ta/venv/lib/python3.11/site-packages (from requests<3.0.0,>=2.13.0->spacy<3.7.0,>=3.6.0->de-core-news-lg==3.6.0) (2023.7.22)\n",
      "Requirement already satisfied: blis<0.8.0,>=0.7.8 in /home/yhutter/GitRepos/fhgr-ta/venv/lib/python3.11/site-packages (from thinc<8.2.0,>=8.1.8->spacy<3.7.0,>=3.6.0->de-core-news-lg==3.6.0) (0.7.11)\n",
      "Requirement already satisfied: confection<1.0.0,>=0.0.1 in /home/yhutter/GitRepos/fhgr-ta/venv/lib/python3.11/site-packages (from thinc<8.2.0,>=8.1.8->spacy<3.7.0,>=3.6.0->de-core-news-lg==3.6.0) (0.1.3)\n",
      "Requirement already satisfied: click<9.0.0,>=7.1.1 in /home/yhutter/GitRepos/fhgr-ta/venv/lib/python3.11/site-packages (from typer<0.10.0,>=0.3.0->spacy<3.7.0,>=3.6.0->de-core-news-lg==3.6.0) (8.1.7)\n",
      "Requirement already satisfied: MarkupSafe>=2.0 in /home/yhutter/GitRepos/fhgr-ta/venv/lib/python3.11/site-packages (from jinja2->spacy<3.7.0,>=3.6.0->de-core-news-lg==3.6.0) (2.1.3)\n",
      "Installing collected packages: de-core-news-lg\n",
      "Successfully installed de-core-news-lg-3.6.0\n"
     ]
    },
    {
     "name": "stderr",
     "output_type": "stream",
     "text": [
      "\n",
      "\u001b[1m[\u001b[0m\u001b[34;49mnotice\u001b[0m\u001b[1;39;49m]\u001b[0m\u001b[39;49m A new release of pip is available: \u001b[0m\u001b[31;49m23.2.1\u001b[0m\u001b[39;49m -> \u001b[0m\u001b[32;49m23.3.1\u001b[0m\n",
      "\u001b[1m[\u001b[0m\u001b[34;49mnotice\u001b[0m\u001b[1;39;49m]\u001b[0m\u001b[39;49m To update, run: \u001b[0m\u001b[32;49mpip install --upgrade pip\u001b[0m\n"
     ]
    },
    {
     "name": "stdout",
     "output_type": "stream",
     "text": [
      "\u001b[38;5;2m✔ Download and installation successful\u001b[0m\n",
      "You can now load the package via spacy.load('de_core_news_lg')\n"
     ]
    }
   ],
   "source": [
    "import spacy\n",
    "nlp = spacy.load('de_core_news_lg')"
   ]
  },
  {
   "cell_type": "markdown",
   "id": "d797f170-b7da-4975-ac50-cd6ab8946410",
   "metadata": {},
   "source": [
    "# Definierung eigener Sätze und textuelle Vergleiche"
   ]
  },
  {
   "cell_type": "code",
   "execution_count": 15,
   "id": "c7c1312c-cd0b-498f-8916-6d4b4cc455e6",
   "metadata": {},
   "outputs": [
    {
     "name": "stdout",
     "output_type": "stream",
     "text": [
      "Meschen and Affen have a similarity of 0.4158276317130013\n"
     ]
    }
   ],
   "source": [
    "def print_similarity(a, b):\n",
    "    word1 = nlp(a)\n",
    "    word2 = nlp(b)\n",
    "    if word1.has_vector and word2.has_vector:\n",
    "        print(f\"{a} and {b} have a similarity of {word1.similarity(word2)}\")\n",
    "    else:\n",
    "        print(f\"No similarity between {a} and {b}\")\n",
    "\n",
    "print_similarity(\"Meschen\", \"Affen\")"
   ]
  }
 ],
 "metadata": {
  "kernelspec": {
   "display_name": "Python 3 (ipykernel)",
   "language": "python",
   "name": "python3"
  },
  "language_info": {
   "codemirror_mode": {
    "name": "ipython",
    "version": 3
   },
   "file_extension": ".py",
   "mimetype": "text/x-python",
   "name": "python",
   "nbconvert_exporter": "python",
   "pygments_lexer": "ipython3",
   "version": "3.11.5"
  }
 },
 "nbformat": 4,
 "nbformat_minor": 5
}
