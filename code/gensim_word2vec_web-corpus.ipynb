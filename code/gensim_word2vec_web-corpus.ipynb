{
 "cells": [
  {
   "cell_type": "code",
   "execution_count": 2,
   "id": "35ee536448da306c",
   "metadata": {
    "ExecuteTime": {
     "end_time": "2023-11-02T15:42:30.256905400Z",
     "start_time": "2023-11-02T15:42:24.693928100Z"
    },
    "collapsed": false,
    "jupyter": {
     "outputs_hidden": false
    }
   },
   "outputs": [
    {
     "data": {
      "text/plain": [
       "0"
      ]
     },
     "execution_count": 2,
     "metadata": {},
     "output_type": "execute_result"
    }
   ],
   "source": [
    "import gensim\n",
    "\n",
    "gensim.models.doc2vec.FAST_VERSION"
   ]
  },
  {
   "cell_type": "code",
   "execution_count": 3,
   "id": "7e59d02656c0ad48",
   "metadata": {
    "ExecuteTime": {
     "end_time": "2023-11-02T15:44:05.951821100Z",
     "start_time": "2023-11-02T15:44:05.920703900Z"
    },
    "collapsed": false,
    "jupyter": {
     "outputs_hidden": false
    }
   },
   "outputs": [],
   "source": [
    "import logging\n",
    "\n",
    "logging.basicConfig(format=\"%(message)s\", level=logging.INFO)"
   ]
  },
  {
   "cell_type": "code",
   "execution_count": null,
   "id": "aa77e76e1a8fd7b",
   "metadata": {
    "ExecuteTime": {
     "end_time": "2023-11-02T15:48:59.812599700Z",
     "start_time": "2023-11-02T15:45:10.201548800Z"
    },
    "collapsed": false,
    "jupyter": {
     "outputs_hidden": false
    }
   },
   "outputs": [],
   "source": [
    "model_CH_1M = gensim.models.Word2Vec(corpus_file=\"./deu-ch_web-public_2019_1M-sentences.txt\", vector_size=200, sg=1, negative=0, hs=1, workers=12)"
   ]
  },
  {
   "cell_type": "code",
   "execution_count": 4,
   "id": "5f7936d1d2014391",
   "metadata": {
    "ExecuteTime": {
     "end_time": "2023-11-02T15:49:08.787947600Z",
     "start_time": "2023-11-02T15:49:07.246781500Z"
    },
    "collapsed": false,
    "jupyter": {
     "outputs_hidden": false
    }
   },
   "outputs": [],
   "source": [
    "#kann dann später mittels \"load\" weiterverwendet werden.\n",
    "model_CH_1M.save(\"model_CH_1M_uncleaned.mod\")"
   ]
  },
  {
   "cell_type": "code",
   "execution_count": 5,
   "id": "4e1800e22649b15a",
   "metadata": {
    "ExecuteTime": {
     "end_time": "2023-11-02T15:49:16.681568500Z",
     "start_time": "2023-11-02T15:49:16.669088Z"
    },
    "collapsed": false,
    "jupyter": {
     "outputs_hidden": false
    }
   },
   "outputs": [
    {
     "data": {
      "text/plain": [
       "0.4658107"
      ]
     },
     "execution_count": 5,
     "metadata": {},
     "output_type": "execute_result"
    }
   ],
   "source": [
    "model_CH_1M.wv.similarity(\"Chur\", \"Bern\")"
   ]
  },
  {
   "cell_type": "code",
   "execution_count": 6,
   "id": "d351879361409ff9",
   "metadata": {
    "ExecuteTime": {
     "end_time": "2023-11-02T15:49:20.577041200Z",
     "start_time": "2023-11-02T15:49:20.442236500Z"
    },
    "collapsed": false,
    "jupyter": {
     "outputs_hidden": false
    }
   },
   "outputs": [
    {
     "data": {
      "text/plain": [
       "0.5487086"
      ]
     },
     "execution_count": 6,
     "metadata": {},
     "output_type": "execute_result"
    }
   ],
   "source": [
    "model_CH_1M.wv.similarity(\"Bern\", \"Basel\")"
   ]
  },
  {
   "cell_type": "code",
   "execution_count": 7,
   "id": "b0f6168daa4934a2",
   "metadata": {
    "ExecuteTime": {
     "end_time": "2023-11-02T15:49:25.505440800Z",
     "start_time": "2023-11-02T15:49:25.411435200Z"
    },
    "collapsed": false,
    "jupyter": {
     "outputs_hidden": false
    }
   },
   "outputs": [
    {
     "data": {
      "text/plain": [
       "[('Aarau', 0.6204761266708374),\n",
       " ('Biel', 0.6176292300224304),\n",
       " ('Lyss,', 0.6138947606086731),\n",
       " ('Schaffhausen', 0.6095820665359497),\n",
       " ('Chur.', 0.6077761054039001),\n",
       " ('Winterthur', 0.6031926274299622),\n",
       " ('Thun.', 0.5934109687805176),\n",
       " ('Sion,', 0.5933781862258911),\n",
       " ('Luzern', 0.5902578234672546),\n",
       " ('St.Gallen', 0.589532196521759)]"
      ]
     },
     "execution_count": 7,
     "metadata": {},
     "output_type": "execute_result"
    }
   ],
   "source": [
    "model_CH_1M.wv.most_similar(\"Chur\")"
   ]
  },
  {
   "cell_type": "markdown",
   "id": "9cd3988661d1f9d5",
   "metadata": {
    "collapsed": false,
    "jupyter": {
     "outputs_hidden": false
    }
   },
   "source": [
    "wir sehen schon, etwas cleaning hätte gut getan..."
   ]
  },
  {
   "cell_type": "code",
   "execution_count": 8,
   "id": "8cdb231c707a4354",
   "metadata": {
    "ExecuteTime": {
     "end_time": "2023-11-02T15:49:49.283411900Z",
     "start_time": "2023-11-02T15:49:49.270622700Z"
    },
    "collapsed": false,
    "jupyter": {
     "outputs_hidden": false
    }
   },
   "outputs": [
    {
     "data": {
      "text/plain": [
       "[('Snowboard', 0.5874071717262268),\n",
       " ('Bike', 0.5584657192230225),\n",
       " ('Trail', 0.46606549620628357),\n",
       " ('Volleyball', 0.45986464619636536),\n",
       " ('Schneeschuhen', 0.4551537334918976),\n",
       " ('Tennis', 0.45177367329597473),\n",
       " ('Famigros', 0.44914665818214417),\n",
       " ('Klettern', 0.4485852122306824),\n",
       " ('Rafting', 0.43747931718826294),\n",
       " ('Mountainbiken', 0.4352772533893585)]"
      ]
     },
     "execution_count": 8,
     "metadata": {},
     "output_type": "execute_result"
    }
   ],
   "source": [
    "model_CH_1M.wv.most_similar(\"Ski\")"
   ]
  },
  {
   "cell_type": "code",
   "execution_count": 9,
   "id": "281262b36150dc3e",
   "metadata": {
    "ExecuteTime": {
     "end_time": "2023-11-02T15:49:58.389840600Z",
     "start_time": "2023-11-02T15:49:58.370924300Z"
    },
    "collapsed": false,
    "jupyter": {
     "outputs_hidden": false
    }
   },
   "outputs": [
    {
     "data": {
      "text/plain": [
       "[('Eishockey', 0.5782140493392944),\n",
       " ('spielen,', 0.5420645475387573),\n",
       " ('Mannschaftssport', 0.5036109089851379),\n",
       " ('Volleyball', 0.5020352602005005),\n",
       " ('Unihockey', 0.48743289709091187),\n",
       " ('Fussball,', 0.4791940748691559),\n",
       " ('spielen', 0.47864148020744324),\n",
       " ('YB', 0.45617911219596863),\n",
       " ('Leichtathletik', 0.45303311944007874),\n",
       " ('Breitenrain', 0.45161837339401245)]"
      ]
     },
     "execution_count": 9,
     "metadata": {},
     "output_type": "execute_result"
    }
   ],
   "source": [
    "model_CH_1M.wv.most_similar(\"Fussball\")"
   ]
  },
  {
   "cell_type": "code",
   "execution_count": 10,
   "id": "fb55111800e35043",
   "metadata": {
    "ExecuteTime": {
     "end_time": "2023-11-02T15:50:09.063557600Z",
     "start_time": "2023-11-02T15:50:09.046187500Z"
    },
    "collapsed": false,
    "jupyter": {
     "outputs_hidden": false
    }
   },
   "outputs": [
    {
     "data": {
      "text/plain": [
       "[('FC', 0.709332287311554),\n",
       " ('Servette', 0.6774985194206238),\n",
       " ('0:2.', 0.6735396981239319),\n",
       " ('Xamax', 0.6691527962684631),\n",
       " ('Heimspiel', 0.6664479374885559),\n",
       " ('0:0', 0.6648505330085754),\n",
       " ('0:3.', 0.6535196304321289),\n",
       " ('Derby', 0.6530095338821411),\n",
       " ('0:3', 0.6521779298782349),\n",
       " ('Partie', 0.6492296457290649)]"
      ]
     },
     "execution_count": 10,
     "metadata": {},
     "output_type": "execute_result"
    }
   ],
   "source": [
    "model_CH_1M.wv.most_similar(\"YB\")"
   ]
  },
  {
   "cell_type": "code",
   "execution_count": 11,
   "id": "5446759c0d5dee88",
   "metadata": {
    "ExecuteTime": {
     "end_time": "2023-11-02T15:50:25.689813100Z",
     "start_time": "2023-11-02T15:50:25.676210900Z"
    },
    "collapsed": false,
    "jupyter": {
     "outputs_hidden": false
    }
   },
   "outputs": [
    {
     "data": {
      "text/plain": [
       "[('Tochter', 0.6313100457191467),\n",
       " ('Mutter', 0.5639639496803284),\n",
       " ('Cousine', 0.556882381439209),\n",
       " ('Schwester', 0.550153911113739),\n",
       " ('Gattin', 0.5478203296661377),\n",
       " ('Vater', 0.531214714050293),\n",
       " ('Mutter,', 0.5292109847068787),\n",
       " ('Onkel', 0.521233856678009),\n",
       " ('Neffen', 0.5195810198783875),\n",
       " ('Lebenspartnerin', 0.5150473117828369)]"
      ]
     },
     "execution_count": 11,
     "metadata": {},
     "output_type": "execute_result"
    }
   ],
   "source": [
    "model_CH_1M.wv.most_similar(positive=[\"Sohn\", \"Frau\"], negative=[\"Mann\"])"
   ]
  },
  {
   "cell_type": "code",
   "execution_count": 12,
   "id": "74256781b64c04f6",
   "metadata": {
    "ExecuteTime": {
     "end_time": "2023-11-02T15:51:12.330088200Z",
     "start_time": "2023-11-02T15:51:12.313982700Z"
    },
    "collapsed": false,
    "jupyter": {
     "outputs_hidden": false
    }
   },
   "outputs": [
    {
     "data": {
      "text/plain": [
       "[('Grasshoppers', 0.5153452754020691),\n",
       " ('St.Otmar', 0.5118549466133118),\n",
       " ('0:2.', 0.5114341378211975),\n",
       " ('Heimspiel', 0.5108700394630432),\n",
       " ('Boys', 0.5039734244346619),\n",
       " ('FC', 0.4929969310760498),\n",
       " ('Derby', 0.4896453022956848),\n",
       " ('Erstligist', 0.4839061200618744),\n",
       " ('GEC', 0.48362645506858826),\n",
       " ('Auftaktspiel', 0.4824848175048828)]"
      ]
     },
     "execution_count": 12,
     "metadata": {},
     "output_type": "execute_result"
    }
   ],
   "source": [
    "model_CH_1M.wv.most_similar(positive=[\"YB\", \"Eishockey\"], negative=[\"Fussball\"])"
   ]
  },
  {
   "cell_type": "code",
   "execution_count": 13,
   "id": "a96cdcc3aaa1a35f",
   "metadata": {
    "ExecuteTime": {
     "end_time": "2023-11-02T15:51:28.545340300Z",
     "start_time": "2023-11-02T15:51:28.533314100Z"
    },
    "collapsed": false,
    "jupyter": {
     "outputs_hidden": false
    }
   },
   "outputs": [
    {
     "data": {
      "text/plain": [
       "'Arosa'"
      ]
     },
     "execution_count": 13,
     "metadata": {},
     "output_type": "execute_result"
    }
   ],
   "source": [
    "model_CH_1M.wv.doesnt_match([\"Arosa\", \"Basel\", \"Bern\"])"
   ]
  },
  {
   "cell_type": "code",
   "execution_count": 14,
   "id": "f8ab5e6ec3b66e3a",
   "metadata": {
    "ExecuteTime": {
     "end_time": "2023-11-02T15:51:43.403394600Z",
     "start_time": "2023-11-02T15:51:43.383423100Z"
    },
    "collapsed": false,
    "jupyter": {
     "outputs_hidden": false
    }
   },
   "outputs": [
    {
     "data": {
      "text/plain": [
       "[('FH', 0.5120584964752197),\n",
       " ('PH', 0.4928699731826782),\n",
       " ('Universität', 0.46924883127212524),\n",
       " ('Biomedizinische', 0.4565017521381378),\n",
       " ('Heilpädagogik', 0.44456326961517334),\n",
       " ('HFT', 0.44266173243522644),\n",
       " ('Islamwissenschaft', 0.44161832332611084),\n",
       " ('HES-SO', 0.43409883975982666),\n",
       " ('(EHB)', 0.43162572383880615),\n",
       " ('Erdwissenschaften', 0.4312538206577301)]"
      ]
     },
     "execution_count": 14,
     "metadata": {},
     "output_type": "execute_result"
    }
   ],
   "source": [
    "model_CH_1M.wv.most_similar(positive=[\"ETH\", \"Graubünden\"], negative=[\"Zürich\"])"
   ]
  },
  {
   "cell_type": "code",
   "execution_count": null,
   "id": "b36cf9482fab0983",
   "metadata": {
    "collapsed": false,
    "jupyter": {
     "outputs_hidden": false
    }
   },
   "outputs": [],
   "source": []
  }
 ],
 "metadata": {
  "kernelspec": {
   "display_name": "venv",
   "language": "python",
   "name": "venv"
  },
  "language_info": {
   "codemirror_mode": {
    "name": "ipython",
    "version": 3
   },
   "file_extension": ".py",
   "mimetype": "text/x-python",
   "name": "python",
   "nbconvert_exporter": "python",
   "pygments_lexer": "ipython3",
   "version": "3.11.7"
  }
 },
 "nbformat": 4,
 "nbformat_minor": 5
}
