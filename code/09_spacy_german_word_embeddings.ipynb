{
 "cells": [
  {
   "cell_type": "code",
   "execution_count": 1,
   "metadata": {
    "pycharm": {
     "name": "#%%\n"
    }
   },
   "outputs": [
    {
     "name": "stdout",
     "output_type": "stream",
     "text": [
      "\u001b[38;5;2m✔ Download and installation successful\u001b[0m\n",
      "You can now load the package via spacy.load('de_core_news_md')\n"
     ]
    }
   ],
   "source": [
    "import spacy\n",
    "\n",
    "spacy.cli.download(\"de_core_news_md\")  # oder _lg für grosses Modell"
   ]
  },
  {
   "cell_type": "code",
   "execution_count": 2,
   "metadata": {
    "collapsed": false,
    "jupyter": {
     "outputs_hidden": false
    },
    "pycharm": {
     "name": "#%%\n"
    }
   },
   "outputs": [
    {
     "name": "stderr",
     "output_type": "stream",
     "text": [
      "C:\\Users\\yhutter\\GitRepos\\fhgr-ta\\code\\venv\\Lib\\site-packages\\tqdm\\auto.py:21: TqdmWarning: IProgress not found. Please update jupyter and ipywidgets. See https://ipywidgets.readthedocs.io/en/stable/user_install.html\n",
      "  from .autonotebook import tqdm as notebook_tqdm\n",
      "C:\\Users\\yhutter\\GitRepos\\fhgr-ta\\code\\venv\\Lib\\site-packages\\transformers\\utils\\generic.py:441: UserWarning: torch.utils._pytree._register_pytree_node is deprecated. Please use torch.utils._pytree.register_pytree_node instead.\n",
      "  _torch_pytree._register_pytree_node(\n",
      "C:\\Users\\yhutter\\GitRepos\\fhgr-ta\\code\\venv\\Lib\\site-packages\\transformers\\utils\\generic.py:309: UserWarning: torch.utils._pytree._register_pytree_node is deprecated. Please use torch.utils._pytree.register_pytree_node instead.\n",
      "  _torch_pytree._register_pytree_node(\n"
     ]
    },
    {
     "name": "stdout",
     "output_type": "stream",
     "text": [
      "True\n",
      "True\n"
     ]
    }
   ],
   "source": [
    "nlp = spacy.load('de_core_news_md')\n",
    "\n",
    "dok = nlp(\"Universität und Fachhochschule sind sich ähnlich. Studenten und Blumenkohl nicht.\")\n",
    "\n",
    "uni = dok[0]\n",
    "fh = dok[2]\n",
    "\n",
    "#zur Sicherheit\n",
    "print(uni.has_vector)\n",
    "print(fh.has_vector)"
   ]
  },
  {
   "cell_type": "code",
   "execution_count": 3,
   "metadata": {
    "collapsed": false,
    "jupyter": {
     "outputs_hidden": false
    },
    "pycharm": {
     "name": "#%%\n"
    }
   },
   "outputs": [
    {
     "data": {
      "text/plain": [
       "0.7625132203102112"
      ]
     },
     "execution_count": 3,
     "metadata": {},
     "output_type": "execute_result"
    }
   ],
   "source": [
    "uni.similarity(fh)"
   ]
  },
  {
   "cell_type": "code",
   "execution_count": 5,
   "metadata": {
    "collapsed": false,
    "jupyter": {
     "outputs_hidden": false
    },
    "pycharm": {
     "name": "#%%\n"
    }
   },
   "outputs": [
    {
     "name": "stdout",
     "output_type": "stream",
     "text": [
      "True\n"
     ]
    },
    {
     "data": {
      "text/plain": [
       "0.07554483413696289"
      ]
     },
     "execution_count": 5,
     "metadata": {},
     "output_type": "execute_result"
    }
   ],
   "source": [
    "stud = dok[7]\n",
    "blum = dok[9]\n",
    "\n",
    "print(blum.has_vector)\n",
    "\n",
    "stud.similarity(blum)"
   ]
  },
  {
   "cell_type": "code",
   "execution_count": 6,
   "metadata": {
    "collapsed": false,
    "jupyter": {
     "outputs_hidden": false
    },
    "pycharm": {
     "name": "#%%\n"
    }
   },
   "outputs": [
    {
     "name": "stdout",
     "output_type": "stream",
     "text": [
      "Am ähnlichsten zu Blumenkohl sind: [('i.tr.', 0.5610805153846741), ('biol.', 0.2679746448993683), ('tägl.', 0.24842765927314758), ('tägl', 0.24842765927314758), ('ähnlich', 0.24624262750148773)]\n",
      "Am ähnlichsten zu Student sind: [('studenten', 0.6420350670814514), ('univ', 0.5433400273323059), ('jur.', 0.5411397218704224), ('b.sc.', 0.5019005537033081), ('b.a.', 0.5019005537033081)]\n",
      "Am ähnlichsten zu Fachhochschule sind: [('univ.', 0.7625132203102112), ('universität', 0.7625132203102112), ('abt.', 0.6067792177200317), ('b.sc.', 0.5304638743400574), ('b.a.', 0.5304638743400574)]\n"
     ]
    }
   ],
   "source": [
    "import numpy as np\n",
    "\n",
    "def most_similar(word, topn=5):\n",
    "    word = nlp.vocab[str(word)]# Liste von Wörtern mit Ähnlichkeiten usw.\n",
    "    queries = [\n",
    "        w for w in word.vocab\n",
    "        if w.prob >= -25 and np.count_nonzero(w.vector)\n",
    "    ] # nur solche Wörter nehmen, die über einer gewissen Schwelle liegen und nicht nur Nullen enthalten\n",
    "    by_similarity = sorted(queries, key=lambda w: word.similarity(w), reverse=True) #sortieren\n",
    "    return [(w.lower_, w.similarity(word)) for w in by_similarity[:topn+1] if w.lower_ != word.lower_] #druckbar aufbereiten: Paar aus Wort und Ähnlichkeitsmass\n",
    "\n",
    "for wort in [\"Blumenkohl\", \"Student\", \"Fachhochschule\"]:\n",
    "    print(f\"Am ähnlichsten zu {wort} sind: {most_similar(wort, topn=5)}\")"
   ]
  },
  {
   "cell_type": "markdown",
   "metadata": {
    "collapsed": false,
    "jupyter": {
     "outputs_hidden": false
    },
    "pycharm": {
     "name": "#%% md\n"
    }
   },
   "source": [
    "## Für ganze Sätze...\n",
    "\n",
    "(Schlagzeilen \"Blick\" vom 06.10.2022)"
   ]
  },
  {
   "cell_type": "code",
   "execution_count": 7,
   "metadata": {
    "collapsed": false,
    "jupyter": {
     "outputs_hidden": false
    },
    "pycharm": {
     "name": "#%%\n"
    }
   },
   "outputs": [
    {
     "name": "stderr",
     "output_type": "stream",
     "text": [
      "C:\\Users\\yhutter\\AppData\\Local\\Temp\\ipykernel_7752\\1572047642.py:1: DeprecationWarning: \n",
      "Pyarrow will become a required dependency of pandas in the next major release of pandas (pandas 3.0),\n",
      "(to allow more performant data types, such as the Arrow string type, and better interoperability with other libraries)\n",
      "but was not found to be installed on your system.\n",
      "If this would cause problems for you,\n",
      "please provide us feedback at https://github.com/pandas-dev/pandas/issues/54466\n",
      "        \n",
      "  import pandas\n"
     ]
    },
    {
     "data": {
      "text/html": [
       "<div>\n",
       "<style scoped>\n",
       "    .dataframe tbody tr th:only-of-type {\n",
       "        vertical-align: middle;\n",
       "    }\n",
       "\n",
       "    .dataframe tbody tr th {\n",
       "        vertical-align: top;\n",
       "    }\n",
       "\n",
       "    .dataframe thead th {\n",
       "        text-align: right;\n",
       "    }\n",
       "</style>\n",
       "<table border=\"1\" class=\"dataframe\">\n",
       "  <thead>\n",
       "    <tr style=\"text-align: right;\">\n",
       "      <th></th>\n",
       "      <th>0</th>\n",
       "      <th>1</th>\n",
       "      <th>2</th>\n",
       "      <th>3</th>\n",
       "      <th>4</th>\n",
       "      <th>5</th>\n",
       "      <th>6</th>\n",
       "      <th>7</th>\n",
       "      <th>8</th>\n",
       "      <th>9</th>\n",
       "      <th>10</th>\n",
       "      <th>11</th>\n",
       "      <th>12</th>\n",
       "      <th>13</th>\n",
       "    </tr>\n",
       "  </thead>\n",
       "  <tbody>\n",
       "    <tr>\n",
       "      <th>0</th>\n",
       "      <td>1.000000</td>\n",
       "      <td>0.395553</td>\n",
       "      <td>0.312715</td>\n",
       "      <td>0.289470</td>\n",
       "      <td>0.271375</td>\n",
       "      <td>0.099344</td>\n",
       "      <td>0.239892</td>\n",
       "      <td>0.258239</td>\n",
       "      <td>0.247062</td>\n",
       "      <td>0.366869</td>\n",
       "      <td>0.322885</td>\n",
       "      <td>0.229572</td>\n",
       "      <td>0.258874</td>\n",
       "      <td>0.322950</td>\n",
       "    </tr>\n",
       "    <tr>\n",
       "      <th>1</th>\n",
       "      <td>0.395553</td>\n",
       "      <td>1.000000</td>\n",
       "      <td>0.468611</td>\n",
       "      <td>0.289724</td>\n",
       "      <td>0.522609</td>\n",
       "      <td>0.221215</td>\n",
       "      <td>0.585938</td>\n",
       "      <td>0.409845</td>\n",
       "      <td>0.247565</td>\n",
       "      <td>0.384669</td>\n",
       "      <td>0.397441</td>\n",
       "      <td>0.233980</td>\n",
       "      <td>0.273177</td>\n",
       "      <td>0.175357</td>\n",
       "    </tr>\n",
       "    <tr>\n",
       "      <th>2</th>\n",
       "      <td>0.312715</td>\n",
       "      <td>0.468611</td>\n",
       "      <td>1.000000</td>\n",
       "      <td>0.206396</td>\n",
       "      <td>0.640072</td>\n",
       "      <td>0.205099</td>\n",
       "      <td>0.404833</td>\n",
       "      <td>0.571491</td>\n",
       "      <td>0.268880</td>\n",
       "      <td>0.539788</td>\n",
       "      <td>0.452391</td>\n",
       "      <td>0.236551</td>\n",
       "      <td>0.294569</td>\n",
       "      <td>0.238216</td>\n",
       "    </tr>\n",
       "    <tr>\n",
       "      <th>3</th>\n",
       "      <td>0.289470</td>\n",
       "      <td>0.289724</td>\n",
       "      <td>0.206396</td>\n",
       "      <td>1.000000</td>\n",
       "      <td>0.310510</td>\n",
       "      <td>0.161174</td>\n",
       "      <td>0.229435</td>\n",
       "      <td>0.357084</td>\n",
       "      <td>0.177425</td>\n",
       "      <td>0.260760</td>\n",
       "      <td>0.263719</td>\n",
       "      <td>0.176408</td>\n",
       "      <td>0.551274</td>\n",
       "      <td>0.170099</td>\n",
       "    </tr>\n",
       "    <tr>\n",
       "      <th>4</th>\n",
       "      <td>0.271375</td>\n",
       "      <td>0.522609</td>\n",
       "      <td>0.640072</td>\n",
       "      <td>0.310510</td>\n",
       "      <td>1.000000</td>\n",
       "      <td>0.265342</td>\n",
       "      <td>0.416491</td>\n",
       "      <td>0.533535</td>\n",
       "      <td>0.241342</td>\n",
       "      <td>0.605127</td>\n",
       "      <td>0.568671</td>\n",
       "      <td>0.220040</td>\n",
       "      <td>0.349421</td>\n",
       "      <td>0.110519</td>\n",
       "    </tr>\n",
       "    <tr>\n",
       "      <th>5</th>\n",
       "      <td>0.099344</td>\n",
       "      <td>0.221215</td>\n",
       "      <td>0.205099</td>\n",
       "      <td>0.161174</td>\n",
       "      <td>0.265342</td>\n",
       "      <td>1.000000</td>\n",
       "      <td>0.403946</td>\n",
       "      <td>0.117091</td>\n",
       "      <td>0.111605</td>\n",
       "      <td>0.202589</td>\n",
       "      <td>0.243845</td>\n",
       "      <td>0.057647</td>\n",
       "      <td>0.274202</td>\n",
       "      <td>0.133035</td>\n",
       "    </tr>\n",
       "    <tr>\n",
       "      <th>6</th>\n",
       "      <td>0.239892</td>\n",
       "      <td>0.585938</td>\n",
       "      <td>0.404833</td>\n",
       "      <td>0.229435</td>\n",
       "      <td>0.416491</td>\n",
       "      <td>0.403946</td>\n",
       "      <td>1.000000</td>\n",
       "      <td>0.329751</td>\n",
       "      <td>0.170449</td>\n",
       "      <td>0.407615</td>\n",
       "      <td>0.296125</td>\n",
       "      <td>0.134321</td>\n",
       "      <td>0.292485</td>\n",
       "      <td>0.233866</td>\n",
       "    </tr>\n",
       "    <tr>\n",
       "      <th>7</th>\n",
       "      <td>0.258239</td>\n",
       "      <td>0.409845</td>\n",
       "      <td>0.571491</td>\n",
       "      <td>0.357084</td>\n",
       "      <td>0.533535</td>\n",
       "      <td>0.117091</td>\n",
       "      <td>0.329751</td>\n",
       "      <td>1.000000</td>\n",
       "      <td>0.383608</td>\n",
       "      <td>0.468215</td>\n",
       "      <td>0.299122</td>\n",
       "      <td>0.470761</td>\n",
       "      <td>0.419675</td>\n",
       "      <td>0.093876</td>\n",
       "    </tr>\n",
       "    <tr>\n",
       "      <th>8</th>\n",
       "      <td>0.247062</td>\n",
       "      <td>0.247565</td>\n",
       "      <td>0.268880</td>\n",
       "      <td>0.177425</td>\n",
       "      <td>0.241342</td>\n",
       "      <td>0.111605</td>\n",
       "      <td>0.170449</td>\n",
       "      <td>0.383608</td>\n",
       "      <td>1.000000</td>\n",
       "      <td>0.307867</td>\n",
       "      <td>0.190154</td>\n",
       "      <td>0.882280</td>\n",
       "      <td>0.399968</td>\n",
       "      <td>0.109937</td>\n",
       "    </tr>\n",
       "    <tr>\n",
       "      <th>9</th>\n",
       "      <td>0.366869</td>\n",
       "      <td>0.384669</td>\n",
       "      <td>0.539788</td>\n",
       "      <td>0.260760</td>\n",
       "      <td>0.605127</td>\n",
       "      <td>0.202589</td>\n",
       "      <td>0.407615</td>\n",
       "      <td>0.468215</td>\n",
       "      <td>0.307867</td>\n",
       "      <td>1.000000</td>\n",
       "      <td>0.533563</td>\n",
       "      <td>0.245251</td>\n",
       "      <td>0.278854</td>\n",
       "      <td>0.155141</td>\n",
       "    </tr>\n",
       "    <tr>\n",
       "      <th>10</th>\n",
       "      <td>0.322885</td>\n",
       "      <td>0.397441</td>\n",
       "      <td>0.452391</td>\n",
       "      <td>0.263719</td>\n",
       "      <td>0.568671</td>\n",
       "      <td>0.243845</td>\n",
       "      <td>0.296125</td>\n",
       "      <td>0.299122</td>\n",
       "      <td>0.190154</td>\n",
       "      <td>0.533563</td>\n",
       "      <td>1.000000</td>\n",
       "      <td>0.158832</td>\n",
       "      <td>0.217928</td>\n",
       "      <td>0.159180</td>\n",
       "    </tr>\n",
       "    <tr>\n",
       "      <th>11</th>\n",
       "      <td>0.229572</td>\n",
       "      <td>0.233980</td>\n",
       "      <td>0.236551</td>\n",
       "      <td>0.176408</td>\n",
       "      <td>0.220040</td>\n",
       "      <td>0.057647</td>\n",
       "      <td>0.134321</td>\n",
       "      <td>0.470761</td>\n",
       "      <td>0.882280</td>\n",
       "      <td>0.245251</td>\n",
       "      <td>0.158832</td>\n",
       "      <td>1.000000</td>\n",
       "      <td>0.383060</td>\n",
       "      <td>0.071620</td>\n",
       "    </tr>\n",
       "    <tr>\n",
       "      <th>12</th>\n",
       "      <td>0.258874</td>\n",
       "      <td>0.273177</td>\n",
       "      <td>0.294569</td>\n",
       "      <td>0.551274</td>\n",
       "      <td>0.349421</td>\n",
       "      <td>0.274202</td>\n",
       "      <td>0.292485</td>\n",
       "      <td>0.419675</td>\n",
       "      <td>0.399968</td>\n",
       "      <td>0.278854</td>\n",
       "      <td>0.217928</td>\n",
       "      <td>0.383060</td>\n",
       "      <td>1.000000</td>\n",
       "      <td>0.194696</td>\n",
       "    </tr>\n",
       "    <tr>\n",
       "      <th>13</th>\n",
       "      <td>0.322950</td>\n",
       "      <td>0.175357</td>\n",
       "      <td>0.238216</td>\n",
       "      <td>0.170099</td>\n",
       "      <td>0.110519</td>\n",
       "      <td>0.133035</td>\n",
       "      <td>0.233866</td>\n",
       "      <td>0.093876</td>\n",
       "      <td>0.109937</td>\n",
       "      <td>0.155141</td>\n",
       "      <td>0.159180</td>\n",
       "      <td>0.071620</td>\n",
       "      <td>0.194696</td>\n",
       "      <td>1.000000</td>\n",
       "    </tr>\n",
       "  </tbody>\n",
       "</table>\n",
       "</div>"
      ],
      "text/plain": [
       "          0         1         2         3         4         5         6   \\\n",
       "0   1.000000  0.395553  0.312715  0.289470  0.271375  0.099344  0.239892   \n",
       "1   0.395553  1.000000  0.468611  0.289724  0.522609  0.221215  0.585938   \n",
       "2   0.312715  0.468611  1.000000  0.206396  0.640072  0.205099  0.404833   \n",
       "3   0.289470  0.289724  0.206396  1.000000  0.310510  0.161174  0.229435   \n",
       "4   0.271375  0.522609  0.640072  0.310510  1.000000  0.265342  0.416491   \n",
       "5   0.099344  0.221215  0.205099  0.161174  0.265342  1.000000  0.403946   \n",
       "6   0.239892  0.585938  0.404833  0.229435  0.416491  0.403946  1.000000   \n",
       "7   0.258239  0.409845  0.571491  0.357084  0.533535  0.117091  0.329751   \n",
       "8   0.247062  0.247565  0.268880  0.177425  0.241342  0.111605  0.170449   \n",
       "9   0.366869  0.384669  0.539788  0.260760  0.605127  0.202589  0.407615   \n",
       "10  0.322885  0.397441  0.452391  0.263719  0.568671  0.243845  0.296125   \n",
       "11  0.229572  0.233980  0.236551  0.176408  0.220040  0.057647  0.134321   \n",
       "12  0.258874  0.273177  0.294569  0.551274  0.349421  0.274202  0.292485   \n",
       "13  0.322950  0.175357  0.238216  0.170099  0.110519  0.133035  0.233866   \n",
       "\n",
       "          7         8         9         10        11        12        13  \n",
       "0   0.258239  0.247062  0.366869  0.322885  0.229572  0.258874  0.322950  \n",
       "1   0.409845  0.247565  0.384669  0.397441  0.233980  0.273177  0.175357  \n",
       "2   0.571491  0.268880  0.539788  0.452391  0.236551  0.294569  0.238216  \n",
       "3   0.357084  0.177425  0.260760  0.263719  0.176408  0.551274  0.170099  \n",
       "4   0.533535  0.241342  0.605127  0.568671  0.220040  0.349421  0.110519  \n",
       "5   0.117091  0.111605  0.202589  0.243845  0.057647  0.274202  0.133035  \n",
       "6   0.329751  0.170449  0.407615  0.296125  0.134321  0.292485  0.233866  \n",
       "7   1.000000  0.383608  0.468215  0.299122  0.470761  0.419675  0.093876  \n",
       "8   0.383608  1.000000  0.307867  0.190154  0.882280  0.399968  0.109937  \n",
       "9   0.468215  0.307867  1.000000  0.533563  0.245251  0.278854  0.155141  \n",
       "10  0.299122  0.190154  0.533563  1.000000  0.158832  0.217928  0.159180  \n",
       "11  0.470761  0.882280  0.245251  0.158832  1.000000  0.383060  0.071620  \n",
       "12  0.419675  0.399968  0.278854  0.217928  0.383060  1.000000  0.194696  \n",
       "13  0.093876  0.109937  0.155141  0.159180  0.071620  0.194696  1.000000  "
      ]
     },
     "execution_count": 7,
     "metadata": {},
     "output_type": "execute_result"
    }
   ],
   "source": [
    "import pandas\n",
    "\n",
    "Satz1 = \"Russland steht am Dnipro vor strategischem Dilemma\"\n",
    "Satz2 = \"Borrell fordert Ende der Gewalt\"\n",
    "Satz3 = \"Hier ergeben sich russische Soldaten in Cherson\"\n",
    "Satz4 = \"Skandal-Brasserie Lorraine verweigert SVP den Service\"\n",
    "Satz5 = \"Frustrierte Russen Soldaten schimpfen über ihre Versorgung\"\n",
    "Satz6 = \"Gasindustrie wirbt für Gasspeicher\"\n",
    "Satz7 = \"Anteil der Wärmepumpen wächst\"\n",
    "Satz8 = \"Leverkusen-Stars verabschieden sich emotional von Seoane\"\n",
    "Satz9 = \"Sevilla entlässt Trainer\"\n",
    "Satz10 = \"Autofahrer fährt Blinden an und flüchtet\"\n",
    "Satz11 = \"Aktivisten blockieren Autobahn\"\n",
    "Satz12 = \"Leverkusen entlässt Trainer Seoane\"\n",
    "Satz13 = \"Experte Mark Iten macht den Energie-Check\"\n",
    "Satz14 = \"Wanderin bleibt im Entlebuch im Schlamm stecken\"\n",
    "\n",
    "nlp1 = nlp(Satz1)\n",
    "nlp2 = nlp(Satz2)\n",
    "nlp3 = nlp(Satz3)\n",
    "nlp4 = nlp(Satz4)\n",
    "nlp5 = nlp(Satz5)\n",
    "nlp6 = nlp(Satz6)\n",
    "nlp7 = nlp(Satz7)\n",
    "nlp8 = nlp(Satz8)\n",
    "nlp9 = nlp(Satz9)\n",
    "nlp10 = nlp(Satz10)\n",
    "nlp11 = nlp(Satz11)\n",
    "nlp12 = nlp(Satz12)\n",
    "nlp13 = nlp(Satz13)\n",
    "nlp14 = nlp(Satz14)\n",
    "\n",
    "saetze = [Satz1, Satz2, Satz3, Satz4, Satz5, Satz6, Satz7, Satz8, Satz9, Satz10, Satz11, Satz12, Satz13, Satz14]\n",
    "nlps = [nlp1, nlp2, nlp3, nlp4, nlp5, nlp6, nlp7, nlp8, nlp9, nlp10, nlp11, nlp12, nlp13, nlp14]\n",
    "\n",
    "aehnlich = []\n",
    "#Achtung, doppelte Arbeit!\n",
    "for satznlp1 in nlps:\n",
    "    aehnlich_zeile = []\n",
    "    for satznlp2 in nlps:\n",
    "        aehnlich_zeile.append(satznlp1.similarity(satznlp2))\n",
    "    aehnlich.append(aehnlich_zeile)\n",
    "\n",
    "aehnlich_df = pandas.DataFrame(aehnlich)\n",
    "aehnlich_df"
   ]
  },
  {
   "cell_type": "code",
   "execution_count": 8,
   "metadata": {
    "collapsed": false,
    "jupyter": {
     "outputs_hidden": false
    },
    "pycharm": {
     "name": "#%%\n"
    }
   },
   "outputs": [
    {
     "data": {
      "text/plain": [
       "0     0.395553\n",
       "1     0.585938\n",
       "2     0.640072\n",
       "3     0.551274\n",
       "4     0.640072\n",
       "5     0.403946\n",
       "6     0.585938\n",
       "7     0.571491\n",
       "8     0.882280\n",
       "9     0.605127\n",
       "10    0.568671\n",
       "11    0.882280\n",
       "12    0.551274\n",
       "13    0.322950\n",
       "dtype: float64"
      ]
     },
     "execution_count": 8,
     "metadata": {},
     "output_type": "execute_result"
    }
   ],
   "source": [
    "#hohe Übereinstimmungen suchen - also grosse Werte unter 1 ...\n",
    "\n",
    "#Vektor mit Max-Wert pro Zeile (aber < 1)\n",
    "max_zeile = aehnlich_df[aehnlich_df < 1].max()\n",
    "max_zeile"
   ]
  },
  {
   "cell_type": "code",
   "execution_count": 9,
   "metadata": {
    "collapsed": false,
    "jupyter": {
     "outputs_hidden": false
    },
    "pycharm": {
     "name": "#%%\n"
    }
   },
   "outputs": [
    {
     "name": "stdout",
     "output_type": "stream",
     "text": [
      "Leverkusen entlässt Trainer Seoane\n",
      "Sevilla entlässt Trainer\n"
     ]
    }
   ],
   "source": [
    "#am ähnlichsten\n",
    "\n",
    "print(Satz12)\n",
    "print(Satz9)"
   ]
  },
  {
   "cell_type": "code",
   "execution_count": 10,
   "metadata": {
    "collapsed": false,
    "jupyter": {
     "outputs_hidden": false
    },
    "pycharm": {
     "name": "#%%\n"
    }
   },
   "outputs": [
    {
     "name": "stdout",
     "output_type": "stream",
     "text": [
      "Hier ergeben sich russische Soldaten in Cherson\n",
      "Frustrierte Russen Soldaten schimpfen über ihre Versorgung\n"
     ]
    }
   ],
   "source": [
    "print(Satz3)\n",
    "print(Satz5)"
   ]
  },
  {
   "cell_type": "code",
   "execution_count": null,
   "metadata": {
    "collapsed": false,
    "jupyter": {
     "outputs_hidden": false
    }
   },
   "outputs": [],
   "source": []
  }
 ],
 "metadata": {
  "kernelspec": {
   "display_name": "venv",
   "language": "python",
   "name": "venv"
  },
  "language_info": {
   "codemirror_mode": {
    "name": "ipython",
    "version": 3
   },
   "file_extension": ".py",
   "mimetype": "text/x-python",
   "name": "python",
   "nbconvert_exporter": "python",
   "pygments_lexer": "ipython3",
   "version": "3.11.7"
  }
 },
 "nbformat": 4,
 "nbformat_minor": 4
}
